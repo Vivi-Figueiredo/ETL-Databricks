{
 "cells": [
  {
   "cell_type": "markdown",
   "metadata": {
    "application/vnd.databricks.v1+cell": {
     "cellMetadata": {
      "byteLimit": 2048000,
      "rowLimit": 10000
     },
     "inputWidgets": {},
     "nuid": "bf137db8-fc6d-474e-af19-3c8de1ec02df",
     "showTitle": true,
     "tableResultSettingsMap": {},
     "title": ""
    }
   },
   "source": [
    "###Extração de Dados via API e ETL no Databricks."
   ]
  },
  {
   "cell_type": "markdown",
   "metadata": {
    "application/vnd.databricks.v1+cell": {
     "cellMetadata": {},
     "inputWidgets": {},
     "nuid": "44de313b-83a9-49bc-a393-f1adef75adb2",
     "showTitle": false,
     "tableResultSettingsMap": {},
     "title": ""
    }
   },
   "source": [
    "1. Extraindo a partir de uma API as informações sobre alguns livros do escritor Stephen King."
   ]
  },
  {
   "cell_type": "code",
   "execution_count": 0,
   "metadata": {
    "application/vnd.databricks.v1+cell": {
     "cellMetadata": {
      "byteLimit": 2048000,
      "rowLimit": 10000
     },
     "inputWidgets": {},
     "nuid": "70560d6c-b299-457b-8f89-b1b43a25f2fa",
     "showTitle": false,
     "tableResultSettingsMap": {},
     "title": ""
    }
   },
   "outputs": [
    {
     "output_type": "stream",
     "name": "stdout",
     "output_type": "stream",
     "text": [
      "Requirement already satisfied: requests in /databricks/python3/lib/python3.9/site-packages (2.27.1)\r\nRequirement already satisfied: charset-normalizer~=2.0.0 in /databricks/python3/lib/python3.9/site-packages (from requests) (2.0.4)\r\nRequirement already satisfied: idna<4,>=2.5 in /databricks/python3/lib/python3.9/site-packages (from requests) (3.3)\r\nRequirement already satisfied: certifi>=2017.4.17 in /databricks/python3/lib/python3.9/site-packages (from requests) (2021.10.8)\r\nRequirement already satisfied: urllib3<1.27,>=1.21.1 in /databricks/python3/lib/python3.9/site-packages (from requests) (1.26.9)\r\n\u001B[33mWARNING: You are using pip version 21.2.4; however, version 25.0.1 is available.\r\nYou should consider upgrading via the '/local_disk0/.ephemeral_nfs/envs/pythonEnv-d48ccceb-2110-48f1-b25b-02e1f6cca857/bin/python -m pip install --upgrade pip' command.\u001B[0m\r\n"
     ]
    }
   ],
   "source": [
    "#Instalando o pacote requests para fazer requisição para a API.\n",
    "!pip install requests "
   ]
  },
  {
   "cell_type": "code",
   "execution_count": 0,
   "metadata": {
    "application/vnd.databricks.v1+cell": {
     "cellMetadata": {
      "byteLimit": 2048000,
      "rowLimit": 10000
     },
     "inputWidgets": {},
     "nuid": "dcfeb955-bd30-4c8a-be56-5571cd118388",
     "showTitle": false,
     "tableResultSettingsMap": {},
     "title": ""
    }
   },
   "outputs": [
    {
     "output_type": "stream",
     "name": "stdout",
     "output_type": "stream",
     "text": [
      "<Response [200]>\n"
     ]
    }
   ],
   "source": [
    "# Importa a biblioteca requests, que permite fazer requisicoes HTTP (como GET, POST, etc.) para acessar APIs e paginas da web.\n",
    "import requests\n",
    "\n",
    "# Aqui definimos a URL da API que sera consultada. Essa API contam informações sobre alguns livros de Stephen King.\n",
    "url = \"https://stephen-king-api.onrender.com/api/books\"\n",
    "\n",
    "# Fazendo a requisicao para a API. Aqui se faz uma requisicao HTTP GET para a URL definida, buscando os dados da API. O resultado (resposta do servidor) e armazenado na variavel response.\n",
    "response = requests.get(url)\n",
    "\n",
    "# Aqui e retornado se nossa aquisicao ocorreu com sucesso (200). Caso contrario aparece 404.\n",
    "print(response) "
   ]
  },
  {
   "cell_type": "code",
   "execution_count": 0,
   "metadata": {
    "application/vnd.databricks.v1+cell": {
     "cellMetadata": {
      "byteLimit": 2048000,
      "rowLimit": 10000
     },
     "inputWidgets": {},
     "nuid": "c7ddb6cf-4c7d-43f4-b49a-20380bfe33af",
     "showTitle": false,
     "tableResultSettingsMap": {},
     "title": ""
    }
   },
   "outputs": [
    {
     "output_type": "display_data",
     "data": {
      "text/html": [
       "<style scoped>\n",
       "  .table-result-container {\n",
       "    max-height: 300px;\n",
       "    overflow: auto;\n",
       "  }\n",
       "  table, th, td {\n",
       "    border: 1px solid black;\n",
       "    border-collapse: collapse;\n",
       "  }\n",
       "  th, td {\n",
       "    padding: 5px;\n",
       "  }\n",
       "  th {\n",
       "    text-align: left;\n",
       "  }\n",
       "</style><div class='table-result-container'><table class='table-result'><thead style='background-color: white'><tr><th>ISBN</th><th>Notes</th><th>Pages</th><th>Publisher</th><th>Title</th><th>Year</th><th>created_at</th><th>handle</th><th>id</th><th>villains</th></tr></thead><tbody><tr><td>978-0-385-08695-0</td><td>List()</td><td>199</td><td>Doubleday</td><td>Carrie</td><td>1974</td><td>2023-11-13T23:48:47.848Z</td><td>carrie</td><td>1</td><td>List(Map(name -> Tina Blake, url -> https://stephen-king-api.onrender.com/api/villain/4), Map(name -> Cindi, url -> https://stephen-king-api.onrender.com/api/villain/14), Map(name -> Myra Crewes, url -> https://stephen-king-api.onrender.com/api/villain/16), Map(name -> Billy deLois, url -> https://stephen-king-api.onrender.com/api/villain/25), Map(name -> Kenny Garson, url -> https://stephen-king-api.onrender.com/api/villain/38), Map(name -> Mary Lila Grace, url -> https://stephen-king-api.onrender.com/api/villain/44), Map(name -> Christine Hargensen, url -> https://stephen-king-api.onrender.com/api/villain/49), Map(name -> Vic Mooney, url -> https://stephen-king-api.onrender.com/api/villain/75), Map(name -> The Mortimer Snerds, url -> https://stephen-king-api.onrender.com/api/villain/77), Map(name -> Billy Nolan, url -> https://stephen-king-api.onrender.com/api/villain/80), Map(name -> Elenor Richmond, url -> https://stephen-king-api.onrender.com/api/villain/90), Map(name -> Rachel Spies, url -> https://stephen-king-api.onrender.com/api/villain/94), Map(name -> Jackie Talbot, url -> https://stephen-king-api.onrender.com/api/villain/99), Map(name -> Donna and Mary Lila Grace Thibodeau, url -> https://stephen-king-api.onrender.com/api/villain/102), Map(name -> Jessica Upshaw, url -> https://stephen-king-api.onrender.com/api/villain/108), Map(name -> Norma Watson, url -> https://stephen-king-api.onrender.com/api/villain/109), Map(name -> Margaret White, url -> https://stephen-king-api.onrender.com/api/villain/113))</td></tr><tr><td>978-0-385-00751-1</td><td>List(Nominee, World Fantasy Award, 1976[2])</td><td>439</td><td>Doubleday</td><td>Salem's Lot</td><td>1975</td><td>2023-11-13T23:48:48.098Z</td><td>salem-s-lot</td><td>2</td><td>List(Map(name -> Kurt Barlow, url -> https://stephen-king-api.onrender.com/api/villain/2), Map(name -> Richard Straker, url -> https://stephen-king-api.onrender.com/api/villain/98))</td></tr><tr><td>978-0-385-12167-5</td><td>List(Runner-up (4th place), Locus Award for Best Fantasy Novel, 1978[2])</td><td>447</td><td>Doubleday</td><td>The Shining</td><td>1977</td><td>2023-11-13T23:48:48.219Z</td><td>the-shining</td><td>3</td><td>List(Map(name -> Horace M. Derwent, url -> https://stephen-king-api.onrender.com/api/villain/26), Map(name -> Delbert Grady, url -> https://stephen-king-api.onrender.com/api/villain/45), Map(name -> Jack Torrance, url -> https://stephen-king-api.onrender.com/api/villain/106))</td></tr><tr><td>978-0-451-07645-8</td><td>List(Published under pseudonym Richard Bachman)</td><td>211</td><td>Signet Books</td><td>Rage</td><td>1977</td><td>2023-11-13T23:48:48.339Z</td><td>rage</td><td>4</td><td>List()</td></tr><tr><td>978-0-385-12168-2</td><td>List(Nominee, World Fantasy Award, 1979, Runner-up (15th place), Locus Award, 1979[2])</td><td>823</td><td>Doubleday</td><td>The Stand</td><td>1978</td><td>2023-11-13T23:48:48.477Z</td><td>the-stand</td><td>5</td><td>List(Map(name -> Donald Merwin Elbert, url -> https://stephen-king-api.onrender.com/api/villain/34), Map(name -> Randall Flagg, url -> https://stephen-king-api.onrender.com/api/villain/37), Map(name -> Lloyd Henreid, url -> https://stephen-king-api.onrender.com/api/villain/51), Map(name -> The Kid, url -> https://stephen-king-api.onrender.com/api/villain/62), Map(name -> Harold Lauder, url -> https://stephen-king-api.onrender.com/api/villain/64), Map(name -> Rat Man, url -> https://stephen-king-api.onrender.com/api/villain/87))</td></tr><tr><td>978-0-451-08754-6</td><td>List(Published under pseudonym Richard Bachman)</td><td>384</td><td>Signet Books</td><td>The Long Walk</td><td>1979</td><td>2023-11-13T23:48:48.608Z</td><td>the-long-walk</td><td>6</td><td>List(Map(name -> Randall Flagg, url -> https://stephen-king-api.onrender.com/api/villain/37), Map(name -> The Major, url -> https://stephen-king-api.onrender.com/api/villain/70))</td></tr><tr><td>978-0-670-26077-5</td><td>List(Runner-up (2nd place), Locus Award for Best Fantasy Novel, 1980[2])</td><td>428</td><td>Viking Press</td><td>The Dead Zone</td><td>1979</td><td>2023-11-13T23:48:48.753Z</td><td>the-dead-zone</td><td>7</td><td>List(Map(name -> Frank Dodd, url -> https://stephen-king-api.onrender.com/api/villain/29), Map(name -> Henrietta Dodd, url -> https://stephen-king-api.onrender.com/api/villain/30), Map(name -> Malcolm Janus, url -> https://stephen-king-api.onrender.com/api/villain/71), Map(name -> Sonny Elliman, url -> https://stephen-king-api.onrender.com/api/villain/93), Map(name -> Greg Stillson, url -> https://stephen-king-api.onrender.com/api/villain/97), Map(name -> The Devil's Dozen, url -> https://stephen-king-api.onrender.com/api/villain/100))</td></tr><tr><td>978-0-670-31541-3</td><td>List(Nominee, British Fantasy Award’s August Derleth Award, 1981, Runner-up (8th place), Locus Award for Best Science Fiction Novel, 1981[2])</td><td>426</td><td>Viking Press</td><td>Firestarter</td><td>1980</td><td>2023-11-13T23:48:48.876Z</td><td>firestarter</td><td>8</td><td>List(Map(name -> James Hollister, url -> https://stephen-king-api.onrender.com/api/villain/54), Map(name -> Charlie McGee, url -> https://stephen-king-api.onrender.com/api/villain/73), Map(name -> John Rainbird, url -> https://stephen-king-api.onrender.com/api/villain/86))</td></tr><tr><td>978-0-451-09668-5</td><td>List(Published under pseudonym Richard Bachman)</td><td>274</td><td>Signet Books</td><td>Roadwork</td><td>1981</td><td>2023-11-13T23:48:49.005Z</td><td>roadwork</td><td>9</td><td>List()</td></tr><tr><td>978-0-670-45193-7</td><td>List(Winner, British Fantasy Award’s August Derleth Award, 1982, Runner-up (21st place), Locus Award for Best Fantasy Novel, 1982[2])</td><td>319</td><td>Viking Press</td><td>Cujo</td><td>1981</td><td>2023-11-13T23:48:49.131Z</td><td>cujo</td><td>10</td><td>List(Map(name -> Cujo, url -> https://stephen-king-api.onrender.com/api/villain/19))</td></tr><tr><td>978-0-451-11508-9</td><td>List(Published under pseudonym Richard Bachman)</td><td>219</td><td>Signet Books</td><td>The Running Man</td><td>1982</td><td>2023-11-13T23:48:49.252Z</td><td>the-running-man</td><td>11</td><td>List(Map(name -> The Gladiators, url -> https://stephen-king-api.onrender.com/api/villain/42), Map(name -> Damon Killian, url -> https://stephen-king-api.onrender.com/api/villain/63))</td></tr><tr><td>978-0-937986-50-9</td><td>List()</td><td>224</td><td>Grant</td><td>The Dark Tower: The Gunslinger</td><td>1982</td><td>2023-11-13T23:48:49.374Z</td><td>the-dark-tower-the-gunslinger</td><td>12</td><td>List(Map(name -> Marten Broadcloak, url -> https://stephen-king-api.onrender.com/api/villain/10), Map(name -> Crimson King, url -> https://stephen-king-api.onrender.com/api/villain/17), Map(name -> Randall Flagg, url -> https://stephen-king-api.onrender.com/api/villain/37), Map(name -> Sylvia Pittston, url -> https://stephen-king-api.onrender.com/api/villain/84))</td></tr><tr><td>978-0-670-22026-7</td><td>List(Runner-up (6th place), Locus Award for Best Fantasy Novel, 1984[2])</td><td>526</td><td>Viking</td><td>Christine</td><td>1983</td><td>2023-11-13T23:48:49.505Z</td><td>christine</td><td>13</td><td>List(Map(name -> Christine (car), url -> https://stephen-king-api.onrender.com/api/villain/11), Map(name -> Arnie Cunningham, url -> https://stephen-king-api.onrender.com/api/villain/20))</td></tr><tr><td>978-0-385-18244-7</td><td>List(Nominee, World Fantasy Award, 1984, Runner-up (7th place), Locus Award for Best Fantasy Novel, 1984[2])</td><td>374</td><td>Doubleday</td><td>Pet Sematary</td><td>1983</td><td>2023-11-13T23:48:49.637Z</td><td>pet-sematary</td><td>14</td><td>List(Map(name -> Winston Church, url -> https://stephen-king-api.onrender.com/api/villain/13), Map(name -> Gage Creed, url -> https://stephen-king-api.onrender.com/api/villain/15), Map(name -> Victor Pascow, url -> https://stephen-king-api.onrender.com/api/villain/83), Map(name -> Wendigo, url -> https://stephen-king-api.onrender.com/api/villain/110))</td></tr><tr><td>978-0-960-38282-8</td><td>List(Illustrated by Bernie Wrightson)</td><td>127</td><td>Land of Enchantment</td><td>Cycle of the Werewolf</td><td>1983</td><td>2023-11-13T23:48:49.757Z</td><td>cycle-of-the-werewolf</td><td>15</td><td>List(Map(name -> Lester Lowe, url -> https://stephen-king-api.onrender.com/api/villain/68))</td></tr><tr><td>978-0-670-69199-9</td><td>List(Written with Peter Straub, Nominee, World Fantasy Award, 1985, Runner-up (4th place), Locus Award for Best Fantasy Novel, 1985[2])</td><td>646</td><td>Viking</td><td>The Talisman</td><td>1984</td><td>2023-11-13T23:48:49.872Z</td><td>the-talisman</td><td>16</td><td>List()</td></tr><tr><td>978-0-670-81458-9</td><td>List(First published as a limited edition in 1984, then for the mass market in 1987)</td><td>326</td><td>Philtrum Press (1984)Viking (1987)</td><td>The Eyes of the Dragon</td><td>1984</td><td>2023-11-13T23:48:49.988Z</td><td>the-eyes-of-the-dragon</td><td>17</td><td>List(Map(name -> Randall Flagg, url -> https://stephen-king-api.onrender.com/api/villain/37))</td></tr><tr><td>978-0-453-00468-8</td><td>List(Published under pseudonym Richard Bachman)</td><td>309</td><td>NAL</td><td>Thinner</td><td>1984</td><td>2023-11-13T23:48:50.102Z</td><td>thinner</td><td>18</td><td>List()</td></tr><tr><td>978-0-670-81302-5</td><td>List(Winner, British Fantasy Award’s August Derleth Award, 1987, Nominee, World Fantasy Award, 1987, Runner-up (3rd place), Locus Award for Best Fantasy Novel, 1987[2])</td><td>1138</td><td>Viking</td><td>It</td><td>1986</td><td>2023-11-13T23:48:50.223Z</td><td>it</td><td>19</td><td>List(Map(name -> Henry Bowers, url -> https://stephen-king-api.onrender.com/api/villain/7), Map(name -> Butch Bowers, url -> https://stephen-king-api.onrender.com/api/villain/8), Map(name -> Greta Bowie, url -> https://stephen-king-api.onrender.com/api/villain/9), Map(name -> Victor Criss, url -> https://stephen-king-api.onrender.com/api/villain/18), Map(name -> Marcia Fadden, url -> https://stephen-king-api.onrender.com/api/villain/35), Map(name -> John Garton, url -> https://stephen-king-api.onrender.com/api/villain/39), Map(name -> Peter Gordon, url -> https://stephen-king-api.onrender.com/api/villain/43), Map(name -> Patrick Hockstetter, url -> https://stephen-king-api.onrender.com/api/villain/53), Map(name -> Belch Huggins, url -> https://stephen-king-api.onrender.com/api/villain/55), Map(name -> It (Creature), url -> https://stephen-king-api.onrender.com/api/villain/57), Map(name -> Richard P. Macklin, url -> https://stephen-king-api.onrender.com/api/villain/69), Map(name -> Alvin Marsh, url -> https://stephen-king-api.onrender.com/api/villain/72), Map(name -> Sally Mueller, url -> https://stephen-king-api.onrender.com/api/villain/79), Map(name -> Tom Rogan, url -> https://stephen-king-api.onrender.com/api/villain/91), Map(name -> Christopher Unwin, url -> https://stephen-king-api.onrender.com/api/villain/107))</td></tr><tr><td>978-0-937986-90-5</td><td>List(Runner-up (16th place), Locus Award for Best Fantasy Novel, 1988[2])</td><td>400</td><td>Grant</td><td>The Dark Tower II: The Drawing of the Three</td><td>1987</td><td>2023-11-13T23:48:50.339Z</td><td>the-dark-tower-ii-the-drawing-of-the-three</td><td>20</td><td>List(Map(name -> Jack Mort, url -> https://stephen-king-api.onrender.com/api/villain/76))</td></tr><tr><td>978-0-670-81364-3</td><td>List(Winner, Bram Stoker Award, 1988, Nominee, World Fantasy Award, 1988[2])</td><td>310</td><td>Viking</td><td>Misery</td><td>1987</td><td>2023-11-13T23:48:50.459Z</td><td>misery</td><td>21</td><td>List(Map(name -> Annie Wilkes, url -> https://stephen-king-api.onrender.com/api/villain/114))</td></tr><tr><td>978-0-399-13314-5</td><td>List(Runner-up (16th place), Locus Award for Best Science Fiction Novel, 1988[2])</td><td>558</td><td>Putnam</td><td>The Tommyknockers</td><td>1987</td><td>2023-11-13T23:48:50.579Z</td><td>the-tommyknockers</td><td>22</td><td>List(Map(name -> Tommyknockers, url -> https://stephen-king-api.onrender.com/api/villain/104))</td></tr><tr><td>978-0-670-82982-8</td><td>List(Runner-up (2nd place), Locus Award for Best Horror Novel, 1990[2])</td><td>431</td><td>Viking</td><td>The Dark Half</td><td>1989</td><td>2023-11-13T23:48:50.696Z</td><td>the-dark-half</td><td>23</td><td>List(Map(name -> George Stark, url -> https://stephen-king-api.onrender.com/api/villain/96))</td></tr><tr><td>978-0-385-19957-5</td><td>List(The Complete & Uncut Edition, Runner-up (2nd place), Locus Award's Best Horror/Dark Fantasy Novel, 1991[2])</td><td>1152</td><td>Doubleday</td><td>The Stand Uncut</td><td>1990</td><td>2023-11-13T23:48:50.809Z</td><td>the-stand-uncut</td><td>24</td><td>List()</td></tr><tr><td>978-0-937986-17-2</td><td>List(Nominee, Bram Stoker Award, 1992, Runner-up (3rd place), Locus Award for Best Horror/Dark Fantasy Novel, 1992[2])</td><td>512</td><td>Grant</td><td>The Dark Tower III: The Waste Lands</td><td>1991</td><td>2023-11-13T23:48:50.926Z</td><td>the-dark-tower-iii-the-waste-lands</td><td>25</td><td>List(Map(name -> Blaine the Mono, url -> https://stephen-king-api.onrender.com/api/villain/3), Map(name -> Randall Flagg, url -> https://stephen-king-api.onrender.com/api/villain/37))</td></tr><tr><td>978-0-670-83953-7</td><td>List(Nominee, Bram Stoker Award, 1992, Runner-up (13th place), Locus Award for Best Horror/Dark Fantasy Novel, 1992[2])</td><td>690</td><td>Viking</td><td>Needful Things</td><td>1991</td><td>2023-11-13T23:48:51.044Z</td><td>needful-things</td><td>26</td><td>List(Map(name -> Leland Gaunt, url -> https://stephen-king-api.onrender.com/api/villain/40))</td></tr><tr><td>978-0-670-84650-4</td><td>List()</td><td>352</td><td>Viking</td><td>Gerald's Game</td><td>1992</td><td>2023-11-13T23:48:51.165Z</td><td>gerald-s-game</td><td>27</td><td>List(Map(name -> Gerald Burlingame, url -> https://stephen-king-api.onrender.com/api/villain/41), Map(name -> Raymond Andrew Joubert, url -> https://stephen-king-api.onrender.com/api/villain/61), Map(name -> Tom Mahout, url -> https://stephen-king-api.onrender.com/api/villain/103))</td></tr><tr><td>978-0-670-84452-4</td><td>List(Runner-up (14th place), Locus Award for Best Horror/Dark Fantasy Novel, 1993[2])</td><td>305</td><td>Viking</td><td>Dolores Claiborne</td><td>1992</td><td>2023-11-13T23:48:51.295Z</td><td>dolores-claiborne</td><td>28</td><td>List(Map(name -> Joe St. George, url -> https://stephen-king-api.onrender.com/api/villain/95))</td></tr><tr><td>978-0-670-85503-2</td><td>List(Nominee, Bram Stoker Award, 1995, Runner-up (3rd place), Locus Award for Best Fantasy/Horror Novel, 1995[2])</td><td>787</td><td>Viking</td><td>Insomnia</td><td>1994</td><td>2023-11-13T23:48:51.415Z</td><td>insomnia</td><td>29</td><td>List(Map(name -> Crimson King, url -> https://stephen-king-api.onrender.com/api/villain/17), Map(name -> Susan Day, url -> https://stephen-king-api.onrender.com/api/villain/23))</td></tr><tr><td>978-0-670-85869-9</td><td>List(Runner-up (3rd place), Locus Award for Best Horror/Dark Fantasy Novel, 1995[2])</td><td>420</td><td>Viking</td><td>Rose Madder</td><td>1995</td><td>2023-11-13T23:48:51.533Z</td><td>rose-madder</td><td>30</td><td>List(Map(name -> Norman Daniels, url -> https://stephen-king-api.onrender.com/api/villain/22), Map(name -> Susan Day, url -> https://stephen-king-api.onrender.com/api/villain/23))</td></tr><tr><td>978-0-451-19049-9978-0-451-19052-9978-0-451-19054-3978-0-451-19055-0978-0-451-19056-7978-0-451-19057-4</td><td>List(Winner, Bram Stoker Award, 1997, Runner-up (8th place), Locus Award for Best Horror/Dark Fantasy Novel, 1997[2])</td><td>400</td><td>Signet Books</td><td>The Green Mile</td><td>1996</td><td>2023-11-13T23:48:51.660Z</td><td>the-green-mile</td><td>31</td><td>List(Map(name -> Percy Wetmore, url -> https://stephen-king-api.onrender.com/api/villain/111), Map(name -> William Wharton, url -> https://stephen-king-api.onrender.com/api/villain/112))</td></tr><tr><td>978-0-670-86836-0</td><td>List(Twin novel of The Regulators, Winner, Locus Award for Best Horror/Dark Fantasy Novel, 1997[2])</td><td>704</td><td>Viking</td><td>Desperation</td><td>1996</td><td>2023-11-13T23:48:51.784Z</td><td>desperation</td><td>32</td><td>List()</td></tr><tr><td>978-0-525-94190-3</td><td>List(Published under pseudonym Richard Bachman, Twin novel of Desperation)</td><td>480</td><td>Dutton</td><td>The Regulators</td><td>1996</td><td>2023-11-13T23:48:51.900Z</td><td>the-regulators</td><td>33</td><td>List()</td></tr><tr><td>978-1-880418-38-3</td><td>List(Runner-up (4th place), Locus Award for Best Fantasy Novel, 1998, Runner-up (6th place), Locus Award for Best Art Book, 1998[2])</td><td>787</td><td>Grant</td><td>The Dark Tower IV: Wizard and Glass</td><td>1997</td><td>2023-11-13T23:48:52.019Z</td><td>the-dark-tower-iv-wizard-and-glass</td><td>34</td><td>List(Map(name -> Blaine the Mono, url -> https://stephen-king-api.onrender.com/api/villain/3), Map(name -> Cordelia Delgado, url -> https://stephen-king-api.onrender.com/api/villain/24), Map(name -> Rhea Dubativo, url -> https://stephen-king-api.onrender.com/api/villain/32), Map(name -> John Farson, url -> https://stephen-king-api.onrender.com/api/villain/36), Map(name -> Randall Flagg, url -> https://stephen-king-api.onrender.com/api/villain/37), Map(name -> Eldred Jonas, url -> https://stephen-king-api.onrender.com/api/villain/60))</td></tr><tr><td>978-0-684-85350-5</td><td>List(Winner, Bram Stoker Award, 1999, Winner, British Fantasy Award’s August Derleth Award, 1999, Winner, Locus Award for Best Dark Fantasy/Horror Novel, 1999[2])</td><td>529</td><td>Scribner</td><td>Bag of Bones</td><td>1998</td><td>2023-11-13T23:48:52.137Z</td><td>bag-of-bones</td><td>35</td><td>List()</td></tr><tr><td>978-0-684-86762-5</td><td>List()</td><td>224</td><td>Scribner</td><td>The Girl Who Loved Tom Gordon</td><td>1999</td><td>2023-11-13T23:48:52.251Z</td><td>the-girl-who-loved-tom-gordon</td><td>36</td><td>List()</td></tr><tr><td>978-0-743-21138-3</td><td>List()</td><td>620</td><td>Scribner</td><td>Dreamcatcher</td><td>2001</td><td>2023-11-13T23:48:52.368Z</td><td>dreamcatcher</td><td>37</td><td>List()</td></tr><tr><td>978-0-375-50439-6</td><td>List(Sequel to The Talisman, Written with Peter Straub, Nominee, Bram Stoker Award, 2002, Runner-up (7th place), Locus Award for Best Fantasy Novel, 2002[2])</td><td>625</td><td>Random House</td><td>Black House</td><td>2001</td><td>2023-11-13T23:48:52.483Z</td><td>black-house</td><td>38</td><td>List(Map(name -> Crimson King, url -> https://stephen-king-api.onrender.com/api/villain/17))</td></tr><tr><td>978-0-743-21137-6</td><td>List(Nominee, Bram Stoker Award, 2003)</td><td>368</td><td>Scribner</td><td>From a Buick 8</td><td>2002</td><td>2023-11-13T23:48:52.604Z</td><td>from-a-buick-8</td><td>39</td><td>List(Map(name -> Brian Lippy, url -> https://stephen-king-api.onrender.com/api/villain/66))</td></tr><tr><td>978-1-880-41856-7</td><td>List(Nominee, Bram Stoker Award, 2004, Runner-up (4th place), Locus Award for Best Fantasy Novel, 2004[2])</td><td>714</td><td>Grant</td><td>The Dark Tower V: Wolves of the Calla</td><td>2003</td><td>2023-11-13T23:48:52.735Z</td><td>the-dark-tower-v-wolves-of-the-calla</td><td>40</td><td>List()</td></tr><tr><td>978-1-880-41859-8</td><td>List(Runner-up (4th place), Locus Award for Best Fantasy Novel, 2005)</td><td>432</td><td>Grant</td><td>The Dark Tower VI: Song of Susannah</td><td>2004</td><td>2023-11-13T23:48:52.856Z</td><td>the-dark-tower-vi-song-of-susannah</td><td>41</td><td>List()</td></tr><tr><td>Grant</td><td>List(Winner, British Fantasy Award's August Derleth Award, 2005, Nominee, Bram Stoker Award, 2005[2])</td><td>845</td><td>978-1-880-41862-8</td><td>The Dark Tower VII: The Dark Tower</td><td>2004</td><td>2023-11-13T23:48:53.001Z</td><td>the-dark-tower-vii-the-dark-tower</td><td>42</td><td>List(Map(name -> Crimson King, url -> https://stephen-king-api.onrender.com/api/villain/17), Map(name -> Dandelo, url -> https://stephen-king-api.onrender.com/api/villain/21), Map(name -> Mordred Deschain, url -> https://stephen-king-api.onrender.com/api/villain/27), Map(name -> Randall Flagg, url -> https://stephen-king-api.onrender.com/api/villain/37))</td></tr><tr><td>978-0-843-95584-2</td><td>List()</td><td>184</td><td>Hard Case Crime</td><td>The Colorado Kid</td><td>2005</td><td>2023-11-13T23:48:53.124Z</td><td>the-colorado-kid</td><td>43</td><td>List()</td></tr><tr><td>978-0-743-29233-7</td><td>List()</td><td>351</td><td>Scribner</td><td>Cell</td><td>2006</td><td>2023-11-13T23:48:53.244Z</td><td>cell</td><td>44</td><td>List(Map(name -> The Raggedy Man, url -> https://stephen-king-api.onrender.com/api/villain/85))</td></tr><tr><td>978-0-743-28941-2</td><td>List(Winner, Bram Stoker Award, 2007, Nominee, World Fantasy Award, 2007, Runner-up (10th place), Locus Award for Best Fantasy Novel, 2007[2])</td><td>528</td><td>Scribner</td><td>Lisey's Story</td><td>2006</td><td>2023-11-13T23:48:53.382Z</td><td>lisey-s-story</td><td>45</td><td>List()</td></tr><tr><td>978-1-416-55484-4</td><td>List(Published under pseudonym Richard Bachman)</td><td>304</td><td>Scribner</td><td>Blaze</td><td>2007</td><td>2023-11-13T23:48:53.504Z</td><td>blaze</td><td>46</td><td>List()</td></tr><tr><td>978-1-416-55251-2</td><td>List(Winner, Bram Stoker Award,  2009[2])</td><td>607</td><td>Scribner</td><td>Duma Key</td><td>2008</td><td>2023-11-13T23:48:53.622Z</td><td>duma-key</td><td>47</td><td>List()</td></tr><tr><td>978-1-439-14850-1</td><td>List(Nominee, British Fantasy Award's August Derleth Award, 2010, Runner-up (7th place), Locus Award for Best Science Fiction Novel, 2010[2])</td><td>1074</td><td>Scribner</td><td>Under the Dome</td><td>2009</td><td>2023-11-13T23:48:53.748Z</td><td>under-the-dome</td><td>48</td><td>List(Map(name -> Jim Rennie, Jr., url -> https://stephen-king-api.onrender.com/api/villain/88), Map(name -> Jim Rennie, url -> https://stephen-king-api.onrender.com/api/villain/89), Map(name -> Carter Thibodeau, url -> https://stephen-king-api.onrender.com/api/villain/101))</td></tr><tr><td>978-1-451-62728-2</td><td>List(Nominee, British Fantasy Award, 2012, Nominee, World Fantasy Award, 2012, Runner-up (2nd place), Locus Award for Best Science Fiction Novel, 2012[2])</td><td>849</td><td>Scribner</td><td>11/22/63</td><td>2011</td><td>2023-11-13T23:48:53.869Z</td><td>11-22-63</td><td>49</td><td>List()</td></tr><tr><td>978-1-880-41876-5</td><td>List(The eighth Dark Tower novel, but chronologically set between the fourth and fifth volumes.)</td><td>336</td><td>Grant</td><td>The Dark Tower: The Wind Through the Keyhole</td><td>2012</td><td>2023-11-13T23:48:53.984Z</td><td>the-dark-tower-the-wind-through-the-keyhole</td><td>50</td><td>List()</td></tr><tr><td>978-1-781-16264-4</td><td>List(Nominee, Edgar Award for Best Paperback Original, 2014[3], Runner-up (11th place), Locus Award for Best Fantasy Novel, 2014[2])</td><td>288</td><td>Hard Case Crime</td><td>Joyland</td><td>2013</td><td>2023-11-13T23:48:54.117Z</td><td>joyland</td><td>51</td><td>List(Map(name -> Lane Hardy, url -> https://stephen-king-api.onrender.com/api/villain/48))</td></tr><tr><td>978-1-476-72765-3</td><td>List(Sequel to The Shining, Winner, Bram Stoker Award, 2014, Runner-up (5th place), Locus Award for Best Fantasy Novel, 2014[2])</td><td>531</td><td>Scribner</td><td>Doctor Sleep</td><td>2013</td><td>2023-11-13T23:48:54.259Z</td><td>doctor-sleep</td><td>52</td><td>List(Map(name -> Rose the Hat, url -> https://stephen-king-api.onrender.com/api/villain/31))</td></tr><tr><td>978-1-476-75445-1</td><td>List(First novel in the Bill Hodges Trilogy, Winner, Edgar Award for Best Novel, 2015[3])</td><td>436</td><td>Scribner</td><td>Mr. Mercedes</td><td>2014</td><td>2023-11-13T23:48:54.379Z</td><td>mr-mercedes</td><td>53</td><td>List(Map(name -> Brady Hartsfield, url -> https://stephen-king-api.onrender.com/api/villain/50))</td></tr><tr><td>978-1-476-77038-3</td><td>List(Runner-up (8th place), Locus Award for Best Fantasy Novel, 2015[2])</td><td>403</td><td>Scribner</td><td>Revival</td><td>2014</td><td>2023-11-13T23:48:54.494Z</td><td>revival</td><td>54</td><td>List(Map(name -> Mother of the Null, url -> https://stephen-king-api.onrender.com/api/villain/78))</td></tr><tr><td>978-1-501-10007-9</td><td>List(Second novel in the Bill Hodges Trilogy.)</td><td>434</td><td>Scribner</td><td>Finders Keepers</td><td>2015</td><td>2023-11-13T23:48:54.614Z</td><td>finders-keepers</td><td>55</td><td>List(Map(name -> Brady Hartsfield, url -> https://stephen-king-api.onrender.com/api/villain/50))</td></tr><tr><td>978-1-501-12974-2</td><td>List(Third novel in the Bill Hodges Trilogy.)</td><td>496</td><td>Scribner</td><td>End of Watch</td><td>2016</td><td>2023-11-13T23:48:54.730Z</td><td>end-of-watch</td><td>56</td><td>List(Map(name -> Brady Hartsfield, url -> https://stephen-king-api.onrender.com/api/villain/50))</td></tr><tr><td>978-1-58767-610-9</td><td>List(Written with Richard Chizmar)</td><td>175</td><td>Cemetery Dance Publications</td><td>Gwendy's Button Box</td><td>2017</td><td>2023-11-13T23:48:54.850Z</td><td>gwendy-s-button-box</td><td>57</td><td>List()</td></tr><tr><td>978-1-50116-340-1</td><td>List(Written with Owen King, Nominee, Bram Stoker Award, 2018[2])</td><td>702</td><td>Scribner</td><td>Sleeping Beauties</td><td>2017</td><td>2023-11-13T23:48:54.973Z</td><td>sleeping-beauties</td><td>58</td><td>List()</td></tr><tr><td>978-1-50118-098-9</td><td>List(First novel in the Holly Gibney Series, Runner-up (2nd place), Locus Award for Best Horror Novel, 2019[2])</td><td>576</td><td>Scribner</td><td>The Outsider</td><td>2018</td><td>2023-11-13T23:48:55.165Z</td><td>the-outsider</td><td>59</td><td>List(Map(name -> The Outsider (Creature), url -> https://stephen-king-api.onrender.com/api/villain/82))</td></tr><tr><td>978-1-98210-231-9</td><td>List()</td><td>144</td><td>Scribner</td><td>Elevation</td><td>2018</td><td>2023-11-13T23:48:55.291Z</td><td>elevation</td><td>60</td><td>List()</td></tr><tr><td>978-1-98211-056-7</td><td>List(Nominee, British Fantasy Award's August Derleth Award, 2020, Runner-up (3rd place), Locus Award for Best Horror Novel, 2020[2])</td><td>576</td><td>Scribner</td><td>The Institute</td><td>2019</td><td>2023-11-13T23:48:55.457Z</td><td>the-institute</td><td>61</td><td>List(Map(name -> Gladys Hickson, url -> https://stephen-king-api.onrender.com/api/villain/52))</td></tr><tr><td>978-1-78909-649-1</td><td>List()</td><td>256</td><td>Hard Case Crime</td><td>Later</td><td>2021</td><td>2023-11-13T23:48:55.579Z</td><td>later</td><td>62</td><td>List()</td></tr><tr><td>978-1-982-17361-6</td><td>List()</td><td>528</td><td>Scribner</td><td>Billy Summers</td><td>2021</td><td>2023-11-13T23:48:55.753Z</td><td>billy-summers</td><td>63</td><td>List()</td></tr></tbody></table></div>"
      ]
     },
     "metadata": {
      "application/vnd.databricks.v1+output": {
       "addedWidgets": {},
       "aggData": [],
       "aggError": "",
       "aggOverflow": false,
       "aggSchema": [],
       "aggSeriesLimitReached": false,
       "aggType": "",
       "arguments": {},
       "columnCustomDisplayInfos": {},
       "data": [
        [
         "978-0-385-08695-0",
         [
          ""
         ],
         199,
         "Doubleday",
         "Carrie",
         1974,
         "2023-11-13T23:48:47.848Z",
         "carrie",
         1,
         [
          {
           "name": "Tina Blake",
           "url": "https://stephen-king-api.onrender.com/api/villain/4"
          },
          {
           "name": "Cindi",
           "url": "https://stephen-king-api.onrender.com/api/villain/14"
          },
          {
           "name": "Myra Crewes",
           "url": "https://stephen-king-api.onrender.com/api/villain/16"
          },
          {
           "name": "Billy deLois",
           "url": "https://stephen-king-api.onrender.com/api/villain/25"
          },
          {
           "name": "Kenny Garson",
           "url": "https://stephen-king-api.onrender.com/api/villain/38"
          },
          {
           "name": "Mary Lila Grace",
           "url": "https://stephen-king-api.onrender.com/api/villain/44"
          },
          {
           "name": "Christine Hargensen",
           "url": "https://stephen-king-api.onrender.com/api/villain/49"
          },
          {
           "name": "Vic Mooney",
           "url": "https://stephen-king-api.onrender.com/api/villain/75"
          },
          {
           "name": "The Mortimer Snerds",
           "url": "https://stephen-king-api.onrender.com/api/villain/77"
          },
          {
           "name": "Billy Nolan",
           "url": "https://stephen-king-api.onrender.com/api/villain/80"
          },
          {
           "name": "Elenor Richmond",
           "url": "https://stephen-king-api.onrender.com/api/villain/90"
          },
          {
           "name": "Rachel Spies",
           "url": "https://stephen-king-api.onrender.com/api/villain/94"
          },
          {
           "name": "Jackie Talbot",
           "url": "https://stephen-king-api.onrender.com/api/villain/99"
          },
          {
           "name": "Donna and Mary Lila Grace Thibodeau",
           "url": "https://stephen-king-api.onrender.com/api/villain/102"
          },
          {
           "name": "Jessica Upshaw",
           "url": "https://stephen-king-api.onrender.com/api/villain/108"
          },
          {
           "name": "Norma Watson",
           "url": "https://stephen-king-api.onrender.com/api/villain/109"
          },
          {
           "name": "Margaret White",
           "url": "https://stephen-king-api.onrender.com/api/villain/113"
          }
         ]
        ],
        [
         "978-0-385-00751-1",
         [
          "Nominee, World Fantasy Award, 1976[2]"
         ],
         439,
         "Doubleday",
         "Salem's Lot",
         1975,
         "2023-11-13T23:48:48.098Z",
         "salem-s-lot",
         2,
         [
          {
           "name": "Kurt Barlow",
           "url": "https://stephen-king-api.onrender.com/api/villain/2"
          },
          {
           "name": "Richard Straker",
           "url": "https://stephen-king-api.onrender.com/api/villain/98"
          }
         ]
        ],
        [
         "978-0-385-12167-5",
         [
          "Runner-up (4th place), Locus Award for Best Fantasy Novel, 1978[2]"
         ],
         447,
         "Doubleday",
         "The Shining",
         1977,
         "2023-11-13T23:48:48.219Z",
         "the-shining",
         3,
         [
          {
           "name": "Horace M. Derwent",
           "url": "https://stephen-king-api.onrender.com/api/villain/26"
          },
          {
           "name": "Delbert Grady",
           "url": "https://stephen-king-api.onrender.com/api/villain/45"
          },
          {
           "name": "Jack Torrance",
           "url": "https://stephen-king-api.onrender.com/api/villain/106"
          }
         ]
        ],
        [
         "978-0-451-07645-8",
         [
          "Published under pseudonym Richard Bachman"
         ],
         211,
         "Signet Books",
         "Rage",
         1977,
         "2023-11-13T23:48:48.339Z",
         "rage",
         4,
         []
        ],
        [
         "978-0-385-12168-2",
         [
          "Nominee, World Fantasy Award, 1979",
          "Runner-up (15th place), Locus Award, 1979[2]"
         ],
         823,
         "Doubleday",
         "The Stand",
         1978,
         "2023-11-13T23:48:48.477Z",
         "the-stand",
         5,
         [
          {
           "name": "Donald Merwin Elbert",
           "url": "https://stephen-king-api.onrender.com/api/villain/34"
          },
          {
           "name": "Randall Flagg",
           "url": "https://stephen-king-api.onrender.com/api/villain/37"
          },
          {
           "name": "Lloyd Henreid",
           "url": "https://stephen-king-api.onrender.com/api/villain/51"
          },
          {
           "name": "The Kid",
           "url": "https://stephen-king-api.onrender.com/api/villain/62"
          },
          {
           "name": "Harold Lauder",
           "url": "https://stephen-king-api.onrender.com/api/villain/64"
          },
          {
           "name": "Rat Man",
           "url": "https://stephen-king-api.onrender.com/api/villain/87"
          }
         ]
        ],
        [
         "978-0-451-08754-6",
         [
          "Published under pseudonym Richard Bachman"
         ],
         384,
         "Signet Books",
         "The Long Walk",
         1979,
         "2023-11-13T23:48:48.608Z",
         "the-long-walk",
         6,
         [
          {
           "name": "Randall Flagg",
           "url": "https://stephen-king-api.onrender.com/api/villain/37"
          },
          {
           "name": "The Major",
           "url": "https://stephen-king-api.onrender.com/api/villain/70"
          }
         ]
        ],
        [
         "978-0-670-26077-5",
         [
          "Runner-up (2nd place), Locus Award for Best Fantasy Novel, 1980[2]"
         ],
         428,
         "Viking Press",
         "The Dead Zone",
         1979,
         "2023-11-13T23:48:48.753Z",
         "the-dead-zone",
         7,
         [
          {
           "name": "Frank Dodd",
           "url": "https://stephen-king-api.onrender.com/api/villain/29"
          },
          {
           "name": "Henrietta Dodd",
           "url": "https://stephen-king-api.onrender.com/api/villain/30"
          },
          {
           "name": "Malcolm Janus",
           "url": "https://stephen-king-api.onrender.com/api/villain/71"
          },
          {
           "name": "Sonny Elliman",
           "url": "https://stephen-king-api.onrender.com/api/villain/93"
          },
          {
           "name": "Greg Stillson",
           "url": "https://stephen-king-api.onrender.com/api/villain/97"
          },
          {
           "name": "The Devil's Dozen",
           "url": "https://stephen-king-api.onrender.com/api/villain/100"
          }
         ]
        ],
        [
         "978-0-670-31541-3",
         [
          "Nominee, British Fantasy Award’s August Derleth Award, 1981",
          "Runner-up (8th place), Locus Award for Best Science Fiction Novel, 1981[2]"
         ],
         426,
         "Viking Press",
         "Firestarter",
         1980,
         "2023-11-13T23:48:48.876Z",
         "firestarter",
         8,
         [
          {
           "name": "James Hollister",
           "url": "https://stephen-king-api.onrender.com/api/villain/54"
          },
          {
           "name": "Charlie McGee",
           "url": "https://stephen-king-api.onrender.com/api/villain/73"
          },
          {
           "name": "John Rainbird",
           "url": "https://stephen-king-api.onrender.com/api/villain/86"
          }
         ]
        ],
        [
         "978-0-451-09668-5",
         [
          "Published under pseudonym Richard Bachman"
         ],
         274,
         "Signet Books",
         "Roadwork",
         1981,
         "2023-11-13T23:48:49.005Z",
         "roadwork",
         9,
         []
        ],
        [
         "978-0-670-45193-7",
         [
          "Winner, British Fantasy Award’s August Derleth Award, 1982",
          "Runner-up (21st place), Locus Award for Best Fantasy Novel, 1982[2]"
         ],
         319,
         "Viking Press",
         "Cujo",
         1981,
         "2023-11-13T23:48:49.131Z",
         "cujo",
         10,
         [
          {
           "name": "Cujo",
           "url": "https://stephen-king-api.onrender.com/api/villain/19"
          }
         ]
        ],
        [
         "978-0-451-11508-9",
         [
          "Published under pseudonym Richard Bachman"
         ],
         219,
         "Signet Books",
         "The Running Man",
         1982,
         "2023-11-13T23:48:49.252Z",
         "the-running-man",
         11,
         [
          {
           "name": "The Gladiators",
           "url": "https://stephen-king-api.onrender.com/api/villain/42"
          },
          {
           "name": "Damon Killian",
           "url": "https://stephen-king-api.onrender.com/api/villain/63"
          }
         ]
        ],
        [
         "978-0-937986-50-9",
         [
          ""
         ],
         224,
         "Grant",
         "The Dark Tower: The Gunslinger",
         1982,
         "2023-11-13T23:48:49.374Z",
         "the-dark-tower-the-gunslinger",
         12,
         [
          {
           "name": "Marten Broadcloak",
           "url": "https://stephen-king-api.onrender.com/api/villain/10"
          },
          {
           "name": "Crimson King",
           "url": "https://stephen-king-api.onrender.com/api/villain/17"
          },
          {
           "name": "Randall Flagg",
           "url": "https://stephen-king-api.onrender.com/api/villain/37"
          },
          {
           "name": "Sylvia Pittston",
           "url": "https://stephen-king-api.onrender.com/api/villain/84"
          }
         ]
        ],
        [
         "978-0-670-22026-7",
         [
          "Runner-up (6th place), Locus Award for Best Fantasy Novel, 1984[2]"
         ],
         526,
         "Viking",
         "Christine",
         1983,
         "2023-11-13T23:48:49.505Z",
         "christine",
         13,
         [
          {
           "name": "Christine (car)",
           "url": "https://stephen-king-api.onrender.com/api/villain/11"
          },
          {
           "name": "Arnie Cunningham",
           "url": "https://stephen-king-api.onrender.com/api/villain/20"
          }
         ]
        ],
        [
         "978-0-385-18244-7",
         [
          "Nominee, World Fantasy Award, 1984",
          "Runner-up (7th place), Locus Award for Best Fantasy Novel, 1984[2]"
         ],
         374,
         "Doubleday",
         "Pet Sematary",
         1983,
         "2023-11-13T23:48:49.637Z",
         "pet-sematary",
         14,
         [
          {
           "name": "Winston Church",
           "url": "https://stephen-king-api.onrender.com/api/villain/13"
          },
          {
           "name": "Gage Creed",
           "url": "https://stephen-king-api.onrender.com/api/villain/15"
          },
          {
           "name": "Victor Pascow",
           "url": "https://stephen-king-api.onrender.com/api/villain/83"
          },
          {
           "name": "Wendigo",
           "url": "https://stephen-king-api.onrender.com/api/villain/110"
          }
         ]
        ],
        [
         "978-0-960-38282-8",
         [
          "Illustrated by Bernie Wrightson"
         ],
         127,
         "Land of Enchantment",
         "Cycle of the Werewolf",
         1983,
         "2023-11-13T23:48:49.757Z",
         "cycle-of-the-werewolf",
         15,
         [
          {
           "name": "Lester Lowe",
           "url": "https://stephen-king-api.onrender.com/api/villain/68"
          }
         ]
        ],
        [
         "978-0-670-69199-9",
         [
          "Written with Peter Straub",
          "Nominee, World Fantasy Award, 1985",
          "Runner-up (4th place), Locus Award for Best Fantasy Novel, 1985[2]"
         ],
         646,
         "Viking",
         "The Talisman",
         1984,
         "2023-11-13T23:48:49.872Z",
         "the-talisman",
         16,
         []
        ],
        [
         "978-0-670-81458-9",
         [
          "First published as a limited edition in 1984, then for the mass market in 1987"
         ],
         326,
         "Philtrum Press (1984)Viking (1987)",
         "The Eyes of the Dragon",
         1984,
         "2023-11-13T23:48:49.988Z",
         "the-eyes-of-the-dragon",
         17,
         [
          {
           "name": "Randall Flagg",
           "url": "https://stephen-king-api.onrender.com/api/villain/37"
          }
         ]
        ],
        [
         "978-0-453-00468-8",
         [
          "Published under pseudonym Richard Bachman"
         ],
         309,
         "NAL",
         "Thinner",
         1984,
         "2023-11-13T23:48:50.102Z",
         "thinner",
         18,
         []
        ],
        [
         "978-0-670-81302-5",
         [
          "Winner, British Fantasy Award’s August Derleth Award, 1987",
          "Nominee, World Fantasy Award, 1987",
          "Runner-up (3rd place), Locus Award for Best Fantasy Novel, 1987[2]"
         ],
         1138,
         "Viking",
         "It",
         1986,
         "2023-11-13T23:48:50.223Z",
         "it",
         19,
         [
          {
           "name": "Henry Bowers",
           "url": "https://stephen-king-api.onrender.com/api/villain/7"
          },
          {
           "name": "Butch Bowers",
           "url": "https://stephen-king-api.onrender.com/api/villain/8"
          },
          {
           "name": "Greta Bowie",
           "url": "https://stephen-king-api.onrender.com/api/villain/9"
          },
          {
           "name": "Victor Criss",
           "url": "https://stephen-king-api.onrender.com/api/villain/18"
          },
          {
           "name": "Marcia Fadden",
           "url": "https://stephen-king-api.onrender.com/api/villain/35"
          },
          {
           "name": "John Garton",
           "url": "https://stephen-king-api.onrender.com/api/villain/39"
          },
          {
           "name": "Peter Gordon",
           "url": "https://stephen-king-api.onrender.com/api/villain/43"
          },
          {
           "name": "Patrick Hockstetter",
           "url": "https://stephen-king-api.onrender.com/api/villain/53"
          },
          {
           "name": "Belch Huggins",
           "url": "https://stephen-king-api.onrender.com/api/villain/55"
          },
          {
           "name": "It (Creature)",
           "url": "https://stephen-king-api.onrender.com/api/villain/57"
          },
          {
           "name": "Richard P. Macklin",
           "url": "https://stephen-king-api.onrender.com/api/villain/69"
          },
          {
           "name": "Alvin Marsh",
           "url": "https://stephen-king-api.onrender.com/api/villain/72"
          },
          {
           "name": "Sally Mueller",
           "url": "https://stephen-king-api.onrender.com/api/villain/79"
          },
          {
           "name": "Tom Rogan",
           "url": "https://stephen-king-api.onrender.com/api/villain/91"
          },
          {
           "name": "Christopher Unwin",
           "url": "https://stephen-king-api.onrender.com/api/villain/107"
          }
         ]
        ],
        [
         "978-0-937986-90-5",
         [
          "Runner-up (16th place), Locus Award for Best Fantasy Novel, 1988[2]"
         ],
         400,
         "Grant",
         "The Dark Tower II: The Drawing of the Three",
         1987,
         "2023-11-13T23:48:50.339Z",
         "the-dark-tower-ii-the-drawing-of-the-three",
         20,
         [
          {
           "name": "Jack Mort",
           "url": "https://stephen-king-api.onrender.com/api/villain/76"
          }
         ]
        ],
        [
         "978-0-670-81364-3",
         [
          "Winner, Bram Stoker Award, 1988",
          "Nominee, World Fantasy Award, 1988[2]"
         ],
         310,
         "Viking",
         "Misery",
         1987,
         "2023-11-13T23:48:50.459Z",
         "misery",
         21,
         [
          {
           "name": "Annie Wilkes",
           "url": "https://stephen-king-api.onrender.com/api/villain/114"
          }
         ]
        ],
        [
         "978-0-399-13314-5",
         [
          "Runner-up (16th place), Locus Award for Best Science Fiction Novel, 1988[2]"
         ],
         558,
         "Putnam",
         "The Tommyknockers",
         1987,
         "2023-11-13T23:48:50.579Z",
         "the-tommyknockers",
         22,
         [
          {
           "name": "Tommyknockers",
           "url": "https://stephen-king-api.onrender.com/api/villain/104"
          }
         ]
        ],
        [
         "978-0-670-82982-8",
         [
          "Runner-up (2nd place), Locus Award for Best Horror Novel, 1990[2]"
         ],
         431,
         "Viking",
         "The Dark Half",
         1989,
         "2023-11-13T23:48:50.696Z",
         "the-dark-half",
         23,
         [
          {
           "name": "George Stark",
           "url": "https://stephen-king-api.onrender.com/api/villain/96"
          }
         ]
        ],
        [
         "978-0-385-19957-5",
         [
          "The Complete & Uncut Edition",
          "Runner-up (2nd place), Locus Award's Best Horror/Dark Fantasy Novel, 1991[2]"
         ],
         1152,
         "Doubleday",
         "The Stand Uncut",
         1990,
         "2023-11-13T23:48:50.809Z",
         "the-stand-uncut",
         24,
         []
        ],
        [
         "978-0-937986-17-2",
         [
          "Nominee, Bram Stoker Award, 1992",
          "Runner-up (3rd place), Locus Award for Best Horror/Dark Fantasy Novel, 1992[2]"
         ],
         512,
         "Grant",
         "The Dark Tower III: The Waste Lands",
         1991,
         "2023-11-13T23:48:50.926Z",
         "the-dark-tower-iii-the-waste-lands",
         25,
         [
          {
           "name": "Blaine the Mono",
           "url": "https://stephen-king-api.onrender.com/api/villain/3"
          },
          {
           "name": "Randall Flagg",
           "url": "https://stephen-king-api.onrender.com/api/villain/37"
          }
         ]
        ],
        [
         "978-0-670-83953-7",
         [
          "Nominee, Bram Stoker Award, 1992",
          "Runner-up (13th place), Locus Award for Best Horror/Dark Fantasy Novel, 1992[2]"
         ],
         690,
         "Viking",
         "Needful Things",
         1991,
         "2023-11-13T23:48:51.044Z",
         "needful-things",
         26,
         [
          {
           "name": "Leland Gaunt",
           "url": "https://stephen-king-api.onrender.com/api/villain/40"
          }
         ]
        ],
        [
         "978-0-670-84650-4",
         [],
         352,
         "Viking",
         "Gerald's Game",
         1992,
         "2023-11-13T23:48:51.165Z",
         "gerald-s-game",
         27,
         [
          {
           "name": "Gerald Burlingame",
           "url": "https://stephen-king-api.onrender.com/api/villain/41"
          },
          {
           "name": "Raymond Andrew Joubert",
           "url": "https://stephen-king-api.onrender.com/api/villain/61"
          },
          {
           "name": "Tom Mahout",
           "url": "https://stephen-king-api.onrender.com/api/villain/103"
          }
         ]
        ],
        [
         "978-0-670-84452-4",
         [
          "Runner-up (14th place), Locus Award for Best Horror/Dark Fantasy Novel, 1993[2]"
         ],
         305,
         "Viking",
         "Dolores Claiborne",
         1992,
         "2023-11-13T23:48:51.295Z",
         "dolores-claiborne",
         28,
         [
          {
           "name": "Joe St. George",
           "url": "https://stephen-king-api.onrender.com/api/villain/95"
          }
         ]
        ],
        [
         "978-0-670-85503-2",
         [
          "Nominee, Bram Stoker Award, 1995",
          "Runner-up (3rd place), Locus Award for Best Fantasy/Horror Novel, 1995[2]"
         ],
         787,
         "Viking",
         "Insomnia",
         1994,
         "2023-11-13T23:48:51.415Z",
         "insomnia",
         29,
         [
          {
           "name": "Crimson King",
           "url": "https://stephen-king-api.onrender.com/api/villain/17"
          },
          {
           "name": "Susan Day",
           "url": "https://stephen-king-api.onrender.com/api/villain/23"
          }
         ]
        ],
        [
         "978-0-670-85869-9",
         [
          "Runner-up (3rd place), Locus Award for Best Horror/Dark Fantasy Novel, 1995[2]"
         ],
         420,
         "Viking",
         "Rose Madder",
         1995,
         "2023-11-13T23:48:51.533Z",
         "rose-madder",
         30,
         [
          {
           "name": "Norman Daniels",
           "url": "https://stephen-king-api.onrender.com/api/villain/22"
          },
          {
           "name": "Susan Day",
           "url": "https://stephen-king-api.onrender.com/api/villain/23"
          }
         ]
        ],
        [
         "978-0-451-19049-9978-0-451-19052-9978-0-451-19054-3978-0-451-19055-0978-0-451-19056-7978-0-451-19057-4",
         [
          "Winner, Bram Stoker Award, 1997",
          "Runner-up (8th place), Locus Award for Best Horror/Dark Fantasy Novel, 1997[2]"
         ],
         400,
         "Signet Books",
         "The Green Mile",
         1996,
         "2023-11-13T23:48:51.660Z",
         "the-green-mile",
         31,
         [
          {
           "name": "Percy Wetmore",
           "url": "https://stephen-king-api.onrender.com/api/villain/111"
          },
          {
           "name": "William Wharton",
           "url": "https://stephen-king-api.onrender.com/api/villain/112"
          }
         ]
        ],
        [
         "978-0-670-86836-0",
         [
          "Twin novel of The Regulators",
          "Winner, Locus Award for Best Horror/Dark Fantasy Novel, 1997[2]"
         ],
         704,
         "Viking",
         "Desperation",
         1996,
         "2023-11-13T23:48:51.784Z",
         "desperation",
         32,
         []
        ],
        [
         "978-0-525-94190-3",
         [
          "Published under pseudonym Richard Bachman",
          "Twin novel of Desperation"
         ],
         480,
         "Dutton",
         "The Regulators",
         1996,
         "2023-11-13T23:48:51.900Z",
         "the-regulators",
         33,
         []
        ],
        [
         "978-1-880418-38-3",
         [
          "Runner-up (4th place), Locus Award for Best Fantasy Novel, 1998",
          "Runner-up (6th place), Locus Award for Best Art Book, 1998[2]"
         ],
         787,
         "Grant",
         "The Dark Tower IV: Wizard and Glass",
         1997,
         "2023-11-13T23:48:52.019Z",
         "the-dark-tower-iv-wizard-and-glass",
         34,
         [
          {
           "name": "Blaine the Mono",
           "url": "https://stephen-king-api.onrender.com/api/villain/3"
          },
          {
           "name": "Cordelia Delgado",
           "url": "https://stephen-king-api.onrender.com/api/villain/24"
          },
          {
           "name": "Rhea Dubativo",
           "url": "https://stephen-king-api.onrender.com/api/villain/32"
          },
          {
           "name": "John Farson",
           "url": "https://stephen-king-api.onrender.com/api/villain/36"
          },
          {
           "name": "Randall Flagg",
           "url": "https://stephen-king-api.onrender.com/api/villain/37"
          },
          {
           "name": "Eldred Jonas",
           "url": "https://stephen-king-api.onrender.com/api/villain/60"
          }
         ]
        ],
        [
         "978-0-684-85350-5",
         [
          "Winner, Bram Stoker Award, 1999",
          "Winner, British Fantasy Award’s August Derleth Award, 1999",
          "Winner, Locus Award for Best Dark Fantasy/Horror Novel, 1999[2]"
         ],
         529,
         "Scribner",
         "Bag of Bones",
         1998,
         "2023-11-13T23:48:52.137Z",
         "bag-of-bones",
         35,
         []
        ],
        [
         "978-0-684-86762-5",
         [],
         224,
         "Scribner",
         "The Girl Who Loved Tom Gordon",
         1999,
         "2023-11-13T23:48:52.251Z",
         "the-girl-who-loved-tom-gordon",
         36,
         []
        ],
        [
         "978-0-743-21138-3",
         [],
         620,
         "Scribner",
         "Dreamcatcher",
         2001,
         "2023-11-13T23:48:52.368Z",
         "dreamcatcher",
         37,
         []
        ],
        [
         "978-0-375-50439-6",
         [
          "Sequel to The Talisman",
          "Written with Peter Straub",
          "Nominee, Bram Stoker Award, 2002",
          "Runner-up (7th place), Locus Award for Best Fantasy Novel, 2002[2]"
         ],
         625,
         "Random House",
         "Black House",
         2001,
         "2023-11-13T23:48:52.483Z",
         "black-house",
         38,
         [
          {
           "name": "Crimson King",
           "url": "https://stephen-king-api.onrender.com/api/villain/17"
          }
         ]
        ],
        [
         "978-0-743-21137-6",
         [
          "Nominee, Bram Stoker Award, 2003"
         ],
         368,
         "Scribner",
         "From a Buick 8",
         2002,
         "2023-11-13T23:48:52.604Z",
         "from-a-buick-8",
         39,
         [
          {
           "name": "Brian Lippy",
           "url": "https://stephen-king-api.onrender.com/api/villain/66"
          }
         ]
        ],
        [
         "978-1-880-41856-7",
         [
          "Nominee, Bram Stoker Award, 2004",
          "Runner-up (4th place), Locus Award for Best Fantasy Novel, 2004[2]"
         ],
         714,
         "Grant",
         "The Dark Tower V: Wolves of the Calla",
         2003,
         "2023-11-13T23:48:52.735Z",
         "the-dark-tower-v-wolves-of-the-calla",
         40,
         []
        ],
        [
         "978-1-880-41859-8",
         [
          "Runner-up (4th place), Locus Award for Best Fantasy Novel, 2005"
         ],
         432,
         "Grant",
         "The Dark Tower VI: Song of Susannah",
         2004,
         "2023-11-13T23:48:52.856Z",
         "the-dark-tower-vi-song-of-susannah",
         41,
         []
        ],
        [
         "Grant",
         [
          "Winner, British Fantasy Award's August Derleth Award, 2005",
          "Nominee, Bram Stoker Award, 2005[2]"
         ],
         845,
         "978-1-880-41862-8",
         "The Dark Tower VII: The Dark Tower",
         2004,
         "2023-11-13T23:48:53.001Z",
         "the-dark-tower-vii-the-dark-tower",
         42,
         [
          {
           "name": "Crimson King",
           "url": "https://stephen-king-api.onrender.com/api/villain/17"
          },
          {
           "name": "Dandelo",
           "url": "https://stephen-king-api.onrender.com/api/villain/21"
          },
          {
           "name": "Mordred Deschain",
           "url": "https://stephen-king-api.onrender.com/api/villain/27"
          },
          {
           "name": "Randall Flagg",
           "url": "https://stephen-king-api.onrender.com/api/villain/37"
          }
         ]
        ],
        [
         "978-0-843-95584-2",
         [],
         184,
         "Hard Case Crime",
         "The Colorado Kid",
         2005,
         "2023-11-13T23:48:53.124Z",
         "the-colorado-kid",
         43,
         []
        ],
        [
         "978-0-743-29233-7",
         [],
         351,
         "Scribner",
         "Cell",
         2006,
         "2023-11-13T23:48:53.244Z",
         "cell",
         44,
         [
          {
           "name": "The Raggedy Man",
           "url": "https://stephen-king-api.onrender.com/api/villain/85"
          }
         ]
        ],
        [
         "978-0-743-28941-2",
         [
          "Winner, Bram Stoker Award, 2007",
          "Nominee, World Fantasy Award, 2007",
          "Runner-up (10th place), Locus Award for Best Fantasy Novel, 2007[2]"
         ],
         528,
         "Scribner",
         "Lisey's Story",
         2006,
         "2023-11-13T23:48:53.382Z",
         "lisey-s-story",
         45,
         []
        ],
        [
         "978-1-416-55484-4",
         [
          "Published under pseudonym Richard Bachman"
         ],
         304,
         "Scribner",
         "Blaze",
         2007,
         "2023-11-13T23:48:53.504Z",
         "blaze",
         46,
         []
        ],
        [
         "978-1-416-55251-2",
         [
          "Winner, Bram Stoker Award,  2009[2]"
         ],
         607,
         "Scribner",
         "Duma Key",
         2008,
         "2023-11-13T23:48:53.622Z",
         "duma-key",
         47,
         []
        ],
        [
         "978-1-439-14850-1",
         [
          "Nominee, British Fantasy Award's August Derleth Award, 2010",
          "Runner-up (7th place), Locus Award for Best Science Fiction Novel, 2010[2]"
         ],
         1074,
         "Scribner",
         "Under the Dome",
         2009,
         "2023-11-13T23:48:53.748Z",
         "under-the-dome",
         48,
         [
          {
           "name": "Jim Rennie, Jr.",
           "url": "https://stephen-king-api.onrender.com/api/villain/88"
          },
          {
           "name": "Jim Rennie",
           "url": "https://stephen-king-api.onrender.com/api/villain/89"
          },
          {
           "name": "Carter Thibodeau",
           "url": "https://stephen-king-api.onrender.com/api/villain/101"
          }
         ]
        ],
        [
         "978-1-451-62728-2",
         [
          "Nominee, British Fantasy Award, 2012",
          "Nominee, World Fantasy Award, 2012",
          "Runner-up (2nd place), Locus Award for Best Science Fiction Novel, 2012[2]"
         ],
         849,
         "Scribner",
         "11/22/63",
         2011,
         "2023-11-13T23:48:53.869Z",
         "11-22-63",
         49,
         []
        ],
        [
         "978-1-880-41876-5",
         [
          "The eighth Dark Tower novel, but chronologically set between the fourth and fifth volumes."
         ],
         336,
         "Grant",
         "The Dark Tower: The Wind Through the Keyhole",
         2012,
         "2023-11-13T23:48:53.984Z",
         "the-dark-tower-the-wind-through-the-keyhole",
         50,
         []
        ],
        [
         "978-1-781-16264-4",
         [
          "Nominee, Edgar Award for Best Paperback Original, 2014[3]",
          "Runner-up (11th place), Locus Award for Best Fantasy Novel, 2014[2]"
         ],
         288,
         "Hard Case Crime",
         "Joyland",
         2013,
         "2023-11-13T23:48:54.117Z",
         "joyland",
         51,
         [
          {
           "name": "Lane Hardy",
           "url": "https://stephen-king-api.onrender.com/api/villain/48"
          }
         ]
        ],
        [
         "978-1-476-72765-3",
         [
          "Sequel to The Shining",
          "Winner, Bram Stoker Award, 2014",
          "Runner-up (5th place), Locus Award for Best Fantasy Novel, 2014[2]"
         ],
         531,
         "Scribner",
         "Doctor Sleep",
         2013,
         "2023-11-13T23:48:54.259Z",
         "doctor-sleep",
         52,
         [
          {
           "name": "Rose the Hat",
           "url": "https://stephen-king-api.onrender.com/api/villain/31"
          }
         ]
        ],
        [
         "978-1-476-75445-1",
         [
          "First novel in the Bill Hodges Trilogy",
          "Winner, Edgar Award for Best Novel, 2015[3]"
         ],
         436,
         "Scribner",
         "Mr. Mercedes",
         2014,
         "2023-11-13T23:48:54.379Z",
         "mr-mercedes",
         53,
         [
          {
           "name": "Brady Hartsfield",
           "url": "https://stephen-king-api.onrender.com/api/villain/50"
          }
         ]
        ],
        [
         "978-1-476-77038-3",
         [
          "Runner-up (8th place), Locus Award for Best Fantasy Novel, 2015[2]"
         ],
         403,
         "Scribner",
         "Revival",
         2014,
         "2023-11-13T23:48:54.494Z",
         "revival",
         54,
         [
          {
           "name": "Mother of the Null",
           "url": "https://stephen-king-api.onrender.com/api/villain/78"
          }
         ]
        ],
        [
         "978-1-501-10007-9",
         [
          "Second novel in the Bill Hodges Trilogy."
         ],
         434,
         "Scribner",
         "Finders Keepers",
         2015,
         "2023-11-13T23:48:54.614Z",
         "finders-keepers",
         55,
         [
          {
           "name": "Brady Hartsfield",
           "url": "https://stephen-king-api.onrender.com/api/villain/50"
          }
         ]
        ],
        [
         "978-1-501-12974-2",
         [
          "Third novel in the Bill Hodges Trilogy."
         ],
         496,
         "Scribner",
         "End of Watch",
         2016,
         "2023-11-13T23:48:54.730Z",
         "end-of-watch",
         56,
         [
          {
           "name": "Brady Hartsfield",
           "url": "https://stephen-king-api.onrender.com/api/villain/50"
          }
         ]
        ],
        [
         "978-1-58767-610-9",
         [
          "Written with Richard Chizmar"
         ],
         175,
         "Cemetery Dance Publications",
         "Gwendy's Button Box",
         2017,
         "2023-11-13T23:48:54.850Z",
         "gwendy-s-button-box",
         57,
         []
        ],
        [
         "978-1-50116-340-1",
         [
          "Written with Owen King",
          "Nominee, Bram Stoker Award, 2018[2]"
         ],
         702,
         "Scribner",
         "Sleeping Beauties",
         2017,
         "2023-11-13T23:48:54.973Z",
         "sleeping-beauties",
         58,
         []
        ],
        [
         "978-1-50118-098-9",
         [
          "First novel in the Holly Gibney Series",
          "Runner-up (2nd place), Locus Award for Best Horror Novel, 2019[2]"
         ],
         576,
         "Scribner",
         "The Outsider",
         2018,
         "2023-11-13T23:48:55.165Z",
         "the-outsider",
         59,
         [
          {
           "name": "The Outsider (Creature)",
           "url": "https://stephen-king-api.onrender.com/api/villain/82"
          }
         ]
        ],
        [
         "978-1-98210-231-9",
         [],
         144,
         "Scribner",
         "Elevation",
         2018,
         "2023-11-13T23:48:55.291Z",
         "elevation",
         60,
         []
        ],
        [
         "978-1-98211-056-7",
         [
          "Nominee, British Fantasy Award's August Derleth Award, 2020",
          "Runner-up (3rd place), Locus Award for Best Horror Novel, 2020[2]"
         ],
         576,
         "Scribner",
         "The Institute",
         2019,
         "2023-11-13T23:48:55.457Z",
         "the-institute",
         61,
         [
          {
           "name": "Gladys Hickson",
           "url": "https://stephen-king-api.onrender.com/api/villain/52"
          }
         ]
        ],
        [
         "978-1-78909-649-1",
         [],
         256,
         "Hard Case Crime",
         "Later",
         2021,
         "2023-11-13T23:48:55.579Z",
         "later",
         62,
         []
        ],
        [
         "978-1-982-17361-6",
         [],
         528,
         "Scribner",
         "Billy Summers",
         2021,
         "2023-11-13T23:48:55.753Z",
         "billy-summers",
         63,
         []
        ]
       ],
       "datasetInfos": [],
       "dbfsResultPath": null,
       "isJsonSchema": true,
       "metadata": {},
       "overflow": false,
       "plotOptions": {
        "customPlotOptions": {},
        "displayType": "table",
        "pivotAggregation": null,
        "pivotColumns": null,
        "xColumns": null,
        "yColumns": null
       },
       "removedWidgets": [],
       "schema": [
        {
         "metadata": "{}",
         "name": "ISBN",
         "type": "\"string\""
        },
        {
         "metadata": "{}",
         "name": "Notes",
         "type": "{\"type\":\"array\",\"elementType\":\"string\",\"containsNull\":true}"
        },
        {
         "metadata": "{}",
         "name": "Pages",
         "type": "\"long\""
        },
        {
         "metadata": "{}",
         "name": "Publisher",
         "type": "\"string\""
        },
        {
         "metadata": "{}",
         "name": "Title",
         "type": "\"string\""
        },
        {
         "metadata": "{}",
         "name": "Year",
         "type": "\"long\""
        },
        {
         "metadata": "{}",
         "name": "created_at",
         "type": "\"string\""
        },
        {
         "metadata": "{}",
         "name": "handle",
         "type": "\"string\""
        },
        {
         "metadata": "{}",
         "name": "id",
         "type": "\"long\""
        },
        {
         "metadata": "{}",
         "name": "villains",
         "type": "{\"type\":\"array\",\"elementType\":{\"type\":\"map\",\"keyType\":\"string\",\"valueType\":\"string\",\"valueContainsNull\":true},\"containsNull\":true}"
        }
       ],
       "type": "table"
      }
     },
     "output_type": "display_data"
    }
   ],
   "source": [
    "# Extraindo os dados em response e passando para uma estrutura json.\n",
    "dados_api = response.json().get('data', [])\n",
    "display(dados_api)\n",
    "\n"
   ]
  },
  {
   "cell_type": "markdown",
   "metadata": {
    "application/vnd.databricks.v1+cell": {
     "cellMetadata": {},
     "inputWidgets": {},
     "nuid": "ee438bf0-97b8-49dd-9919-95deae02097b",
     "showTitle": false,
     "tableResultSettingsMap": {},
     "title": ""
    }
   },
   "source": [
    "Nessa etapa o objetivo é explorar o dicionário e verificar quais campos existem para que possamos ter a opção de escolher com quais podemos montar nosso dataframe. E para facilitar a verificação foi filtrado apenas um livro e com isso tivemos retorno de quais campos estão presentes."
   ]
  },
  {
   "cell_type": "code",
   "execution_count": 0,
   "metadata": {
    "application/vnd.databricks.v1+cell": {
     "cellMetadata": {
      "byteLimit": 2048000,
      "rowLimit": 10000
     },
     "inputWidgets": {},
     "nuid": "ac6ba6f3-39eb-48e9-8dd3-0ddb5ef2b7a1",
     "showTitle": false,
     "tableResultSettingsMap": {},
     "title": ""
    }
   },
   "outputs": [
    {
     "output_type": "stream",
     "name": "stdout",
     "output_type": "stream",
     "text": [
      "'Campos disponíveis:'{'id': 1,\n 'Year': 1974,\n 'Title': 'Carrie',\n 'handle': 'carrie',\n 'Publisher': 'Doubleday',\n 'ISBN': '978-0-385-08695-0',\n 'Pages': 199,\n 'Notes': [''],\n 'created_at': '2023-11-13T23:48:47.848Z',\n 'villains': [{'name': 'Tina Blake',\n   'url': 'https://stephen-king-api.onrender.com/api/villain/4'},\n  {'name': 'Cindi',\n   'url': 'https://stephen-king-api.onrender.com/api/villain/14'},\n  {'name': 'Myra Crewes',\n   'url': 'https://stephen-king-api.onrender.com/api/villain/16'},\n  {'name': 'Billy deLois',\n   'url': 'https://stephen-king-api.onrender.com/api/villain/25'},\n  {'name': 'Kenny Garson',\n   'url': 'https://stephen-king-api.onrender.com/api/villain/38'},\n  {'name': 'Mary Lila Grace',\n   'url': 'https://stephen-king-api.onrender.com/api/villain/44'},\n  {'name': 'Christine Hargensen',\n   'url': 'https://stephen-king-api.onrender.com/api/villain/49'},\n  {'name': 'Vic Mooney',\n   'url': 'https://stephen-king-api.onrender.com/api/villain/75'},\n  {'name': 'The Mortimer Snerds',\n   'url': 'https://stephen-king-api.onrender.com/api/villain/77'},\n  {'name': 'Billy Nolan',\n   'url': 'https://stephen-king-api.onrender.com/api/villain/80'},\n  {'name': 'Elenor Richmond',\n   'url': 'https://stephen-king-api.onrender.com/api/villain/90'},\n  {'name': 'Rachel Spies',\n   'url': 'https://stephen-king-api.onrender.com/api/villain/94'},\n  {'name': 'Jackie Talbot',\n   'url': 'https://stephen-king-api.onrender.com/api/villain/99'},\n  {'name': 'Donna and Mary Lila Grace Thibodeau',\n   'url': 'https://stephen-king-api.onrender.com/api/villain/102'},\n  {'name': 'Jessica Upshaw',\n   'url': 'https://stephen-king-api.onrender.com/api/villain/108'},\n  {'name': 'Norma Watson',\n   'url': 'https://stephen-king-api.onrender.com/api/villain/109'},\n  {'name': 'Margaret White',\n   'url': 'https://stephen-king-api.onrender.com/api/villain/113'}]}"
     ]
    }
   ],
   "source": [
    "# Extraindo o dicionario do livro 1 para checar quais campos existem\n",
    "livro1 = next(filter(lambda livro: livro['id'] == 1, dados_api), None)\n",
    "\n",
    "# Mostrar apenas os nomes dos campos (chaves do dicionário)\n",
    "display(\"Campos disponíveis:\", livro1)"
   ]
  },
  {
   "cell_type": "markdown",
   "metadata": {
    "application/vnd.databricks.v1+cell": {
     "cellMetadata": {},
     "inputWidgets": {},
     "nuid": "0423dcff-3577-4f71-a519-9eed8a9cdc53",
     "showTitle": false,
     "tableResultSettingsMap": {},
     "title": ""
    }
   },
   "source": [
    "Apesar de, na tentativa anterior, ser possível observar, a partir de um livro, quais campos estão disponíveis podemos simplificar mais a verificação e obter resultados diretos e de fácil visualização."
   ]
  },
  {
   "cell_type": "code",
   "execution_count": 0,
   "metadata": {
    "application/vnd.databricks.v1+cell": {
     "cellMetadata": {
      "byteLimit": 2048000,
      "rowLimit": 10000
     },
     "inputWidgets": {},
     "nuid": "d11e6ef2-3e09-45f1-bbaf-790cf0242a94",
     "showTitle": false,
     "tableResultSettingsMap": {},
     "title": ""
    }
   },
   "outputs": [
    {
     "output_type": "stream",
     "name": "stdout",
     "output_type": "stream",
     "text": [
      "Campos disponíveis:\n- id\n- Year\n- Title\n- handle\n- Publisher\n- ISBN\n- Pages\n- Notes\n- created_at\n- villains\n"
     ]
    }
   ],
   "source": [
    "# Mostrar apenas os nomes dos campos (chaves do dicionário)\n",
    "#livro1.keys() retorna, somente, as chaves do dicionario. Ou seja, ele cria uma lista das chaves que o dicionario contém.\n",
    "print(\"Campos disponíveis:\")\n",
    "for campo in livro1.keys():\n",
    "    print(f\"- {campo}\")"
   ]
  },
  {
   "cell_type": "markdown",
   "metadata": {
    "application/vnd.databricks.v1+cell": {
     "cellMetadata": {},
     "inputWidgets": {},
     "nuid": "fa9093e0-9e78-40c4-b062-7e910676acbe",
     "showTitle": false,
     "tableResultSettingsMap": {},
     "title": ""
    }
   },
   "source": [
    "Agora, com as informações obtidas anteriomente podemos montar nosso dataframe. Nesse pequeno projeto, os campos escolhidos foram: id, Year, Title, Publisher, Pages e villains."
   ]
  },
  {
   "cell_type": "code",
   "execution_count": 0,
   "metadata": {
    "application/vnd.databricks.v1+cell": {
     "cellMetadata": {
      "byteLimit": 2048000,
      "rowLimit": 10000
     },
     "inputWidgets": {},
     "nuid": "1989a72b-0750-4e57-acec-8e83e5fec459",
     "showTitle": false,
     "tableResultSettingsMap": {},
     "title": ""
    }
   },
   "outputs": [
    {
     "output_type": "display_data",
     "data": {
      "text/html": [
       "<style scoped>\n",
       "  .table-result-container {\n",
       "    max-height: 300px;\n",
       "    overflow: auto;\n",
       "  }\n",
       "  table, th, td {\n",
       "    border: 1px solid black;\n",
       "    border-collapse: collapse;\n",
       "  }\n",
       "  th, td {\n",
       "    padding: 5px;\n",
       "  }\n",
       "  th {\n",
       "    text-align: left;\n",
       "  }\n",
       "</style><div class='table-result-container'><table class='table-result'><thead style='background-color: white'><tr><th>id_livro</th><th>ano</th><th>titulo</th><th>editora</th><th>qtd_paginas</th><th>notas_sobre_obra</th><th>viloes</th></tr></thead><tbody><tr><td>1</td><td>1974</td><td>Carrie</td><td>Doubleday</td><td>199</td><td>List()</td><td>List(Tina Blake, Cindi, Myra Crewes, Billy deLois, Kenny Garson, Mary Lila Grace, Christine Hargensen, Vic Mooney, The Mortimer Snerds, Billy Nolan, Elenor Richmond, Rachel Spies, Jackie Talbot, Donna and Mary Lila Grace Thibodeau, Jessica Upshaw, Norma Watson, Margaret White)</td></tr><tr><td>2</td><td>1975</td><td>Salem's Lot</td><td>Doubleday</td><td>439</td><td>List(Nominee, World Fantasy Award, 1976[2])</td><td>List(Kurt Barlow, Richard Straker)</td></tr><tr><td>3</td><td>1977</td><td>The Shining</td><td>Doubleday</td><td>447</td><td>List(Runner-up (4th place), Locus Award for Best Fantasy Novel, 1978[2])</td><td>List(Horace M. Derwent, Delbert Grady, Jack Torrance)</td></tr><tr><td>4</td><td>1977</td><td>Rage</td><td>Signet Books</td><td>211</td><td>List(Published under pseudonym Richard Bachman)</td><td>List()</td></tr><tr><td>5</td><td>1978</td><td>The Stand</td><td>Doubleday</td><td>823</td><td>List(Nominee, World Fantasy Award, 1979, Runner-up (15th place), Locus Award, 1979[2])</td><td>List(Donald Merwin Elbert, Randall Flagg, Lloyd Henreid, The Kid, Harold Lauder, Rat Man)</td></tr><tr><td>6</td><td>1979</td><td>The Long Walk</td><td>Signet Books</td><td>384</td><td>List(Published under pseudonym Richard Bachman)</td><td>List(Randall Flagg, The Major)</td></tr><tr><td>7</td><td>1979</td><td>The Dead Zone</td><td>Viking Press</td><td>428</td><td>List(Runner-up (2nd place), Locus Award for Best Fantasy Novel, 1980[2])</td><td>List(Frank Dodd, Henrietta Dodd, Malcolm Janus, Sonny Elliman, Greg Stillson, The Devil's Dozen)</td></tr><tr><td>8</td><td>1980</td><td>Firestarter</td><td>Viking Press</td><td>426</td><td>List(Nominee, British Fantasy Award’s August Derleth Award, 1981, Runner-up (8th place), Locus Award for Best Science Fiction Novel, 1981[2])</td><td>List(James Hollister, Charlie McGee, John Rainbird)</td></tr><tr><td>9</td><td>1981</td><td>Roadwork</td><td>Signet Books</td><td>274</td><td>List(Published under pseudonym Richard Bachman)</td><td>List()</td></tr><tr><td>10</td><td>1981</td><td>Cujo</td><td>Viking Press</td><td>319</td><td>List(Winner, British Fantasy Award’s August Derleth Award, 1982, Runner-up (21st place), Locus Award for Best Fantasy Novel, 1982[2])</td><td>List(Cujo)</td></tr><tr><td>11</td><td>1982</td><td>The Running Man</td><td>Signet Books</td><td>219</td><td>List(Published under pseudonym Richard Bachman)</td><td>List(The Gladiators, Damon Killian)</td></tr><tr><td>12</td><td>1982</td><td>The Dark Tower: The Gunslinger</td><td>Grant</td><td>224</td><td>List()</td><td>List(Marten Broadcloak, Crimson King, Randall Flagg, Sylvia Pittston)</td></tr><tr><td>13</td><td>1983</td><td>Christine</td><td>Viking</td><td>526</td><td>List(Runner-up (6th place), Locus Award for Best Fantasy Novel, 1984[2])</td><td>List(Christine (car), Arnie Cunningham)</td></tr><tr><td>14</td><td>1983</td><td>Pet Sematary</td><td>Doubleday</td><td>374</td><td>List(Nominee, World Fantasy Award, 1984, Runner-up (7th place), Locus Award for Best Fantasy Novel, 1984[2])</td><td>List(Winston Church, Gage Creed, Victor Pascow, Wendigo)</td></tr><tr><td>15</td><td>1983</td><td>Cycle of the Werewolf</td><td>Land of Enchantment</td><td>127</td><td>List(Illustrated by Bernie Wrightson)</td><td>List(Lester Lowe)</td></tr><tr><td>16</td><td>1984</td><td>The Talisman</td><td>Viking</td><td>646</td><td>List(Written with Peter Straub, Nominee, World Fantasy Award, 1985, Runner-up (4th place), Locus Award for Best Fantasy Novel, 1985[2])</td><td>List()</td></tr><tr><td>17</td><td>1984</td><td>The Eyes of the Dragon</td><td>Philtrum Press (1984)Viking (1987)</td><td>326</td><td>List(First published as a limited edition in 1984, then for the mass market in 1987)</td><td>List(Randall Flagg)</td></tr><tr><td>18</td><td>1984</td><td>Thinner</td><td>NAL</td><td>309</td><td>List(Published under pseudonym Richard Bachman)</td><td>List()</td></tr><tr><td>19</td><td>1986</td><td>It</td><td>Viking</td><td>1138</td><td>List(Winner, British Fantasy Award’s August Derleth Award, 1987, Nominee, World Fantasy Award, 1987, Runner-up (3rd place), Locus Award for Best Fantasy Novel, 1987[2])</td><td>List(Henry Bowers, Butch Bowers, Greta Bowie, Victor Criss, Marcia Fadden, John Garton, Peter Gordon, Patrick Hockstetter, Belch Huggins, It (Creature), Richard P. Macklin, Alvin Marsh, Sally Mueller, Tom Rogan, Christopher Unwin)</td></tr><tr><td>20</td><td>1987</td><td>The Dark Tower II: The Drawing of the Three</td><td>Grant</td><td>400</td><td>List(Runner-up (16th place), Locus Award for Best Fantasy Novel, 1988[2])</td><td>List(Jack Mort)</td></tr><tr><td>21</td><td>1987</td><td>Misery</td><td>Viking</td><td>310</td><td>List(Winner, Bram Stoker Award, 1988, Nominee, World Fantasy Award, 1988[2])</td><td>List(Annie Wilkes)</td></tr><tr><td>22</td><td>1987</td><td>The Tommyknockers</td><td>Putnam</td><td>558</td><td>List(Runner-up (16th place), Locus Award for Best Science Fiction Novel, 1988[2])</td><td>List(Tommyknockers)</td></tr><tr><td>23</td><td>1989</td><td>The Dark Half</td><td>Viking</td><td>431</td><td>List(Runner-up (2nd place), Locus Award for Best Horror Novel, 1990[2])</td><td>List(George Stark)</td></tr><tr><td>24</td><td>1990</td><td>The Stand Uncut</td><td>Doubleday</td><td>1152</td><td>List(The Complete & Uncut Edition, Runner-up (2nd place), Locus Award's Best Horror/Dark Fantasy Novel, 1991[2])</td><td>List()</td></tr><tr><td>25</td><td>1991</td><td>The Dark Tower III: The Waste Lands</td><td>Grant</td><td>512</td><td>List(Nominee, Bram Stoker Award, 1992, Runner-up (3rd place), Locus Award for Best Horror/Dark Fantasy Novel, 1992[2])</td><td>List(Blaine the Mono, Randall Flagg)</td></tr><tr><td>26</td><td>1991</td><td>Needful Things</td><td>Viking</td><td>690</td><td>List(Nominee, Bram Stoker Award, 1992, Runner-up (13th place), Locus Award for Best Horror/Dark Fantasy Novel, 1992[2])</td><td>List(Leland Gaunt)</td></tr><tr><td>27</td><td>1992</td><td>Gerald's Game</td><td>Viking</td><td>352</td><td>List()</td><td>List(Gerald Burlingame, Raymond Andrew Joubert, Tom Mahout)</td></tr><tr><td>28</td><td>1992</td><td>Dolores Claiborne</td><td>Viking</td><td>305</td><td>List(Runner-up (14th place), Locus Award for Best Horror/Dark Fantasy Novel, 1993[2])</td><td>List(Joe St. George)</td></tr><tr><td>29</td><td>1994</td><td>Insomnia</td><td>Viking</td><td>787</td><td>List(Nominee, Bram Stoker Award, 1995, Runner-up (3rd place), Locus Award for Best Fantasy/Horror Novel, 1995[2])</td><td>List(Crimson King, Susan Day)</td></tr><tr><td>30</td><td>1995</td><td>Rose Madder</td><td>Viking</td><td>420</td><td>List(Runner-up (3rd place), Locus Award for Best Horror/Dark Fantasy Novel, 1995[2])</td><td>List(Norman Daniels, Susan Day)</td></tr><tr><td>31</td><td>1996</td><td>The Green Mile</td><td>Signet Books</td><td>400</td><td>List(Winner, Bram Stoker Award, 1997, Runner-up (8th place), Locus Award for Best Horror/Dark Fantasy Novel, 1997[2])</td><td>List(Percy Wetmore, William Wharton)</td></tr><tr><td>32</td><td>1996</td><td>Desperation</td><td>Viking</td><td>704</td><td>List(Twin novel of The Regulators, Winner, Locus Award for Best Horror/Dark Fantasy Novel, 1997[2])</td><td>List()</td></tr><tr><td>33</td><td>1996</td><td>The Regulators</td><td>Dutton</td><td>480</td><td>List(Published under pseudonym Richard Bachman, Twin novel of Desperation)</td><td>List()</td></tr><tr><td>34</td><td>1997</td><td>The Dark Tower IV: Wizard and Glass</td><td>Grant</td><td>787</td><td>List(Runner-up (4th place), Locus Award for Best Fantasy Novel, 1998, Runner-up (6th place), Locus Award for Best Art Book, 1998[2])</td><td>List(Blaine the Mono, Cordelia Delgado, Rhea Dubativo, John Farson, Randall Flagg, Eldred Jonas)</td></tr><tr><td>35</td><td>1998</td><td>Bag of Bones</td><td>Scribner</td><td>529</td><td>List(Winner, Bram Stoker Award, 1999, Winner, British Fantasy Award’s August Derleth Award, 1999, Winner, Locus Award for Best Dark Fantasy/Horror Novel, 1999[2])</td><td>List()</td></tr><tr><td>36</td><td>1999</td><td>The Girl Who Loved Tom Gordon</td><td>Scribner</td><td>224</td><td>List()</td><td>List()</td></tr><tr><td>37</td><td>2001</td><td>Dreamcatcher</td><td>Scribner</td><td>620</td><td>List()</td><td>List()</td></tr><tr><td>38</td><td>2001</td><td>Black House</td><td>Random House</td><td>625</td><td>List(Sequel to The Talisman, Written with Peter Straub, Nominee, Bram Stoker Award, 2002, Runner-up (7th place), Locus Award for Best Fantasy Novel, 2002[2])</td><td>List(Crimson King)</td></tr><tr><td>39</td><td>2002</td><td>From a Buick 8</td><td>Scribner</td><td>368</td><td>List(Nominee, Bram Stoker Award, 2003)</td><td>List(Brian Lippy)</td></tr><tr><td>40</td><td>2003</td><td>The Dark Tower V: Wolves of the Calla</td><td>Grant</td><td>714</td><td>List(Nominee, Bram Stoker Award, 2004, Runner-up (4th place), Locus Award for Best Fantasy Novel, 2004[2])</td><td>List()</td></tr><tr><td>41</td><td>2004</td><td>The Dark Tower VI: Song of Susannah</td><td>Grant</td><td>432</td><td>List(Runner-up (4th place), Locus Award for Best Fantasy Novel, 2005)</td><td>List()</td></tr><tr><td>42</td><td>2004</td><td>The Dark Tower VII: The Dark Tower</td><td>978-1-880-41862-8</td><td>845</td><td>List(Winner, British Fantasy Award's August Derleth Award, 2005, Nominee, Bram Stoker Award, 2005[2])</td><td>List(Crimson King, Dandelo, Mordred Deschain, Randall Flagg)</td></tr><tr><td>43</td><td>2005</td><td>The Colorado Kid</td><td>Hard Case Crime</td><td>184</td><td>List()</td><td>List()</td></tr><tr><td>44</td><td>2006</td><td>Cell</td><td>Scribner</td><td>351</td><td>List()</td><td>List(The Raggedy Man)</td></tr><tr><td>45</td><td>2006</td><td>Lisey's Story</td><td>Scribner</td><td>528</td><td>List(Winner, Bram Stoker Award, 2007, Nominee, World Fantasy Award, 2007, Runner-up (10th place), Locus Award for Best Fantasy Novel, 2007[2])</td><td>List()</td></tr><tr><td>46</td><td>2007</td><td>Blaze</td><td>Scribner</td><td>304</td><td>List(Published under pseudonym Richard Bachman)</td><td>List()</td></tr><tr><td>47</td><td>2008</td><td>Duma Key</td><td>Scribner</td><td>607</td><td>List(Winner, Bram Stoker Award,  2009[2])</td><td>List()</td></tr><tr><td>48</td><td>2009</td><td>Under the Dome</td><td>Scribner</td><td>1074</td><td>List(Nominee, British Fantasy Award's August Derleth Award, 2010, Runner-up (7th place), Locus Award for Best Science Fiction Novel, 2010[2])</td><td>List(Jim Rennie, Jr., Jim Rennie, Carter Thibodeau)</td></tr><tr><td>49</td><td>2011</td><td>11/22/63</td><td>Scribner</td><td>849</td><td>List(Nominee, British Fantasy Award, 2012, Nominee, World Fantasy Award, 2012, Runner-up (2nd place), Locus Award for Best Science Fiction Novel, 2012[2])</td><td>List()</td></tr><tr><td>50</td><td>2012</td><td>The Dark Tower: The Wind Through the Keyhole</td><td>Grant</td><td>336</td><td>List(The eighth Dark Tower novel, but chronologically set between the fourth and fifth volumes.)</td><td>List()</td></tr><tr><td>51</td><td>2013</td><td>Joyland</td><td>Hard Case Crime</td><td>288</td><td>List(Nominee, Edgar Award for Best Paperback Original, 2014[3], Runner-up (11th place), Locus Award for Best Fantasy Novel, 2014[2])</td><td>List(Lane Hardy)</td></tr><tr><td>52</td><td>2013</td><td>Doctor Sleep</td><td>Scribner</td><td>531</td><td>List(Sequel to The Shining, Winner, Bram Stoker Award, 2014, Runner-up (5th place), Locus Award for Best Fantasy Novel, 2014[2])</td><td>List(Rose the Hat)</td></tr><tr><td>53</td><td>2014</td><td>Mr. Mercedes</td><td>Scribner</td><td>436</td><td>List(First novel in the Bill Hodges Trilogy, Winner, Edgar Award for Best Novel, 2015[3])</td><td>List(Brady Hartsfield)</td></tr><tr><td>54</td><td>2014</td><td>Revival</td><td>Scribner</td><td>403</td><td>List(Runner-up (8th place), Locus Award for Best Fantasy Novel, 2015[2])</td><td>List(Mother of the Null)</td></tr><tr><td>55</td><td>2015</td><td>Finders Keepers</td><td>Scribner</td><td>434</td><td>List(Second novel in the Bill Hodges Trilogy.)</td><td>List(Brady Hartsfield)</td></tr><tr><td>56</td><td>2016</td><td>End of Watch</td><td>Scribner</td><td>496</td><td>List(Third novel in the Bill Hodges Trilogy.)</td><td>List(Brady Hartsfield)</td></tr><tr><td>57</td><td>2017</td><td>Gwendy's Button Box</td><td>Cemetery Dance Publications</td><td>175</td><td>List(Written with Richard Chizmar)</td><td>List()</td></tr><tr><td>58</td><td>2017</td><td>Sleeping Beauties</td><td>Scribner</td><td>702</td><td>List(Written with Owen King, Nominee, Bram Stoker Award, 2018[2])</td><td>List()</td></tr><tr><td>59</td><td>2018</td><td>The Outsider</td><td>Scribner</td><td>576</td><td>List(First novel in the Holly Gibney Series, Runner-up (2nd place), Locus Award for Best Horror Novel, 2019[2])</td><td>List(The Outsider (Creature))</td></tr><tr><td>60</td><td>2018</td><td>Elevation</td><td>Scribner</td><td>144</td><td>List()</td><td>List()</td></tr><tr><td>61</td><td>2019</td><td>The Institute</td><td>Scribner</td><td>576</td><td>List(Nominee, British Fantasy Award's August Derleth Award, 2020, Runner-up (3rd place), Locus Award for Best Horror Novel, 2020[2])</td><td>List(Gladys Hickson)</td></tr><tr><td>62</td><td>2021</td><td>Later</td><td>Hard Case Crime</td><td>256</td><td>List()</td><td>List()</td></tr><tr><td>63</td><td>2021</td><td>Billy Summers</td><td>Scribner</td><td>528</td><td>List()</td><td>List()</td></tr></tbody></table></div>"
      ]
     },
     "metadata": {
      "application/vnd.databricks.v1+output": {
       "addedWidgets": {},
       "aggData": [],
       "aggError": "",
       "aggOverflow": false,
       "aggSchema": [],
       "aggSeriesLimitReached": false,
       "aggType": "",
       "arguments": {},
       "columnCustomDisplayInfos": {},
       "data": [
        [
         1,
         1974,
         "Carrie",
         "Doubleday",
         199,
         [
          ""
         ],
         [
          "Tina Blake",
          "Cindi",
          "Myra Crewes",
          "Billy deLois",
          "Kenny Garson",
          "Mary Lila Grace",
          "Christine Hargensen",
          "Vic Mooney",
          "The Mortimer Snerds",
          "Billy Nolan",
          "Elenor Richmond",
          "Rachel Spies",
          "Jackie Talbot",
          "Donna and Mary Lila Grace Thibodeau",
          "Jessica Upshaw",
          "Norma Watson",
          "Margaret White"
         ]
        ],
        [
         2,
         1975,
         "Salem's Lot",
         "Doubleday",
         439,
         [
          "Nominee, World Fantasy Award, 1976[2]"
         ],
         [
          "Kurt Barlow",
          "Richard Straker"
         ]
        ],
        [
         3,
         1977,
         "The Shining",
         "Doubleday",
         447,
         [
          "Runner-up (4th place), Locus Award for Best Fantasy Novel, 1978[2]"
         ],
         [
          "Horace M. Derwent",
          "Delbert Grady",
          "Jack Torrance"
         ]
        ],
        [
         4,
         1977,
         "Rage",
         "Signet Books",
         211,
         [
          "Published under pseudonym Richard Bachman"
         ],
         []
        ],
        [
         5,
         1978,
         "The Stand",
         "Doubleday",
         823,
         [
          "Nominee, World Fantasy Award, 1979",
          "Runner-up (15th place), Locus Award, 1979[2]"
         ],
         [
          "Donald Merwin Elbert",
          "Randall Flagg",
          "Lloyd Henreid",
          "The Kid",
          "Harold Lauder",
          "Rat Man"
         ]
        ],
        [
         6,
         1979,
         "The Long Walk",
         "Signet Books",
         384,
         [
          "Published under pseudonym Richard Bachman"
         ],
         [
          "Randall Flagg",
          "The Major"
         ]
        ],
        [
         7,
         1979,
         "The Dead Zone",
         "Viking Press",
         428,
         [
          "Runner-up (2nd place), Locus Award for Best Fantasy Novel, 1980[2]"
         ],
         [
          "Frank Dodd",
          "Henrietta Dodd",
          "Malcolm Janus",
          "Sonny Elliman",
          "Greg Stillson",
          "The Devil's Dozen"
         ]
        ],
        [
         8,
         1980,
         "Firestarter",
         "Viking Press",
         426,
         [
          "Nominee, British Fantasy Award’s August Derleth Award, 1981",
          "Runner-up (8th place), Locus Award for Best Science Fiction Novel, 1981[2]"
         ],
         [
          "James Hollister",
          "Charlie McGee",
          "John Rainbird"
         ]
        ],
        [
         9,
         1981,
         "Roadwork",
         "Signet Books",
         274,
         [
          "Published under pseudonym Richard Bachman"
         ],
         []
        ],
        [
         10,
         1981,
         "Cujo",
         "Viking Press",
         319,
         [
          "Winner, British Fantasy Award’s August Derleth Award, 1982",
          "Runner-up (21st place), Locus Award for Best Fantasy Novel, 1982[2]"
         ],
         [
          "Cujo"
         ]
        ],
        [
         11,
         1982,
         "The Running Man",
         "Signet Books",
         219,
         [
          "Published under pseudonym Richard Bachman"
         ],
         [
          "The Gladiators",
          "Damon Killian"
         ]
        ],
        [
         12,
         1982,
         "The Dark Tower: The Gunslinger",
         "Grant",
         224,
         [
          ""
         ],
         [
          "Marten Broadcloak",
          "Crimson King",
          "Randall Flagg",
          "Sylvia Pittston"
         ]
        ],
        [
         13,
         1983,
         "Christine",
         "Viking",
         526,
         [
          "Runner-up (6th place), Locus Award for Best Fantasy Novel, 1984[2]"
         ],
         [
          "Christine (car)",
          "Arnie Cunningham"
         ]
        ],
        [
         14,
         1983,
         "Pet Sematary",
         "Doubleday",
         374,
         [
          "Nominee, World Fantasy Award, 1984",
          "Runner-up (7th place), Locus Award for Best Fantasy Novel, 1984[2]"
         ],
         [
          "Winston Church",
          "Gage Creed",
          "Victor Pascow",
          "Wendigo"
         ]
        ],
        [
         15,
         1983,
         "Cycle of the Werewolf",
         "Land of Enchantment",
         127,
         [
          "Illustrated by Bernie Wrightson"
         ],
         [
          "Lester Lowe"
         ]
        ],
        [
         16,
         1984,
         "The Talisman",
         "Viking",
         646,
         [
          "Written with Peter Straub",
          "Nominee, World Fantasy Award, 1985",
          "Runner-up (4th place), Locus Award for Best Fantasy Novel, 1985[2]"
         ],
         []
        ],
        [
         17,
         1984,
         "The Eyes of the Dragon",
         "Philtrum Press (1984)Viking (1987)",
         326,
         [
          "First published as a limited edition in 1984, then for the mass market in 1987"
         ],
         [
          "Randall Flagg"
         ]
        ],
        [
         18,
         1984,
         "Thinner",
         "NAL",
         309,
         [
          "Published under pseudonym Richard Bachman"
         ],
         []
        ],
        [
         19,
         1986,
         "It",
         "Viking",
         1138,
         [
          "Winner, British Fantasy Award’s August Derleth Award, 1987",
          "Nominee, World Fantasy Award, 1987",
          "Runner-up (3rd place), Locus Award for Best Fantasy Novel, 1987[2]"
         ],
         [
          "Henry Bowers",
          "Butch Bowers",
          "Greta Bowie",
          "Victor Criss",
          "Marcia Fadden",
          "John Garton",
          "Peter Gordon",
          "Patrick Hockstetter",
          "Belch Huggins",
          "It (Creature)",
          "Richard P. Macklin",
          "Alvin Marsh",
          "Sally Mueller",
          "Tom Rogan",
          "Christopher Unwin"
         ]
        ],
        [
         20,
         1987,
         "The Dark Tower II: The Drawing of the Three",
         "Grant",
         400,
         [
          "Runner-up (16th place), Locus Award for Best Fantasy Novel, 1988[2]"
         ],
         [
          "Jack Mort"
         ]
        ],
        [
         21,
         1987,
         "Misery",
         "Viking",
         310,
         [
          "Winner, Bram Stoker Award, 1988",
          "Nominee, World Fantasy Award, 1988[2]"
         ],
         [
          "Annie Wilkes"
         ]
        ],
        [
         22,
         1987,
         "The Tommyknockers",
         "Putnam",
         558,
         [
          "Runner-up (16th place), Locus Award for Best Science Fiction Novel, 1988[2]"
         ],
         [
          "Tommyknockers"
         ]
        ],
        [
         23,
         1989,
         "The Dark Half",
         "Viking",
         431,
         [
          "Runner-up (2nd place), Locus Award for Best Horror Novel, 1990[2]"
         ],
         [
          "George Stark"
         ]
        ],
        [
         24,
         1990,
         "The Stand Uncut",
         "Doubleday",
         1152,
         [
          "The Complete & Uncut Edition",
          "Runner-up (2nd place), Locus Award's Best Horror/Dark Fantasy Novel, 1991[2]"
         ],
         []
        ],
        [
         25,
         1991,
         "The Dark Tower III: The Waste Lands",
         "Grant",
         512,
         [
          "Nominee, Bram Stoker Award, 1992",
          "Runner-up (3rd place), Locus Award for Best Horror/Dark Fantasy Novel, 1992[2]"
         ],
         [
          "Blaine the Mono",
          "Randall Flagg"
         ]
        ],
        [
         26,
         1991,
         "Needful Things",
         "Viking",
         690,
         [
          "Nominee, Bram Stoker Award, 1992",
          "Runner-up (13th place), Locus Award for Best Horror/Dark Fantasy Novel, 1992[2]"
         ],
         [
          "Leland Gaunt"
         ]
        ],
        [
         27,
         1992,
         "Gerald's Game",
         "Viking",
         352,
         [],
         [
          "Gerald Burlingame",
          "Raymond Andrew Joubert",
          "Tom Mahout"
         ]
        ],
        [
         28,
         1992,
         "Dolores Claiborne",
         "Viking",
         305,
         [
          "Runner-up (14th place), Locus Award for Best Horror/Dark Fantasy Novel, 1993[2]"
         ],
         [
          "Joe St. George"
         ]
        ],
        [
         29,
         1994,
         "Insomnia",
         "Viking",
         787,
         [
          "Nominee, Bram Stoker Award, 1995",
          "Runner-up (3rd place), Locus Award for Best Fantasy/Horror Novel, 1995[2]"
         ],
         [
          "Crimson King",
          "Susan Day"
         ]
        ],
        [
         30,
         1995,
         "Rose Madder",
         "Viking",
         420,
         [
          "Runner-up (3rd place), Locus Award for Best Horror/Dark Fantasy Novel, 1995[2]"
         ],
         [
          "Norman Daniels",
          "Susan Day"
         ]
        ],
        [
         31,
         1996,
         "The Green Mile",
         "Signet Books",
         400,
         [
          "Winner, Bram Stoker Award, 1997",
          "Runner-up (8th place), Locus Award for Best Horror/Dark Fantasy Novel, 1997[2]"
         ],
         [
          "Percy Wetmore",
          "William Wharton"
         ]
        ],
        [
         32,
         1996,
         "Desperation",
         "Viking",
         704,
         [
          "Twin novel of The Regulators",
          "Winner, Locus Award for Best Horror/Dark Fantasy Novel, 1997[2]"
         ],
         []
        ],
        [
         33,
         1996,
         "The Regulators",
         "Dutton",
         480,
         [
          "Published under pseudonym Richard Bachman",
          "Twin novel of Desperation"
         ],
         []
        ],
        [
         34,
         1997,
         "The Dark Tower IV: Wizard and Glass",
         "Grant",
         787,
         [
          "Runner-up (4th place), Locus Award for Best Fantasy Novel, 1998",
          "Runner-up (6th place), Locus Award for Best Art Book, 1998[2]"
         ],
         [
          "Blaine the Mono",
          "Cordelia Delgado",
          "Rhea Dubativo",
          "John Farson",
          "Randall Flagg",
          "Eldred Jonas"
         ]
        ],
        [
         35,
         1998,
         "Bag of Bones",
         "Scribner",
         529,
         [
          "Winner, Bram Stoker Award, 1999",
          "Winner, British Fantasy Award’s August Derleth Award, 1999",
          "Winner, Locus Award for Best Dark Fantasy/Horror Novel, 1999[2]"
         ],
         []
        ],
        [
         36,
         1999,
         "The Girl Who Loved Tom Gordon",
         "Scribner",
         224,
         [],
         []
        ],
        [
         37,
         2001,
         "Dreamcatcher",
         "Scribner",
         620,
         [],
         []
        ],
        [
         38,
         2001,
         "Black House",
         "Random House",
         625,
         [
          "Sequel to The Talisman",
          "Written with Peter Straub",
          "Nominee, Bram Stoker Award, 2002",
          "Runner-up (7th place), Locus Award for Best Fantasy Novel, 2002[2]"
         ],
         [
          "Crimson King"
         ]
        ],
        [
         39,
         2002,
         "From a Buick 8",
         "Scribner",
         368,
         [
          "Nominee, Bram Stoker Award, 2003"
         ],
         [
          "Brian Lippy"
         ]
        ],
        [
         40,
         2003,
         "The Dark Tower V: Wolves of the Calla",
         "Grant",
         714,
         [
          "Nominee, Bram Stoker Award, 2004",
          "Runner-up (4th place), Locus Award for Best Fantasy Novel, 2004[2]"
         ],
         []
        ],
        [
         41,
         2004,
         "The Dark Tower VI: Song of Susannah",
         "Grant",
         432,
         [
          "Runner-up (4th place), Locus Award for Best Fantasy Novel, 2005"
         ],
         []
        ],
        [
         42,
         2004,
         "The Dark Tower VII: The Dark Tower",
         "978-1-880-41862-8",
         845,
         [
          "Winner, British Fantasy Award's August Derleth Award, 2005",
          "Nominee, Bram Stoker Award, 2005[2]"
         ],
         [
          "Crimson King",
          "Dandelo",
          "Mordred Deschain",
          "Randall Flagg"
         ]
        ],
        [
         43,
         2005,
         "The Colorado Kid",
         "Hard Case Crime",
         184,
         [],
         []
        ],
        [
         44,
         2006,
         "Cell",
         "Scribner",
         351,
         [],
         [
          "The Raggedy Man"
         ]
        ],
        [
         45,
         2006,
         "Lisey's Story",
         "Scribner",
         528,
         [
          "Winner, Bram Stoker Award, 2007",
          "Nominee, World Fantasy Award, 2007",
          "Runner-up (10th place), Locus Award for Best Fantasy Novel, 2007[2]"
         ],
         []
        ],
        [
         46,
         2007,
         "Blaze",
         "Scribner",
         304,
         [
          "Published under pseudonym Richard Bachman"
         ],
         []
        ],
        [
         47,
         2008,
         "Duma Key",
         "Scribner",
         607,
         [
          "Winner, Bram Stoker Award,  2009[2]"
         ],
         []
        ],
        [
         48,
         2009,
         "Under the Dome",
         "Scribner",
         1074,
         [
          "Nominee, British Fantasy Award's August Derleth Award, 2010",
          "Runner-up (7th place), Locus Award for Best Science Fiction Novel, 2010[2]"
         ],
         [
          "Jim Rennie, Jr.",
          "Jim Rennie",
          "Carter Thibodeau"
         ]
        ],
        [
         49,
         2011,
         "11/22/63",
         "Scribner",
         849,
         [
          "Nominee, British Fantasy Award, 2012",
          "Nominee, World Fantasy Award, 2012",
          "Runner-up (2nd place), Locus Award for Best Science Fiction Novel, 2012[2]"
         ],
         []
        ],
        [
         50,
         2012,
         "The Dark Tower: The Wind Through the Keyhole",
         "Grant",
         336,
         [
          "The eighth Dark Tower novel, but chronologically set between the fourth and fifth volumes."
         ],
         []
        ],
        [
         51,
         2013,
         "Joyland",
         "Hard Case Crime",
         288,
         [
          "Nominee, Edgar Award for Best Paperback Original, 2014[3]",
          "Runner-up (11th place), Locus Award for Best Fantasy Novel, 2014[2]"
         ],
         [
          "Lane Hardy"
         ]
        ],
        [
         52,
         2013,
         "Doctor Sleep",
         "Scribner",
         531,
         [
          "Sequel to The Shining",
          "Winner, Bram Stoker Award, 2014",
          "Runner-up (5th place), Locus Award for Best Fantasy Novel, 2014[2]"
         ],
         [
          "Rose the Hat"
         ]
        ],
        [
         53,
         2014,
         "Mr. Mercedes",
         "Scribner",
         436,
         [
          "First novel in the Bill Hodges Trilogy",
          "Winner, Edgar Award for Best Novel, 2015[3]"
         ],
         [
          "Brady Hartsfield"
         ]
        ],
        [
         54,
         2014,
         "Revival",
         "Scribner",
         403,
         [
          "Runner-up (8th place), Locus Award for Best Fantasy Novel, 2015[2]"
         ],
         [
          "Mother of the Null"
         ]
        ],
        [
         55,
         2015,
         "Finders Keepers",
         "Scribner",
         434,
         [
          "Second novel in the Bill Hodges Trilogy."
         ],
         [
          "Brady Hartsfield"
         ]
        ],
        [
         56,
         2016,
         "End of Watch",
         "Scribner",
         496,
         [
          "Third novel in the Bill Hodges Trilogy."
         ],
         [
          "Brady Hartsfield"
         ]
        ],
        [
         57,
         2017,
         "Gwendy's Button Box",
         "Cemetery Dance Publications",
         175,
         [
          "Written with Richard Chizmar"
         ],
         []
        ],
        [
         58,
         2017,
         "Sleeping Beauties",
         "Scribner",
         702,
         [
          "Written with Owen King",
          "Nominee, Bram Stoker Award, 2018[2]"
         ],
         []
        ],
        [
         59,
         2018,
         "The Outsider",
         "Scribner",
         576,
         [
          "First novel in the Holly Gibney Series",
          "Runner-up (2nd place), Locus Award for Best Horror Novel, 2019[2]"
         ],
         [
          "The Outsider (Creature)"
         ]
        ],
        [
         60,
         2018,
         "Elevation",
         "Scribner",
         144,
         [],
         []
        ],
        [
         61,
         2019,
         "The Institute",
         "Scribner",
         576,
         [
          "Nominee, British Fantasy Award's August Derleth Award, 2020",
          "Runner-up (3rd place), Locus Award for Best Horror Novel, 2020[2]"
         ],
         [
          "Gladys Hickson"
         ]
        ],
        [
         62,
         2021,
         "Later",
         "Hard Case Crime",
         256,
         [],
         []
        ],
        [
         63,
         2021,
         "Billy Summers",
         "Scribner",
         528,
         [],
         []
        ]
       ],
       "datasetInfos": [],
       "dbfsResultPath": null,
       "isJsonSchema": true,
       "metadata": {},
       "overflow": false,
       "plotOptions": {
        "customPlotOptions": {},
        "displayType": "table",
        "pivotAggregation": null,
        "pivotColumns": null,
        "xColumns": null,
        "yColumns": null
       },
       "removedWidgets": [],
       "schema": [
        {
         "metadata": "{}",
         "name": "id_livro",
         "type": "\"long\""
        },
        {
         "metadata": "{}",
         "name": "ano",
         "type": "\"long\""
        },
        {
         "metadata": "{}",
         "name": "titulo",
         "type": "\"string\""
        },
        {
         "metadata": "{}",
         "name": "editora",
         "type": "\"string\""
        },
        {
         "metadata": "{}",
         "name": "qtd_paginas",
         "type": "\"long\""
        },
        {
         "metadata": "{}",
         "name": "notas_sobre_obra",
         "type": "{\"type\":\"array\",\"elementType\":\"string\",\"containsNull\":true}"
        },
        {
         "metadata": "{}",
         "name": "viloes",
         "type": "{\"type\":\"array\",\"elementType\":\"string\",\"containsNull\":true}"
        }
       ],
       "type": "table"
      }
     },
     "output_type": "display_data"
    }
   ],
   "source": [
    "# Importando Pandas para que seja possivel gerar o dataframe.\n",
    "import pandas as pd\n",
    "\n",
    "# Criando o dataframe\n",
    "dados_df = pd.DataFrame(dados_api)\n",
    "\n",
    "# Removendo os campos os quais nao interesse em se usar nesse proeejto.\n",
    "dados_df = dados_df.drop(columns=['handle','ISBN','created_at'])\n",
    "\n",
    "# Renomeando os campos\n",
    "dados_df = dados_df.rename(columns={\n",
    "    'id': 'id_livro',\n",
    "    'Year': 'ano',\n",
    "    'Title': 'titulo',\n",
    "    'Publisher': 'editora',\n",
    "    'Pages': 'qtd_paginas',\n",
    "    'Notes' : 'notas_sobre_obra',\n",
    "    'villains': 'viloes'\n",
    "})\n",
    "\n",
    "# Extraindo os nomes dos viloes\n",
    "dados_df['viloes'] = dados_df['viloes'].apply(lambda villains: [villain['name'] for villain in villains])\n",
    "\n",
    "# Exibindo o DataFrame\n",
    "display(dados_df)\n"
   ]
  },
  {
   "cell_type": "markdown",
   "metadata": {
    "application/vnd.databricks.v1+cell": {
     "cellMetadata": {},
     "inputWidgets": {},
     "nuid": "b0f39efb-9dba-4e0a-aced-0748675f81bd",
     "showTitle": false,
     "tableResultSettingsMap": {},
     "title": ""
    }
   },
   "source": [
    "Nessa etapa pode-se verificar se ainda há listas presentes dentro dos campos. Esse verificação é importante para que seja possível ajustar os dados. (depois falo mais)"
   ]
  },
  {
   "cell_type": "code",
   "execution_count": 0,
   "metadata": {
    "application/vnd.databricks.v1+cell": {
     "cellMetadata": {
      "byteLimit": 2048000,
      "rowLimit": 10000
     },
     "inputWidgets": {},
     "nuid": "6961d296-caf2-480c-b1fb-155838787d63",
     "showTitle": false,
     "tableResultSettingsMap": {},
     "title": ""
    }
   },
   "outputs": [
    {
     "output_type": "stream",
     "name": "stdout",
     "output_type": "stream",
     "text": [
      "id_livro             int64\nano                  int64\ntitulo              object\neditora             object\nqtd_paginas          int64\nnotas_sobre_obra    object\nviloes              object\ndtype: object\n"
     ]
    }
   ],
   "source": [
    "print(dados_df.dtypes)"
   ]
  },
  {
   "cell_type": "code",
   "execution_count": 0,
   "metadata": {
    "application/vnd.databricks.v1+cell": {
     "cellMetadata": {
      "byteLimit": 2048000,
      "rowLimit": 10000
     },
     "inputWidgets": {},
     "nuid": "017c6118-122c-45e9-8bc8-26d19df5f861",
     "showTitle": false,
     "tableResultSettingsMap": {},
     "title": ""
    }
   },
   "outputs": [
    {
     "output_type": "stream",
     "name": "stdout",
     "output_type": "stream",
     "text": [
      "Colunas que contêm arrays: ['notas_sobre_obra', 'viloes']\n"
     ]
    }
   ],
   "source": [
    "# Observando as informacoes foi visto que ha presenca de arrays.\n",
    "# Aqui e verificado quais colunas que possuem listas ou arrays.\n",
    "colunas_arrays = [col for col in dados_df.columns if dados_df[col].apply(type).eq(list).any()]\n",
    "print(\"Colunas que contêm arrays:\", colunas_arrays)"
   ]
  },
  {
   "cell_type": "markdown",
   "metadata": {
    "application/vnd.databricks.v1+cell": {
     "cellMetadata": {},
     "inputWidgets": {},
     "nuid": "cce82568-aff8-470a-b15a-f20c5af55805",
     "showTitle": false,
     "tableResultSettingsMap": {},
     "title": ""
    }
   },
   "source": [
    "Devemos converter as colunas, que apresentaram arrays, para seu tipo de dado mais adequado.  "
   ]
  },
  {
   "cell_type": "code",
   "execution_count": 0,
   "metadata": {
    "application/vnd.databricks.v1+cell": {
     "cellMetadata": {
      "byteLimit": 2048000,
      "rowLimit": 10000
     },
     "inputWidgets": {},
     "nuid": "af80b192-8059-4aea-8b4d-0cad0709595f",
     "showTitle": false,
     "tableResultSettingsMap": {},
     "title": ""
    }
   },
   "outputs": [
    {
     "output_type": "display_data",
     "data": {
      "text/html": [
       "<style scoped>\n",
       "  .table-result-container {\n",
       "    max-height: 300px;\n",
       "    overflow: auto;\n",
       "  }\n",
       "  table, th, td {\n",
       "    border: 1px solid black;\n",
       "    border-collapse: collapse;\n",
       "  }\n",
       "  th, td {\n",
       "    padding: 5px;\n",
       "  }\n",
       "  th {\n",
       "    text-align: left;\n",
       "  }\n",
       "</style><div class='table-result-container'><table class='table-result'><thead style='background-color: white'><tr><th>id_livro</th><th>ano</th><th>titulo</th><th>editora</th><th>qtd_paginas</th><th>notas_sobre_obra</th><th>viloes</th></tr></thead><tbody><tr><td>1</td><td>1974</td><td>Carrie</td><td>Doubleday</td><td>199</td><td>['']</td><td>['Tina Blake', 'Cindi', 'Myra Crewes', 'Billy deLois', 'Kenny Garson', 'Mary Lila Grace', 'Christine Hargensen', 'Vic Mooney', 'The Mortimer Snerds', 'Billy Nolan', 'Elenor Richmond', 'Rachel Spies', 'Jackie Talbot', 'Donna and Mary Lila Grace Thibodeau', 'Jessica Upshaw', 'Norma Watson', 'Margaret White']</td></tr><tr><td>2</td><td>1975</td><td>Salem's Lot</td><td>Doubleday</td><td>439</td><td>['Nominee, World Fantasy Award, 1976[2]']</td><td>['Kurt Barlow', 'Richard Straker']</td></tr><tr><td>3</td><td>1977</td><td>The Shining</td><td>Doubleday</td><td>447</td><td>['Runner-up (4th place), Locus Award for Best Fantasy Novel, 1978[2]']</td><td>['Horace M. Derwent', 'Delbert Grady', 'Jack Torrance']</td></tr><tr><td>4</td><td>1977</td><td>Rage</td><td>Signet Books</td><td>211</td><td>['Published under pseudonym Richard Bachman']</td><td>[]</td></tr><tr><td>5</td><td>1978</td><td>The Stand</td><td>Doubleday</td><td>823</td><td>['Nominee, World Fantasy Award, 1979', 'Runner-up (15th place), Locus Award, 1979[2]']</td><td>['Donald Merwin Elbert', 'Randall Flagg', 'Lloyd Henreid', 'The Kid', 'Harold Lauder', 'Rat Man']</td></tr><tr><td>6</td><td>1979</td><td>The Long Walk</td><td>Signet Books</td><td>384</td><td>['Published under pseudonym Richard Bachman']</td><td>['Randall Flagg', 'The Major']</td></tr><tr><td>7</td><td>1979</td><td>The Dead Zone</td><td>Viking Press</td><td>428</td><td>['Runner-up (2nd place), Locus Award for Best Fantasy Novel, 1980[2]']</td><td>['Frank Dodd', 'Henrietta Dodd', 'Malcolm Janus', 'Sonny Elliman', 'Greg Stillson', \"The Devil's Dozen\"]</td></tr><tr><td>8</td><td>1980</td><td>Firestarter</td><td>Viking Press</td><td>426</td><td>['Nominee, British Fantasy Award’s August Derleth Award, 1981', 'Runner-up (8th place), Locus Award for Best Science Fiction Novel, 1981[2]']</td><td>['James Hollister', 'Charlie McGee', 'John Rainbird']</td></tr><tr><td>9</td><td>1981</td><td>Roadwork</td><td>Signet Books</td><td>274</td><td>['Published under pseudonym Richard Bachman']</td><td>[]</td></tr><tr><td>10</td><td>1981</td><td>Cujo</td><td>Viking Press</td><td>319</td><td>['Winner, British Fantasy Award’s August Derleth Award, 1982', 'Runner-up (21st place), Locus Award for Best Fantasy Novel, 1982[2]']</td><td>['Cujo']</td></tr><tr><td>11</td><td>1982</td><td>The Running Man</td><td>Signet Books</td><td>219</td><td>['Published under pseudonym Richard Bachman']</td><td>['The Gladiators', 'Damon Killian']</td></tr><tr><td>12</td><td>1982</td><td>The Dark Tower: The Gunslinger</td><td>Grant</td><td>224</td><td>['']</td><td>['Marten Broadcloak', 'Crimson King', 'Randall Flagg', 'Sylvia Pittston']</td></tr><tr><td>13</td><td>1983</td><td>Christine</td><td>Viking</td><td>526</td><td>['Runner-up (6th place), Locus Award for Best Fantasy Novel, 1984[2]']</td><td>['Christine (car)', 'Arnie Cunningham']</td></tr><tr><td>14</td><td>1983</td><td>Pet Sematary</td><td>Doubleday</td><td>374</td><td>['Nominee, World Fantasy Award, 1984', 'Runner-up (7th place), Locus Award for Best Fantasy Novel, 1984[2]']</td><td>['Winston Church', 'Gage Creed', 'Victor Pascow', 'Wendigo']</td></tr><tr><td>15</td><td>1983</td><td>Cycle of the Werewolf</td><td>Land of Enchantment</td><td>127</td><td>['Illustrated by Bernie Wrightson']</td><td>['Lester Lowe']</td></tr><tr><td>16</td><td>1984</td><td>The Talisman</td><td>Viking</td><td>646</td><td>['Written with Peter Straub', 'Nominee, World Fantasy Award, 1985', 'Runner-up (4th place), Locus Award for Best Fantasy Novel, 1985[2]']</td><td>[]</td></tr><tr><td>17</td><td>1984</td><td>The Eyes of the Dragon</td><td>Philtrum Press (1984)Viking (1987)</td><td>326</td><td>['First published as a limited edition in 1984, then for the mass market in 1987']</td><td>['Randall Flagg']</td></tr><tr><td>18</td><td>1984</td><td>Thinner</td><td>NAL</td><td>309</td><td>['Published under pseudonym Richard Bachman']</td><td>[]</td></tr><tr><td>19</td><td>1986</td><td>It</td><td>Viking</td><td>1138</td><td>['Winner, British Fantasy Award’s August Derleth Award, 1987', 'Nominee, World Fantasy Award, 1987', 'Runner-up (3rd place), Locus Award for Best Fantasy Novel, 1987[2]']</td><td>['Henry Bowers', 'Butch Bowers', 'Greta Bowie', 'Victor Criss', 'Marcia Fadden', 'John Garton', 'Peter Gordon', 'Patrick Hockstetter', 'Belch Huggins', 'It (Creature)', 'Richard P. Macklin', 'Alvin Marsh', 'Sally Mueller', 'Tom Rogan', 'Christopher Unwin']</td></tr><tr><td>20</td><td>1987</td><td>The Dark Tower II: The Drawing of the Three</td><td>Grant</td><td>400</td><td>['Runner-up (16th place), Locus Award for Best Fantasy Novel, 1988[2]']</td><td>['Jack Mort']</td></tr><tr><td>21</td><td>1987</td><td>Misery</td><td>Viking</td><td>310</td><td>['Winner, Bram Stoker Award, 1988', 'Nominee, World Fantasy Award, 1988[2]']</td><td>['Annie Wilkes']</td></tr><tr><td>22</td><td>1987</td><td>The Tommyknockers</td><td>Putnam</td><td>558</td><td>['Runner-up (16th place), Locus Award for Best Science Fiction Novel, 1988[2]']</td><td>['Tommyknockers']</td></tr><tr><td>23</td><td>1989</td><td>The Dark Half</td><td>Viking</td><td>431</td><td>['Runner-up (2nd place), Locus Award for Best Horror Novel, 1990[2]']</td><td>['George Stark']</td></tr><tr><td>24</td><td>1990</td><td>The Stand Uncut</td><td>Doubleday</td><td>1152</td><td>['The Complete & Uncut Edition', \"Runner-up (2nd place), Locus Award's Best Horror/Dark Fantasy Novel, 1991[2]\"]</td><td>[]</td></tr><tr><td>25</td><td>1991</td><td>The Dark Tower III: The Waste Lands</td><td>Grant</td><td>512</td><td>['Nominee, Bram Stoker Award, 1992', 'Runner-up (3rd place), Locus Award for Best Horror/Dark Fantasy Novel, 1992[2]']</td><td>['Blaine the Mono', 'Randall Flagg']</td></tr><tr><td>26</td><td>1991</td><td>Needful Things</td><td>Viking</td><td>690</td><td>['Nominee, Bram Stoker Award, 1992', 'Runner-up (13th place), Locus Award for Best Horror/Dark Fantasy Novel, 1992[2]']</td><td>['Leland Gaunt']</td></tr><tr><td>27</td><td>1992</td><td>Gerald's Game</td><td>Viking</td><td>352</td><td>[]</td><td>['Gerald Burlingame', 'Raymond Andrew Joubert', 'Tom Mahout']</td></tr><tr><td>28</td><td>1992</td><td>Dolores Claiborne</td><td>Viking</td><td>305</td><td>['Runner-up (14th place), Locus Award for Best Horror/Dark Fantasy Novel, 1993[2]']</td><td>['Joe St. George']</td></tr><tr><td>29</td><td>1994</td><td>Insomnia</td><td>Viking</td><td>787</td><td>['Nominee, Bram Stoker Award, 1995', 'Runner-up (3rd place), Locus Award for Best Fantasy/Horror Novel, 1995[2]']</td><td>['Crimson King', 'Susan Day']</td></tr><tr><td>30</td><td>1995</td><td>Rose Madder</td><td>Viking</td><td>420</td><td>['Runner-up (3rd place), Locus Award for Best Horror/Dark Fantasy Novel, 1995[2]']</td><td>['Norman Daniels', 'Susan Day']</td></tr><tr><td>31</td><td>1996</td><td>The Green Mile</td><td>Signet Books</td><td>400</td><td>['Winner, Bram Stoker Award, 1997', 'Runner-up (8th place), Locus Award for Best Horror/Dark Fantasy Novel, 1997[2]']</td><td>['Percy Wetmore', 'William Wharton']</td></tr><tr><td>32</td><td>1996</td><td>Desperation</td><td>Viking</td><td>704</td><td>['Twin novel of The Regulators', 'Winner, Locus Award for Best Horror/Dark Fantasy Novel, 1997[2]']</td><td>[]</td></tr><tr><td>33</td><td>1996</td><td>The Regulators</td><td>Dutton</td><td>480</td><td>['Published under pseudonym Richard Bachman', 'Twin novel of Desperation']</td><td>[]</td></tr><tr><td>34</td><td>1997</td><td>The Dark Tower IV: Wizard and Glass</td><td>Grant</td><td>787</td><td>['Runner-up (4th place), Locus Award for Best Fantasy Novel, 1998', 'Runner-up (6th place), Locus Award for Best Art Book, 1998[2]']</td><td>['Blaine the Mono', 'Cordelia Delgado', 'Rhea Dubativo', 'John Farson', 'Randall Flagg', 'Eldred Jonas']</td></tr><tr><td>35</td><td>1998</td><td>Bag of Bones</td><td>Scribner</td><td>529</td><td>['Winner, Bram Stoker Award, 1999', 'Winner, British Fantasy Award’s August Derleth Award, 1999', 'Winner, Locus Award for Best Dark Fantasy/Horror Novel, 1999[2]']</td><td>[]</td></tr><tr><td>36</td><td>1999</td><td>The Girl Who Loved Tom Gordon</td><td>Scribner</td><td>224</td><td>[]</td><td>[]</td></tr><tr><td>37</td><td>2001</td><td>Dreamcatcher</td><td>Scribner</td><td>620</td><td>[]</td><td>[]</td></tr><tr><td>38</td><td>2001</td><td>Black House</td><td>Random House</td><td>625</td><td>['Sequel to The Talisman', 'Written with Peter Straub', 'Nominee, Bram Stoker Award, 2002', 'Runner-up (7th place), Locus Award for Best Fantasy Novel, 2002[2]']</td><td>['Crimson King']</td></tr><tr><td>39</td><td>2002</td><td>From a Buick 8</td><td>Scribner</td><td>368</td><td>['Nominee, Bram Stoker Award, 2003']</td><td>['Brian Lippy']</td></tr><tr><td>40</td><td>2003</td><td>The Dark Tower V: Wolves of the Calla</td><td>Grant</td><td>714</td><td>['Nominee, Bram Stoker Award, 2004', 'Runner-up (4th place), Locus Award for Best Fantasy Novel, 2004[2]']</td><td>[]</td></tr><tr><td>41</td><td>2004</td><td>The Dark Tower VI: Song of Susannah</td><td>Grant</td><td>432</td><td>['Runner-up (4th place), Locus Award for Best Fantasy Novel, 2005']</td><td>[]</td></tr><tr><td>42</td><td>2004</td><td>The Dark Tower VII: The Dark Tower</td><td>978-1-880-41862-8</td><td>845</td><td>[\"Winner, British Fantasy Award's August Derleth Award, 2005\", 'Nominee, Bram Stoker Award, 2005[2]']</td><td>['Crimson King', 'Dandelo', 'Mordred Deschain', 'Randall Flagg']</td></tr><tr><td>43</td><td>2005</td><td>The Colorado Kid</td><td>Hard Case Crime</td><td>184</td><td>[]</td><td>[]</td></tr><tr><td>44</td><td>2006</td><td>Cell</td><td>Scribner</td><td>351</td><td>[]</td><td>['The Raggedy Man']</td></tr><tr><td>45</td><td>2006</td><td>Lisey's Story</td><td>Scribner</td><td>528</td><td>['Winner, Bram Stoker Award, 2007', 'Nominee, World Fantasy Award, 2007', 'Runner-up (10th place), Locus Award for Best Fantasy Novel, 2007[2]']</td><td>[]</td></tr><tr><td>46</td><td>2007</td><td>Blaze</td><td>Scribner</td><td>304</td><td>['Published under pseudonym Richard Bachman']</td><td>[]</td></tr><tr><td>47</td><td>2008</td><td>Duma Key</td><td>Scribner</td><td>607</td><td>['Winner, Bram Stoker Award,  2009[2]']</td><td>[]</td></tr><tr><td>48</td><td>2009</td><td>Under the Dome</td><td>Scribner</td><td>1074</td><td>[\"Nominee, British Fantasy Award's August Derleth Award, 2010\", 'Runner-up (7th place), Locus Award for Best Science Fiction Novel, 2010[2]']</td><td>['Jim Rennie, Jr.', 'Jim Rennie', 'Carter Thibodeau']</td></tr><tr><td>49</td><td>2011</td><td>11/22/63</td><td>Scribner</td><td>849</td><td>['Nominee, British Fantasy Award, 2012', 'Nominee, World Fantasy Award, 2012', 'Runner-up (2nd place), Locus Award for Best Science Fiction Novel, 2012[2]']</td><td>[]</td></tr><tr><td>50</td><td>2012</td><td>The Dark Tower: The Wind Through the Keyhole</td><td>Grant</td><td>336</td><td>['The eighth Dark Tower novel, but chronologically set between the fourth and fifth volumes.']</td><td>[]</td></tr><tr><td>51</td><td>2013</td><td>Joyland</td><td>Hard Case Crime</td><td>288</td><td>['Nominee, Edgar Award for Best Paperback Original, 2014[3]', 'Runner-up (11th place), Locus Award for Best Fantasy Novel, 2014[2]']</td><td>['Lane Hardy']</td></tr><tr><td>52</td><td>2013</td><td>Doctor Sleep</td><td>Scribner</td><td>531</td><td>['Sequel to The Shining', 'Winner, Bram Stoker Award, 2014', 'Runner-up (5th place), Locus Award for Best Fantasy Novel, 2014[2]']</td><td>['Rose the Hat']</td></tr><tr><td>53</td><td>2014</td><td>Mr. Mercedes</td><td>Scribner</td><td>436</td><td>['First novel in the Bill Hodges Trilogy', 'Winner, Edgar Award for Best Novel, 2015[3]']</td><td>['Brady Hartsfield']</td></tr><tr><td>54</td><td>2014</td><td>Revival</td><td>Scribner</td><td>403</td><td>['Runner-up (8th place), Locus Award for Best Fantasy Novel, 2015[2]']</td><td>['Mother of the Null']</td></tr><tr><td>55</td><td>2015</td><td>Finders Keepers</td><td>Scribner</td><td>434</td><td>['Second novel in the Bill Hodges Trilogy.']</td><td>['Brady Hartsfield']</td></tr><tr><td>56</td><td>2016</td><td>End of Watch</td><td>Scribner</td><td>496</td><td>['Third novel in the Bill Hodges Trilogy.']</td><td>['Brady Hartsfield']</td></tr><tr><td>57</td><td>2017</td><td>Gwendy's Button Box</td><td>Cemetery Dance Publications</td><td>175</td><td>['Written with Richard Chizmar']</td><td>[]</td></tr><tr><td>58</td><td>2017</td><td>Sleeping Beauties</td><td>Scribner</td><td>702</td><td>['Written with Owen King', 'Nominee, Bram Stoker Award, 2018[2]']</td><td>[]</td></tr><tr><td>59</td><td>2018</td><td>The Outsider</td><td>Scribner</td><td>576</td><td>['First novel in the Holly Gibney Series', 'Runner-up (2nd place), Locus Award for Best Horror Novel, 2019[2]']</td><td>['The Outsider (Creature)']</td></tr><tr><td>60</td><td>2018</td><td>Elevation</td><td>Scribner</td><td>144</td><td>[]</td><td>[]</td></tr><tr><td>61</td><td>2019</td><td>The Institute</td><td>Scribner</td><td>576</td><td>[\"Nominee, British Fantasy Award's August Derleth Award, 2020\", 'Runner-up (3rd place), Locus Award for Best Horror Novel, 2020[2]']</td><td>['Gladys Hickson']</td></tr><tr><td>62</td><td>2021</td><td>Later</td><td>Hard Case Crime</td><td>256</td><td>[]</td><td>[]</td></tr><tr><td>63</td><td>2021</td><td>Billy Summers</td><td>Scribner</td><td>528</td><td>[]</td><td>[]</td></tr></tbody></table></div>"
      ]
     },
     "metadata": {
      "application/vnd.databricks.v1+output": {
       "addedWidgets": {},
       "aggData": [],
       "aggError": "",
       "aggOverflow": false,
       "aggSchema": [],
       "aggSeriesLimitReached": false,
       "aggType": "",
       "arguments": {},
       "columnCustomDisplayInfos": {},
       "data": [
        [
         1,
         1974,
         "Carrie",
         "Doubleday",
         199,
         "['']",
         "['Tina Blake', 'Cindi', 'Myra Crewes', 'Billy deLois', 'Kenny Garson', 'Mary Lila Grace', 'Christine Hargensen', 'Vic Mooney', 'The Mortimer Snerds', 'Billy Nolan', 'Elenor Richmond', 'Rachel Spies', 'Jackie Talbot', 'Donna and Mary Lila Grace Thibodeau', 'Jessica Upshaw', 'Norma Watson', 'Margaret White']"
        ],
        [
         2,
         1975,
         "Salem's Lot",
         "Doubleday",
         439,
         "['Nominee, World Fantasy Award, 1976[2]']",
         "['Kurt Barlow', 'Richard Straker']"
        ],
        [
         3,
         1977,
         "The Shining",
         "Doubleday",
         447,
         "['Runner-up (4th place), Locus Award for Best Fantasy Novel, 1978[2]']",
         "['Horace M. Derwent', 'Delbert Grady', 'Jack Torrance']"
        ],
        [
         4,
         1977,
         "Rage",
         "Signet Books",
         211,
         "['Published under pseudonym Richard Bachman']",
         "[]"
        ],
        [
         5,
         1978,
         "The Stand",
         "Doubleday",
         823,
         "['Nominee, World Fantasy Award, 1979', 'Runner-up (15th place), Locus Award, 1979[2]']",
         "['Donald Merwin Elbert', 'Randall Flagg', 'Lloyd Henreid', 'The Kid', 'Harold Lauder', 'Rat Man']"
        ],
        [
         6,
         1979,
         "The Long Walk",
         "Signet Books",
         384,
         "['Published under pseudonym Richard Bachman']",
         "['Randall Flagg', 'The Major']"
        ],
        [
         7,
         1979,
         "The Dead Zone",
         "Viking Press",
         428,
         "['Runner-up (2nd place), Locus Award for Best Fantasy Novel, 1980[2]']",
         "['Frank Dodd', 'Henrietta Dodd', 'Malcolm Janus', 'Sonny Elliman', 'Greg Stillson', \"The Devil's Dozen\"]"
        ],
        [
         8,
         1980,
         "Firestarter",
         "Viking Press",
         426,
         "['Nominee, British Fantasy Award’s August Derleth Award, 1981', 'Runner-up (8th place), Locus Award for Best Science Fiction Novel, 1981[2]']",
         "['James Hollister', 'Charlie McGee', 'John Rainbird']"
        ],
        [
         9,
         1981,
         "Roadwork",
         "Signet Books",
         274,
         "['Published under pseudonym Richard Bachman']",
         "[]"
        ],
        [
         10,
         1981,
         "Cujo",
         "Viking Press",
         319,
         "['Winner, British Fantasy Award’s August Derleth Award, 1982', 'Runner-up (21st place), Locus Award for Best Fantasy Novel, 1982[2]']",
         "['Cujo']"
        ],
        [
         11,
         1982,
         "The Running Man",
         "Signet Books",
         219,
         "['Published under pseudonym Richard Bachman']",
         "['The Gladiators', 'Damon Killian']"
        ],
        [
         12,
         1982,
         "The Dark Tower: The Gunslinger",
         "Grant",
         224,
         "['']",
         "['Marten Broadcloak', 'Crimson King', 'Randall Flagg', 'Sylvia Pittston']"
        ],
        [
         13,
         1983,
         "Christine",
         "Viking",
         526,
         "['Runner-up (6th place), Locus Award for Best Fantasy Novel, 1984[2]']",
         "['Christine (car)', 'Arnie Cunningham']"
        ],
        [
         14,
         1983,
         "Pet Sematary",
         "Doubleday",
         374,
         "['Nominee, World Fantasy Award, 1984', 'Runner-up (7th place), Locus Award for Best Fantasy Novel, 1984[2]']",
         "['Winston Church', 'Gage Creed', 'Victor Pascow', 'Wendigo']"
        ],
        [
         15,
         1983,
         "Cycle of the Werewolf",
         "Land of Enchantment",
         127,
         "['Illustrated by Bernie Wrightson']",
         "['Lester Lowe']"
        ],
        [
         16,
         1984,
         "The Talisman",
         "Viking",
         646,
         "['Written with Peter Straub', 'Nominee, World Fantasy Award, 1985', 'Runner-up (4th place), Locus Award for Best Fantasy Novel, 1985[2]']",
         "[]"
        ],
        [
         17,
         1984,
         "The Eyes of the Dragon",
         "Philtrum Press (1984)Viking (1987)",
         326,
         "['First published as a limited edition in 1984, then for the mass market in 1987']",
         "['Randall Flagg']"
        ],
        [
         18,
         1984,
         "Thinner",
         "NAL",
         309,
         "['Published under pseudonym Richard Bachman']",
         "[]"
        ],
        [
         19,
         1986,
         "It",
         "Viking",
         1138,
         "['Winner, British Fantasy Award’s August Derleth Award, 1987', 'Nominee, World Fantasy Award, 1987', 'Runner-up (3rd place), Locus Award for Best Fantasy Novel, 1987[2]']",
         "['Henry Bowers', 'Butch Bowers', 'Greta Bowie', 'Victor Criss', 'Marcia Fadden', 'John Garton', 'Peter Gordon', 'Patrick Hockstetter', 'Belch Huggins', 'It (Creature)', 'Richard P. Macklin', 'Alvin Marsh', 'Sally Mueller', 'Tom Rogan', 'Christopher Unwin']"
        ],
        [
         20,
         1987,
         "The Dark Tower II: The Drawing of the Three",
         "Grant",
         400,
         "['Runner-up (16th place), Locus Award for Best Fantasy Novel, 1988[2]']",
         "['Jack Mort']"
        ],
        [
         21,
         1987,
         "Misery",
         "Viking",
         310,
         "['Winner, Bram Stoker Award, 1988', 'Nominee, World Fantasy Award, 1988[2]']",
         "['Annie Wilkes']"
        ],
        [
         22,
         1987,
         "The Tommyknockers",
         "Putnam",
         558,
         "['Runner-up (16th place), Locus Award for Best Science Fiction Novel, 1988[2]']",
         "['Tommyknockers']"
        ],
        [
         23,
         1989,
         "The Dark Half",
         "Viking",
         431,
         "['Runner-up (2nd place), Locus Award for Best Horror Novel, 1990[2]']",
         "['George Stark']"
        ],
        [
         24,
         1990,
         "The Stand Uncut",
         "Doubleday",
         1152,
         "['The Complete & Uncut Edition', \"Runner-up (2nd place), Locus Award's Best Horror/Dark Fantasy Novel, 1991[2]\"]",
         "[]"
        ],
        [
         25,
         1991,
         "The Dark Tower III: The Waste Lands",
         "Grant",
         512,
         "['Nominee, Bram Stoker Award, 1992', 'Runner-up (3rd place), Locus Award for Best Horror/Dark Fantasy Novel, 1992[2]']",
         "['Blaine the Mono', 'Randall Flagg']"
        ],
        [
         26,
         1991,
         "Needful Things",
         "Viking",
         690,
         "['Nominee, Bram Stoker Award, 1992', 'Runner-up (13th place), Locus Award for Best Horror/Dark Fantasy Novel, 1992[2]']",
         "['Leland Gaunt']"
        ],
        [
         27,
         1992,
         "Gerald's Game",
         "Viking",
         352,
         "[]",
         "['Gerald Burlingame', 'Raymond Andrew Joubert', 'Tom Mahout']"
        ],
        [
         28,
         1992,
         "Dolores Claiborne",
         "Viking",
         305,
         "['Runner-up (14th place), Locus Award for Best Horror/Dark Fantasy Novel, 1993[2]']",
         "['Joe St. George']"
        ],
        [
         29,
         1994,
         "Insomnia",
         "Viking",
         787,
         "['Nominee, Bram Stoker Award, 1995', 'Runner-up (3rd place), Locus Award for Best Fantasy/Horror Novel, 1995[2]']",
         "['Crimson King', 'Susan Day']"
        ],
        [
         30,
         1995,
         "Rose Madder",
         "Viking",
         420,
         "['Runner-up (3rd place), Locus Award for Best Horror/Dark Fantasy Novel, 1995[2]']",
         "['Norman Daniels', 'Susan Day']"
        ],
        [
         31,
         1996,
         "The Green Mile",
         "Signet Books",
         400,
         "['Winner, Bram Stoker Award, 1997', 'Runner-up (8th place), Locus Award for Best Horror/Dark Fantasy Novel, 1997[2]']",
         "['Percy Wetmore', 'William Wharton']"
        ],
        [
         32,
         1996,
         "Desperation",
         "Viking",
         704,
         "['Twin novel of The Regulators', 'Winner, Locus Award for Best Horror/Dark Fantasy Novel, 1997[2]']",
         "[]"
        ],
        [
         33,
         1996,
         "The Regulators",
         "Dutton",
         480,
         "['Published under pseudonym Richard Bachman', 'Twin novel of Desperation']",
         "[]"
        ],
        [
         34,
         1997,
         "The Dark Tower IV: Wizard and Glass",
         "Grant",
         787,
         "['Runner-up (4th place), Locus Award for Best Fantasy Novel, 1998', 'Runner-up (6th place), Locus Award for Best Art Book, 1998[2]']",
         "['Blaine the Mono', 'Cordelia Delgado', 'Rhea Dubativo', 'John Farson', 'Randall Flagg', 'Eldred Jonas']"
        ],
        [
         35,
         1998,
         "Bag of Bones",
         "Scribner",
         529,
         "['Winner, Bram Stoker Award, 1999', 'Winner, British Fantasy Award’s August Derleth Award, 1999', 'Winner, Locus Award for Best Dark Fantasy/Horror Novel, 1999[2]']",
         "[]"
        ],
        [
         36,
         1999,
         "The Girl Who Loved Tom Gordon",
         "Scribner",
         224,
         "[]",
         "[]"
        ],
        [
         37,
         2001,
         "Dreamcatcher",
         "Scribner",
         620,
         "[]",
         "[]"
        ],
        [
         38,
         2001,
         "Black House",
         "Random House",
         625,
         "['Sequel to The Talisman', 'Written with Peter Straub', 'Nominee, Bram Stoker Award, 2002', 'Runner-up (7th place), Locus Award for Best Fantasy Novel, 2002[2]']",
         "['Crimson King']"
        ],
        [
         39,
         2002,
         "From a Buick 8",
         "Scribner",
         368,
         "['Nominee, Bram Stoker Award, 2003']",
         "['Brian Lippy']"
        ],
        [
         40,
         2003,
         "The Dark Tower V: Wolves of the Calla",
         "Grant",
         714,
         "['Nominee, Bram Stoker Award, 2004', 'Runner-up (4th place), Locus Award for Best Fantasy Novel, 2004[2]']",
         "[]"
        ],
        [
         41,
         2004,
         "The Dark Tower VI: Song of Susannah",
         "Grant",
         432,
         "['Runner-up (4th place), Locus Award for Best Fantasy Novel, 2005']",
         "[]"
        ],
        [
         42,
         2004,
         "The Dark Tower VII: The Dark Tower",
         "978-1-880-41862-8",
         845,
         "[\"Winner, British Fantasy Award's August Derleth Award, 2005\", 'Nominee, Bram Stoker Award, 2005[2]']",
         "['Crimson King', 'Dandelo', 'Mordred Deschain', 'Randall Flagg']"
        ],
        [
         43,
         2005,
         "The Colorado Kid",
         "Hard Case Crime",
         184,
         "[]",
         "[]"
        ],
        [
         44,
         2006,
         "Cell",
         "Scribner",
         351,
         "[]",
         "['The Raggedy Man']"
        ],
        [
         45,
         2006,
         "Lisey's Story",
         "Scribner",
         528,
         "['Winner, Bram Stoker Award, 2007', 'Nominee, World Fantasy Award, 2007', 'Runner-up (10th place), Locus Award for Best Fantasy Novel, 2007[2]']",
         "[]"
        ],
        [
         46,
         2007,
         "Blaze",
         "Scribner",
         304,
         "['Published under pseudonym Richard Bachman']",
         "[]"
        ],
        [
         47,
         2008,
         "Duma Key",
         "Scribner",
         607,
         "['Winner, Bram Stoker Award,  2009[2]']",
         "[]"
        ],
        [
         48,
         2009,
         "Under the Dome",
         "Scribner",
         1074,
         "[\"Nominee, British Fantasy Award's August Derleth Award, 2010\", 'Runner-up (7th place), Locus Award for Best Science Fiction Novel, 2010[2]']",
         "['Jim Rennie, Jr.', 'Jim Rennie', 'Carter Thibodeau']"
        ],
        [
         49,
         2011,
         "11/22/63",
         "Scribner",
         849,
         "['Nominee, British Fantasy Award, 2012', 'Nominee, World Fantasy Award, 2012', 'Runner-up (2nd place), Locus Award for Best Science Fiction Novel, 2012[2]']",
         "[]"
        ],
        [
         50,
         2012,
         "The Dark Tower: The Wind Through the Keyhole",
         "Grant",
         336,
         "['The eighth Dark Tower novel, but chronologically set between the fourth and fifth volumes.']",
         "[]"
        ],
        [
         51,
         2013,
         "Joyland",
         "Hard Case Crime",
         288,
         "['Nominee, Edgar Award for Best Paperback Original, 2014[3]', 'Runner-up (11th place), Locus Award for Best Fantasy Novel, 2014[2]']",
         "['Lane Hardy']"
        ],
        [
         52,
         2013,
         "Doctor Sleep",
         "Scribner",
         531,
         "['Sequel to The Shining', 'Winner, Bram Stoker Award, 2014', 'Runner-up (5th place), Locus Award for Best Fantasy Novel, 2014[2]']",
         "['Rose the Hat']"
        ],
        [
         53,
         2014,
         "Mr. Mercedes",
         "Scribner",
         436,
         "['First novel in the Bill Hodges Trilogy', 'Winner, Edgar Award for Best Novel, 2015[3]']",
         "['Brady Hartsfield']"
        ],
        [
         54,
         2014,
         "Revival",
         "Scribner",
         403,
         "['Runner-up (8th place), Locus Award for Best Fantasy Novel, 2015[2]']",
         "['Mother of the Null']"
        ],
        [
         55,
         2015,
         "Finders Keepers",
         "Scribner",
         434,
         "['Second novel in the Bill Hodges Trilogy.']",
         "['Brady Hartsfield']"
        ],
        [
         56,
         2016,
         "End of Watch",
         "Scribner",
         496,
         "['Third novel in the Bill Hodges Trilogy.']",
         "['Brady Hartsfield']"
        ],
        [
         57,
         2017,
         "Gwendy's Button Box",
         "Cemetery Dance Publications",
         175,
         "['Written with Richard Chizmar']",
         "[]"
        ],
        [
         58,
         2017,
         "Sleeping Beauties",
         "Scribner",
         702,
         "['Written with Owen King', 'Nominee, Bram Stoker Award, 2018[2]']",
         "[]"
        ],
        [
         59,
         2018,
         "The Outsider",
         "Scribner",
         576,
         "['First novel in the Holly Gibney Series', 'Runner-up (2nd place), Locus Award for Best Horror Novel, 2019[2]']",
         "['The Outsider (Creature)']"
        ],
        [
         60,
         2018,
         "Elevation",
         "Scribner",
         144,
         "[]",
         "[]"
        ],
        [
         61,
         2019,
         "The Institute",
         "Scribner",
         576,
         "[\"Nominee, British Fantasy Award's August Derleth Award, 2020\", 'Runner-up (3rd place), Locus Award for Best Horror Novel, 2020[2]']",
         "['Gladys Hickson']"
        ],
        [
         62,
         2021,
         "Later",
         "Hard Case Crime",
         256,
         "[]",
         "[]"
        ],
        [
         63,
         2021,
         "Billy Summers",
         "Scribner",
         528,
         "[]",
         "[]"
        ]
       ],
       "datasetInfos": [],
       "dbfsResultPath": null,
       "isJsonSchema": true,
       "metadata": {},
       "overflow": false,
       "plotOptions": {
        "customPlotOptions": {},
        "displayType": "table",
        "pivotAggregation": null,
        "pivotColumns": null,
        "xColumns": null,
        "yColumns": null
       },
       "removedWidgets": [],
       "schema": [
        {
         "metadata": "{}",
         "name": "id_livro",
         "type": "\"long\""
        },
        {
         "metadata": "{}",
         "name": "ano",
         "type": "\"long\""
        },
        {
         "metadata": "{}",
         "name": "titulo",
         "type": "\"string\""
        },
        {
         "metadata": "{}",
         "name": "editora",
         "type": "\"string\""
        },
        {
         "metadata": "{}",
         "name": "qtd_paginas",
         "type": "\"long\""
        },
        {
         "metadata": "{}",
         "name": "notas_sobre_obra",
         "type": "\"string\""
        },
        {
         "metadata": "{}",
         "name": "viloes",
         "type": "\"string\""
        }
       ],
       "type": "table"
      }
     },
     "output_type": "display_data"
    }
   ],
   "source": [
    "# Convertendo as colunas para string\n",
    "dados_df['notas_sobre_obra'] = dados_df['notas_sobre_obra'].astype(str)\n",
    "dados_df['viloes'] = dados_df['viloes'].astype(str)\n",
    "\n",
    "display(dados_df)"
   ]
  },
  {
   "cell_type": "markdown",
   "metadata": {
    "application/vnd.databricks.v1+cell": {
     "cellMetadata": {},
     "inputWidgets": {},
     "nuid": "4646812f-78c4-4a87-a233-f75968dd62f6",
     "showTitle": false,
     "tableResultSettingsMap": {},
     "title": ""
    }
   },
   "source": [
    "Analisando as informações notou-se que a coluna \"viloes\" apresenta, em alguns casos, mais de um vilão na mesma linha e para um mesmo livro. Podemos ajustar o dataframe para que cada informação de vilão apareça de forma individual, ou seja, um vilão em cada linha. Ainda, as demais informações sobre o livro ao qual o respectivo vilão pertence deverão ser mantidas."
   ]
  },
  {
   "cell_type": "code",
   "execution_count": 0,
   "metadata": {
    "application/vnd.databricks.v1+cell": {
     "cellMetadata": {
      "byteLimit": 2048000,
      "rowLimit": 10000
     },
     "inputWidgets": {},
     "nuid": "665d9396-c6da-4b01-986b-a18c8f79d67d",
     "showTitle": false,
     "tableResultSettingsMap": {},
     "title": ""
    }
   },
   "outputs": [
    {
     "output_type": "display_data",
     "data": {
      "text/html": [
       "<style scoped>\n",
       "  .table-result-container {\n",
       "    max-height: 300px;\n",
       "    overflow: auto;\n",
       "  }\n",
       "  table, th, td {\n",
       "    border: 1px solid black;\n",
       "    border-collapse: collapse;\n",
       "  }\n",
       "  th, td {\n",
       "    padding: 5px;\n",
       "  }\n",
       "  th {\n",
       "    text-align: left;\n",
       "  }\n",
       "</style><div class='table-result-container'><table class='table-result'><thead style='background-color: white'><tr><th>id_livro</th><th>ano</th><th>titulo</th><th>editora</th><th>qtd_paginas</th><th>notas_sobre_obra</th><th>viloes</th></tr></thead><tbody><tr><td>1</td><td>1974</td><td>Carrie</td><td>Doubleday</td><td>199</td><td>['']</td><td>['Tina Blake'</td></tr><tr><td>1</td><td>1974</td><td>Carrie</td><td>Doubleday</td><td>199</td><td>['']</td><td>'Cindi'</td></tr><tr><td>1</td><td>1974</td><td>Carrie</td><td>Doubleday</td><td>199</td><td>['']</td><td>'Myra Crewes'</td></tr><tr><td>1</td><td>1974</td><td>Carrie</td><td>Doubleday</td><td>199</td><td>['']</td><td>'Billy deLois'</td></tr><tr><td>1</td><td>1974</td><td>Carrie</td><td>Doubleday</td><td>199</td><td>['']</td><td>'Kenny Garson'</td></tr><tr><td>1</td><td>1974</td><td>Carrie</td><td>Doubleday</td><td>199</td><td>['']</td><td>'Mary Lila Grace'</td></tr><tr><td>1</td><td>1974</td><td>Carrie</td><td>Doubleday</td><td>199</td><td>['']</td><td>'Christine Hargensen'</td></tr><tr><td>1</td><td>1974</td><td>Carrie</td><td>Doubleday</td><td>199</td><td>['']</td><td>'Vic Mooney'</td></tr><tr><td>1</td><td>1974</td><td>Carrie</td><td>Doubleday</td><td>199</td><td>['']</td><td>'The Mortimer Snerds'</td></tr><tr><td>1</td><td>1974</td><td>Carrie</td><td>Doubleday</td><td>199</td><td>['']</td><td>'Billy Nolan'</td></tr><tr><td>1</td><td>1974</td><td>Carrie</td><td>Doubleday</td><td>199</td><td>['']</td><td>'Elenor Richmond'</td></tr><tr><td>1</td><td>1974</td><td>Carrie</td><td>Doubleday</td><td>199</td><td>['']</td><td>'Rachel Spies'</td></tr><tr><td>1</td><td>1974</td><td>Carrie</td><td>Doubleday</td><td>199</td><td>['']</td><td>'Jackie Talbot'</td></tr><tr><td>1</td><td>1974</td><td>Carrie</td><td>Doubleday</td><td>199</td><td>['']</td><td>'Donna and Mary Lila Grace Thibodeau'</td></tr><tr><td>1</td><td>1974</td><td>Carrie</td><td>Doubleday</td><td>199</td><td>['']</td><td>'Jessica Upshaw'</td></tr><tr><td>1</td><td>1974</td><td>Carrie</td><td>Doubleday</td><td>199</td><td>['']</td><td>'Norma Watson'</td></tr><tr><td>1</td><td>1974</td><td>Carrie</td><td>Doubleday</td><td>199</td><td>['']</td><td>'Margaret White']</td></tr><tr><td>2</td><td>1975</td><td>Salem's Lot</td><td>Doubleday</td><td>439</td><td>['Nominee, World Fantasy Award, 1976[2]']</td><td>['Kurt Barlow'</td></tr><tr><td>2</td><td>1975</td><td>Salem's Lot</td><td>Doubleday</td><td>439</td><td>['Nominee, World Fantasy Award, 1976[2]']</td><td>'Richard Straker']</td></tr><tr><td>3</td><td>1977</td><td>The Shining</td><td>Doubleday</td><td>447</td><td>['Runner-up (4th place), Locus Award for Best Fantasy Novel, 1978[2]']</td><td>['Horace M. Derwent'</td></tr><tr><td>3</td><td>1977</td><td>The Shining</td><td>Doubleday</td><td>447</td><td>['Runner-up (4th place), Locus Award for Best Fantasy Novel, 1978[2]']</td><td>'Delbert Grady'</td></tr><tr><td>3</td><td>1977</td><td>The Shining</td><td>Doubleday</td><td>447</td><td>['Runner-up (4th place), Locus Award for Best Fantasy Novel, 1978[2]']</td><td>'Jack Torrance']</td></tr><tr><td>4</td><td>1977</td><td>Rage</td><td>Signet Books</td><td>211</td><td>['Published under pseudonym Richard Bachman']</td><td>[]</td></tr><tr><td>5</td><td>1978</td><td>The Stand</td><td>Doubleday</td><td>823</td><td>['Nominee, World Fantasy Award, 1979', 'Runner-up (15th place), Locus Award, 1979[2]']</td><td>['Donald Merwin Elbert'</td></tr><tr><td>5</td><td>1978</td><td>The Stand</td><td>Doubleday</td><td>823</td><td>['Nominee, World Fantasy Award, 1979', 'Runner-up (15th place), Locus Award, 1979[2]']</td><td>'Randall Flagg'</td></tr><tr><td>5</td><td>1978</td><td>The Stand</td><td>Doubleday</td><td>823</td><td>['Nominee, World Fantasy Award, 1979', 'Runner-up (15th place), Locus Award, 1979[2]']</td><td>'Lloyd Henreid'</td></tr><tr><td>5</td><td>1978</td><td>The Stand</td><td>Doubleday</td><td>823</td><td>['Nominee, World Fantasy Award, 1979', 'Runner-up (15th place), Locus Award, 1979[2]']</td><td>'The Kid'</td></tr><tr><td>5</td><td>1978</td><td>The Stand</td><td>Doubleday</td><td>823</td><td>['Nominee, World Fantasy Award, 1979', 'Runner-up (15th place), Locus Award, 1979[2]']</td><td>'Harold Lauder'</td></tr><tr><td>5</td><td>1978</td><td>The Stand</td><td>Doubleday</td><td>823</td><td>['Nominee, World Fantasy Award, 1979', 'Runner-up (15th place), Locus Award, 1979[2]']</td><td>'Rat Man']</td></tr><tr><td>6</td><td>1979</td><td>The Long Walk</td><td>Signet Books</td><td>384</td><td>['Published under pseudonym Richard Bachman']</td><td>['Randall Flagg'</td></tr><tr><td>6</td><td>1979</td><td>The Long Walk</td><td>Signet Books</td><td>384</td><td>['Published under pseudonym Richard Bachman']</td><td>'The Major']</td></tr><tr><td>7</td><td>1979</td><td>The Dead Zone</td><td>Viking Press</td><td>428</td><td>['Runner-up (2nd place), Locus Award for Best Fantasy Novel, 1980[2]']</td><td>['Frank Dodd'</td></tr><tr><td>7</td><td>1979</td><td>The Dead Zone</td><td>Viking Press</td><td>428</td><td>['Runner-up (2nd place), Locus Award for Best Fantasy Novel, 1980[2]']</td><td>'Henrietta Dodd'</td></tr><tr><td>7</td><td>1979</td><td>The Dead Zone</td><td>Viking Press</td><td>428</td><td>['Runner-up (2nd place), Locus Award for Best Fantasy Novel, 1980[2]']</td><td>'Malcolm Janus'</td></tr><tr><td>7</td><td>1979</td><td>The Dead Zone</td><td>Viking Press</td><td>428</td><td>['Runner-up (2nd place), Locus Award for Best Fantasy Novel, 1980[2]']</td><td>'Sonny Elliman'</td></tr><tr><td>7</td><td>1979</td><td>The Dead Zone</td><td>Viking Press</td><td>428</td><td>['Runner-up (2nd place), Locus Award for Best Fantasy Novel, 1980[2]']</td><td>'Greg Stillson'</td></tr><tr><td>7</td><td>1979</td><td>The Dead Zone</td><td>Viking Press</td><td>428</td><td>['Runner-up (2nd place), Locus Award for Best Fantasy Novel, 1980[2]']</td><td>\"The Devil's Dozen\"]</td></tr><tr><td>8</td><td>1980</td><td>Firestarter</td><td>Viking Press</td><td>426</td><td>['Nominee, British Fantasy Award’s August Derleth Award, 1981', 'Runner-up (8th place), Locus Award for Best Science Fiction Novel, 1981[2]']</td><td>['James Hollister'</td></tr><tr><td>8</td><td>1980</td><td>Firestarter</td><td>Viking Press</td><td>426</td><td>['Nominee, British Fantasy Award’s August Derleth Award, 1981', 'Runner-up (8th place), Locus Award for Best Science Fiction Novel, 1981[2]']</td><td>'Charlie McGee'</td></tr><tr><td>8</td><td>1980</td><td>Firestarter</td><td>Viking Press</td><td>426</td><td>['Nominee, British Fantasy Award’s August Derleth Award, 1981', 'Runner-up (8th place), Locus Award for Best Science Fiction Novel, 1981[2]']</td><td>'John Rainbird']</td></tr><tr><td>9</td><td>1981</td><td>Roadwork</td><td>Signet Books</td><td>274</td><td>['Published under pseudonym Richard Bachman']</td><td>[]</td></tr><tr><td>10</td><td>1981</td><td>Cujo</td><td>Viking Press</td><td>319</td><td>['Winner, British Fantasy Award’s August Derleth Award, 1982', 'Runner-up (21st place), Locus Award for Best Fantasy Novel, 1982[2]']</td><td>['Cujo']</td></tr><tr><td>11</td><td>1982</td><td>The Running Man</td><td>Signet Books</td><td>219</td><td>['Published under pseudonym Richard Bachman']</td><td>['The Gladiators'</td></tr><tr><td>11</td><td>1982</td><td>The Running Man</td><td>Signet Books</td><td>219</td><td>['Published under pseudonym Richard Bachman']</td><td>'Damon Killian']</td></tr><tr><td>12</td><td>1982</td><td>The Dark Tower: The Gunslinger</td><td>Grant</td><td>224</td><td>['']</td><td>['Marten Broadcloak'</td></tr><tr><td>12</td><td>1982</td><td>The Dark Tower: The Gunslinger</td><td>Grant</td><td>224</td><td>['']</td><td>'Crimson King'</td></tr><tr><td>12</td><td>1982</td><td>The Dark Tower: The Gunslinger</td><td>Grant</td><td>224</td><td>['']</td><td>'Randall Flagg'</td></tr><tr><td>12</td><td>1982</td><td>The Dark Tower: The Gunslinger</td><td>Grant</td><td>224</td><td>['']</td><td>'Sylvia Pittston']</td></tr><tr><td>13</td><td>1983</td><td>Christine</td><td>Viking</td><td>526</td><td>['Runner-up (6th place), Locus Award for Best Fantasy Novel, 1984[2]']</td><td>['Christine (car)'</td></tr><tr><td>13</td><td>1983</td><td>Christine</td><td>Viking</td><td>526</td><td>['Runner-up (6th place), Locus Award for Best Fantasy Novel, 1984[2]']</td><td>'Arnie Cunningham']</td></tr><tr><td>14</td><td>1983</td><td>Pet Sematary</td><td>Doubleday</td><td>374</td><td>['Nominee, World Fantasy Award, 1984', 'Runner-up (7th place), Locus Award for Best Fantasy Novel, 1984[2]']</td><td>['Winston Church'</td></tr><tr><td>14</td><td>1983</td><td>Pet Sematary</td><td>Doubleday</td><td>374</td><td>['Nominee, World Fantasy Award, 1984', 'Runner-up (7th place), Locus Award for Best Fantasy Novel, 1984[2]']</td><td>'Gage Creed'</td></tr><tr><td>14</td><td>1983</td><td>Pet Sematary</td><td>Doubleday</td><td>374</td><td>['Nominee, World Fantasy Award, 1984', 'Runner-up (7th place), Locus Award for Best Fantasy Novel, 1984[2]']</td><td>'Victor Pascow'</td></tr><tr><td>14</td><td>1983</td><td>Pet Sematary</td><td>Doubleday</td><td>374</td><td>['Nominee, World Fantasy Award, 1984', 'Runner-up (7th place), Locus Award for Best Fantasy Novel, 1984[2]']</td><td>'Wendigo']</td></tr><tr><td>15</td><td>1983</td><td>Cycle of the Werewolf</td><td>Land of Enchantment</td><td>127</td><td>['Illustrated by Bernie Wrightson']</td><td>['Lester Lowe']</td></tr><tr><td>16</td><td>1984</td><td>The Talisman</td><td>Viking</td><td>646</td><td>['Written with Peter Straub', 'Nominee, World Fantasy Award, 1985', 'Runner-up (4th place), Locus Award for Best Fantasy Novel, 1985[2]']</td><td>[]</td></tr><tr><td>17</td><td>1984</td><td>The Eyes of the Dragon</td><td>Philtrum Press (1984)Viking (1987)</td><td>326</td><td>['First published as a limited edition in 1984, then for the mass market in 1987']</td><td>['Randall Flagg']</td></tr><tr><td>18</td><td>1984</td><td>Thinner</td><td>NAL</td><td>309</td><td>['Published under pseudonym Richard Bachman']</td><td>[]</td></tr><tr><td>19</td><td>1986</td><td>It</td><td>Viking</td><td>1138</td><td>['Winner, British Fantasy Award’s August Derleth Award, 1987', 'Nominee, World Fantasy Award, 1987', 'Runner-up (3rd place), Locus Award for Best Fantasy Novel, 1987[2]']</td><td>['Henry Bowers'</td></tr><tr><td>19</td><td>1986</td><td>It</td><td>Viking</td><td>1138</td><td>['Winner, British Fantasy Award’s August Derleth Award, 1987', 'Nominee, World Fantasy Award, 1987', 'Runner-up (3rd place), Locus Award for Best Fantasy Novel, 1987[2]']</td><td>'Butch Bowers'</td></tr><tr><td>19</td><td>1986</td><td>It</td><td>Viking</td><td>1138</td><td>['Winner, British Fantasy Award’s August Derleth Award, 1987', 'Nominee, World Fantasy Award, 1987', 'Runner-up (3rd place), Locus Award for Best Fantasy Novel, 1987[2]']</td><td>'Greta Bowie'</td></tr><tr><td>19</td><td>1986</td><td>It</td><td>Viking</td><td>1138</td><td>['Winner, British Fantasy Award’s August Derleth Award, 1987', 'Nominee, World Fantasy Award, 1987', 'Runner-up (3rd place), Locus Award for Best Fantasy Novel, 1987[2]']</td><td>'Victor Criss'</td></tr><tr><td>19</td><td>1986</td><td>It</td><td>Viking</td><td>1138</td><td>['Winner, British Fantasy Award’s August Derleth Award, 1987', 'Nominee, World Fantasy Award, 1987', 'Runner-up (3rd place), Locus Award for Best Fantasy Novel, 1987[2]']</td><td>'Marcia Fadden'</td></tr><tr><td>19</td><td>1986</td><td>It</td><td>Viking</td><td>1138</td><td>['Winner, British Fantasy Award’s August Derleth Award, 1987', 'Nominee, World Fantasy Award, 1987', 'Runner-up (3rd place), Locus Award for Best Fantasy Novel, 1987[2]']</td><td>'John Garton'</td></tr><tr><td>19</td><td>1986</td><td>It</td><td>Viking</td><td>1138</td><td>['Winner, British Fantasy Award’s August Derleth Award, 1987', 'Nominee, World Fantasy Award, 1987', 'Runner-up (3rd place), Locus Award for Best Fantasy Novel, 1987[2]']</td><td>'Peter Gordon'</td></tr><tr><td>19</td><td>1986</td><td>It</td><td>Viking</td><td>1138</td><td>['Winner, British Fantasy Award’s August Derleth Award, 1987', 'Nominee, World Fantasy Award, 1987', 'Runner-up (3rd place), Locus Award for Best Fantasy Novel, 1987[2]']</td><td>'Patrick Hockstetter'</td></tr><tr><td>19</td><td>1986</td><td>It</td><td>Viking</td><td>1138</td><td>['Winner, British Fantasy Award’s August Derleth Award, 1987', 'Nominee, World Fantasy Award, 1987', 'Runner-up (3rd place), Locus Award for Best Fantasy Novel, 1987[2]']</td><td>'Belch Huggins'</td></tr><tr><td>19</td><td>1986</td><td>It</td><td>Viking</td><td>1138</td><td>['Winner, British Fantasy Award’s August Derleth Award, 1987', 'Nominee, World Fantasy Award, 1987', 'Runner-up (3rd place), Locus Award for Best Fantasy Novel, 1987[2]']</td><td>'It (Creature)'</td></tr><tr><td>19</td><td>1986</td><td>It</td><td>Viking</td><td>1138</td><td>['Winner, British Fantasy Award’s August Derleth Award, 1987', 'Nominee, World Fantasy Award, 1987', 'Runner-up (3rd place), Locus Award for Best Fantasy Novel, 1987[2]']</td><td>'Richard P. Macklin'</td></tr><tr><td>19</td><td>1986</td><td>It</td><td>Viking</td><td>1138</td><td>['Winner, British Fantasy Award’s August Derleth Award, 1987', 'Nominee, World Fantasy Award, 1987', 'Runner-up (3rd place), Locus Award for Best Fantasy Novel, 1987[2]']</td><td>'Alvin Marsh'</td></tr><tr><td>19</td><td>1986</td><td>It</td><td>Viking</td><td>1138</td><td>['Winner, British Fantasy Award’s August Derleth Award, 1987', 'Nominee, World Fantasy Award, 1987', 'Runner-up (3rd place), Locus Award for Best Fantasy Novel, 1987[2]']</td><td>'Sally Mueller'</td></tr><tr><td>19</td><td>1986</td><td>It</td><td>Viking</td><td>1138</td><td>['Winner, British Fantasy Award’s August Derleth Award, 1987', 'Nominee, World Fantasy Award, 1987', 'Runner-up (3rd place), Locus Award for Best Fantasy Novel, 1987[2]']</td><td>'Tom Rogan'</td></tr><tr><td>19</td><td>1986</td><td>It</td><td>Viking</td><td>1138</td><td>['Winner, British Fantasy Award’s August Derleth Award, 1987', 'Nominee, World Fantasy Award, 1987', 'Runner-up (3rd place), Locus Award for Best Fantasy Novel, 1987[2]']</td><td>'Christopher Unwin']</td></tr><tr><td>20</td><td>1987</td><td>The Dark Tower II: The Drawing of the Three</td><td>Grant</td><td>400</td><td>['Runner-up (16th place), Locus Award for Best Fantasy Novel, 1988[2]']</td><td>['Jack Mort']</td></tr><tr><td>21</td><td>1987</td><td>Misery</td><td>Viking</td><td>310</td><td>['Winner, Bram Stoker Award, 1988', 'Nominee, World Fantasy Award, 1988[2]']</td><td>['Annie Wilkes']</td></tr><tr><td>22</td><td>1987</td><td>The Tommyknockers</td><td>Putnam</td><td>558</td><td>['Runner-up (16th place), Locus Award for Best Science Fiction Novel, 1988[2]']</td><td>['Tommyknockers']</td></tr><tr><td>23</td><td>1989</td><td>The Dark Half</td><td>Viking</td><td>431</td><td>['Runner-up (2nd place), Locus Award for Best Horror Novel, 1990[2]']</td><td>['George Stark']</td></tr><tr><td>24</td><td>1990</td><td>The Stand Uncut</td><td>Doubleday</td><td>1152</td><td>['The Complete & Uncut Edition', \"Runner-up (2nd place), Locus Award's Best Horror/Dark Fantasy Novel, 1991[2]\"]</td><td>[]</td></tr><tr><td>25</td><td>1991</td><td>The Dark Tower III: The Waste Lands</td><td>Grant</td><td>512</td><td>['Nominee, Bram Stoker Award, 1992', 'Runner-up (3rd place), Locus Award for Best Horror/Dark Fantasy Novel, 1992[2]']</td><td>['Blaine the Mono'</td></tr><tr><td>25</td><td>1991</td><td>The Dark Tower III: The Waste Lands</td><td>Grant</td><td>512</td><td>['Nominee, Bram Stoker Award, 1992', 'Runner-up (3rd place), Locus Award for Best Horror/Dark Fantasy Novel, 1992[2]']</td><td>'Randall Flagg']</td></tr><tr><td>26</td><td>1991</td><td>Needful Things</td><td>Viking</td><td>690</td><td>['Nominee, Bram Stoker Award, 1992', 'Runner-up (13th place), Locus Award for Best Horror/Dark Fantasy Novel, 1992[2]']</td><td>['Leland Gaunt']</td></tr><tr><td>27</td><td>1992</td><td>Gerald's Game</td><td>Viking</td><td>352</td><td>[]</td><td>['Gerald Burlingame'</td></tr><tr><td>27</td><td>1992</td><td>Gerald's Game</td><td>Viking</td><td>352</td><td>[]</td><td>'Raymond Andrew Joubert'</td></tr><tr><td>27</td><td>1992</td><td>Gerald's Game</td><td>Viking</td><td>352</td><td>[]</td><td>'Tom Mahout']</td></tr><tr><td>28</td><td>1992</td><td>Dolores Claiborne</td><td>Viking</td><td>305</td><td>['Runner-up (14th place), Locus Award for Best Horror/Dark Fantasy Novel, 1993[2]']</td><td>['Joe St. George']</td></tr><tr><td>29</td><td>1994</td><td>Insomnia</td><td>Viking</td><td>787</td><td>['Nominee, Bram Stoker Award, 1995', 'Runner-up (3rd place), Locus Award for Best Fantasy/Horror Novel, 1995[2]']</td><td>['Crimson King'</td></tr><tr><td>29</td><td>1994</td><td>Insomnia</td><td>Viking</td><td>787</td><td>['Nominee, Bram Stoker Award, 1995', 'Runner-up (3rd place), Locus Award for Best Fantasy/Horror Novel, 1995[2]']</td><td>'Susan Day']</td></tr><tr><td>30</td><td>1995</td><td>Rose Madder</td><td>Viking</td><td>420</td><td>['Runner-up (3rd place), Locus Award for Best Horror/Dark Fantasy Novel, 1995[2]']</td><td>['Norman Daniels'</td></tr><tr><td>30</td><td>1995</td><td>Rose Madder</td><td>Viking</td><td>420</td><td>['Runner-up (3rd place), Locus Award for Best Horror/Dark Fantasy Novel, 1995[2]']</td><td>'Susan Day']</td></tr><tr><td>31</td><td>1996</td><td>The Green Mile</td><td>Signet Books</td><td>400</td><td>['Winner, Bram Stoker Award, 1997', 'Runner-up (8th place), Locus Award for Best Horror/Dark Fantasy Novel, 1997[2]']</td><td>['Percy Wetmore'</td></tr><tr><td>31</td><td>1996</td><td>The Green Mile</td><td>Signet Books</td><td>400</td><td>['Winner, Bram Stoker Award, 1997', 'Runner-up (8th place), Locus Award for Best Horror/Dark Fantasy Novel, 1997[2]']</td><td>'William Wharton']</td></tr><tr><td>32</td><td>1996</td><td>Desperation</td><td>Viking</td><td>704</td><td>['Twin novel of The Regulators', 'Winner, Locus Award for Best Horror/Dark Fantasy Novel, 1997[2]']</td><td>[]</td></tr><tr><td>33</td><td>1996</td><td>The Regulators</td><td>Dutton</td><td>480</td><td>['Published under pseudonym Richard Bachman', 'Twin novel of Desperation']</td><td>[]</td></tr><tr><td>34</td><td>1997</td><td>The Dark Tower IV: Wizard and Glass</td><td>Grant</td><td>787</td><td>['Runner-up (4th place), Locus Award for Best Fantasy Novel, 1998', 'Runner-up (6th place), Locus Award for Best Art Book, 1998[2]']</td><td>['Blaine the Mono'</td></tr><tr><td>34</td><td>1997</td><td>The Dark Tower IV: Wizard and Glass</td><td>Grant</td><td>787</td><td>['Runner-up (4th place), Locus Award for Best Fantasy Novel, 1998', 'Runner-up (6th place), Locus Award for Best Art Book, 1998[2]']</td><td>'Cordelia Delgado'</td></tr><tr><td>34</td><td>1997</td><td>The Dark Tower IV: Wizard and Glass</td><td>Grant</td><td>787</td><td>['Runner-up (4th place), Locus Award for Best Fantasy Novel, 1998', 'Runner-up (6th place), Locus Award for Best Art Book, 1998[2]']</td><td>'Rhea Dubativo'</td></tr><tr><td>34</td><td>1997</td><td>The Dark Tower IV: Wizard and Glass</td><td>Grant</td><td>787</td><td>['Runner-up (4th place), Locus Award for Best Fantasy Novel, 1998', 'Runner-up (6th place), Locus Award for Best Art Book, 1998[2]']</td><td>'John Farson'</td></tr><tr><td>34</td><td>1997</td><td>The Dark Tower IV: Wizard and Glass</td><td>Grant</td><td>787</td><td>['Runner-up (4th place), Locus Award for Best Fantasy Novel, 1998', 'Runner-up (6th place), Locus Award for Best Art Book, 1998[2]']</td><td>'Randall Flagg'</td></tr><tr><td>34</td><td>1997</td><td>The Dark Tower IV: Wizard and Glass</td><td>Grant</td><td>787</td><td>['Runner-up (4th place), Locus Award for Best Fantasy Novel, 1998', 'Runner-up (6th place), Locus Award for Best Art Book, 1998[2]']</td><td>'Eldred Jonas']</td></tr><tr><td>35</td><td>1998</td><td>Bag of Bones</td><td>Scribner</td><td>529</td><td>['Winner, Bram Stoker Award, 1999', 'Winner, British Fantasy Award’s August Derleth Award, 1999', 'Winner, Locus Award for Best Dark Fantasy/Horror Novel, 1999[2]']</td><td>[]</td></tr><tr><td>36</td><td>1999</td><td>The Girl Who Loved Tom Gordon</td><td>Scribner</td><td>224</td><td>[]</td><td>[]</td></tr><tr><td>37</td><td>2001</td><td>Dreamcatcher</td><td>Scribner</td><td>620</td><td>[]</td><td>[]</td></tr><tr><td>38</td><td>2001</td><td>Black House</td><td>Random House</td><td>625</td><td>['Sequel to The Talisman', 'Written with Peter Straub', 'Nominee, Bram Stoker Award, 2002', 'Runner-up (7th place), Locus Award for Best Fantasy Novel, 2002[2]']</td><td>['Crimson King']</td></tr><tr><td>39</td><td>2002</td><td>From a Buick 8</td><td>Scribner</td><td>368</td><td>['Nominee, Bram Stoker Award, 2003']</td><td>['Brian Lippy']</td></tr><tr><td>40</td><td>2003</td><td>The Dark Tower V: Wolves of the Calla</td><td>Grant</td><td>714</td><td>['Nominee, Bram Stoker Award, 2004', 'Runner-up (4th place), Locus Award for Best Fantasy Novel, 2004[2]']</td><td>[]</td></tr><tr><td>41</td><td>2004</td><td>The Dark Tower VI: Song of Susannah</td><td>Grant</td><td>432</td><td>['Runner-up (4th place), Locus Award for Best Fantasy Novel, 2005']</td><td>[]</td></tr><tr><td>42</td><td>2004</td><td>The Dark Tower VII: The Dark Tower</td><td>978-1-880-41862-8</td><td>845</td><td>[\"Winner, British Fantasy Award's August Derleth Award, 2005\", 'Nominee, Bram Stoker Award, 2005[2]']</td><td>['Crimson King'</td></tr><tr><td>42</td><td>2004</td><td>The Dark Tower VII: The Dark Tower</td><td>978-1-880-41862-8</td><td>845</td><td>[\"Winner, British Fantasy Award's August Derleth Award, 2005\", 'Nominee, Bram Stoker Award, 2005[2]']</td><td>'Dandelo'</td></tr><tr><td>42</td><td>2004</td><td>The Dark Tower VII: The Dark Tower</td><td>978-1-880-41862-8</td><td>845</td><td>[\"Winner, British Fantasy Award's August Derleth Award, 2005\", 'Nominee, Bram Stoker Award, 2005[2]']</td><td>'Mordred Deschain'</td></tr><tr><td>42</td><td>2004</td><td>The Dark Tower VII: The Dark Tower</td><td>978-1-880-41862-8</td><td>845</td><td>[\"Winner, British Fantasy Award's August Derleth Award, 2005\", 'Nominee, Bram Stoker Award, 2005[2]']</td><td>'Randall Flagg']</td></tr><tr><td>43</td><td>2005</td><td>The Colorado Kid</td><td>Hard Case Crime</td><td>184</td><td>[]</td><td>[]</td></tr><tr><td>44</td><td>2006</td><td>Cell</td><td>Scribner</td><td>351</td><td>[]</td><td>['The Raggedy Man']</td></tr><tr><td>45</td><td>2006</td><td>Lisey's Story</td><td>Scribner</td><td>528</td><td>['Winner, Bram Stoker Award, 2007', 'Nominee, World Fantasy Award, 2007', 'Runner-up (10th place), Locus Award for Best Fantasy Novel, 2007[2]']</td><td>[]</td></tr><tr><td>46</td><td>2007</td><td>Blaze</td><td>Scribner</td><td>304</td><td>['Published under pseudonym Richard Bachman']</td><td>[]</td></tr><tr><td>47</td><td>2008</td><td>Duma Key</td><td>Scribner</td><td>607</td><td>['Winner, Bram Stoker Award,  2009[2]']</td><td>[]</td></tr><tr><td>48</td><td>2009</td><td>Under the Dome</td><td>Scribner</td><td>1074</td><td>[\"Nominee, British Fantasy Award's August Derleth Award, 2010\", 'Runner-up (7th place), Locus Award for Best Science Fiction Novel, 2010[2]']</td><td>['Jim Rennie</td></tr><tr><td>48</td><td>2009</td><td>Under the Dome</td><td>Scribner</td><td>1074</td><td>[\"Nominee, British Fantasy Award's August Derleth Award, 2010\", 'Runner-up (7th place), Locus Award for Best Science Fiction Novel, 2010[2]']</td><td>Jr.'</td></tr><tr><td>48</td><td>2009</td><td>Under the Dome</td><td>Scribner</td><td>1074</td><td>[\"Nominee, British Fantasy Award's August Derleth Award, 2010\", 'Runner-up (7th place), Locus Award for Best Science Fiction Novel, 2010[2]']</td><td>'Jim Rennie'</td></tr><tr><td>48</td><td>2009</td><td>Under the Dome</td><td>Scribner</td><td>1074</td><td>[\"Nominee, British Fantasy Award's August Derleth Award, 2010\", 'Runner-up (7th place), Locus Award for Best Science Fiction Novel, 2010[2]']</td><td>'Carter Thibodeau']</td></tr><tr><td>49</td><td>2011</td><td>11/22/63</td><td>Scribner</td><td>849</td><td>['Nominee, British Fantasy Award, 2012', 'Nominee, World Fantasy Award, 2012', 'Runner-up (2nd place), Locus Award for Best Science Fiction Novel, 2012[2]']</td><td>[]</td></tr><tr><td>50</td><td>2012</td><td>The Dark Tower: The Wind Through the Keyhole</td><td>Grant</td><td>336</td><td>['The eighth Dark Tower novel, but chronologically set between the fourth and fifth volumes.']</td><td>[]</td></tr><tr><td>51</td><td>2013</td><td>Joyland</td><td>Hard Case Crime</td><td>288</td><td>['Nominee, Edgar Award for Best Paperback Original, 2014[3]', 'Runner-up (11th place), Locus Award for Best Fantasy Novel, 2014[2]']</td><td>['Lane Hardy']</td></tr><tr><td>52</td><td>2013</td><td>Doctor Sleep</td><td>Scribner</td><td>531</td><td>['Sequel to The Shining', 'Winner, Bram Stoker Award, 2014', 'Runner-up (5th place), Locus Award for Best Fantasy Novel, 2014[2]']</td><td>['Rose the Hat']</td></tr><tr><td>53</td><td>2014</td><td>Mr. Mercedes</td><td>Scribner</td><td>436</td><td>['First novel in the Bill Hodges Trilogy', 'Winner, Edgar Award for Best Novel, 2015[3]']</td><td>['Brady Hartsfield']</td></tr><tr><td>54</td><td>2014</td><td>Revival</td><td>Scribner</td><td>403</td><td>['Runner-up (8th place), Locus Award for Best Fantasy Novel, 2015[2]']</td><td>['Mother of the Null']</td></tr><tr><td>55</td><td>2015</td><td>Finders Keepers</td><td>Scribner</td><td>434</td><td>['Second novel in the Bill Hodges Trilogy.']</td><td>['Brady Hartsfield']</td></tr><tr><td>56</td><td>2016</td><td>End of Watch</td><td>Scribner</td><td>496</td><td>['Third novel in the Bill Hodges Trilogy.']</td><td>['Brady Hartsfield']</td></tr><tr><td>57</td><td>2017</td><td>Gwendy's Button Box</td><td>Cemetery Dance Publications</td><td>175</td><td>['Written with Richard Chizmar']</td><td>[]</td></tr><tr><td>58</td><td>2017</td><td>Sleeping Beauties</td><td>Scribner</td><td>702</td><td>['Written with Owen King', 'Nominee, Bram Stoker Award, 2018[2]']</td><td>[]</td></tr><tr><td>59</td><td>2018</td><td>The Outsider</td><td>Scribner</td><td>576</td><td>['First novel in the Holly Gibney Series', 'Runner-up (2nd place), Locus Award for Best Horror Novel, 2019[2]']</td><td>['The Outsider (Creature)']</td></tr><tr><td>60</td><td>2018</td><td>Elevation</td><td>Scribner</td><td>144</td><td>[]</td><td>[]</td></tr><tr><td>61</td><td>2019</td><td>The Institute</td><td>Scribner</td><td>576</td><td>[\"Nominee, British Fantasy Award's August Derleth Award, 2020\", 'Runner-up (3rd place), Locus Award for Best Horror Novel, 2020[2]']</td><td>['Gladys Hickson']</td></tr><tr><td>62</td><td>2021</td><td>Later</td><td>Hard Case Crime</td><td>256</td><td>[]</td><td>[]</td></tr><tr><td>63</td><td>2021</td><td>Billy Summers</td><td>Scribner</td><td>528</td><td>[]</td><td>[]</td></tr></tbody></table></div>"
      ]
     },
     "metadata": {
      "application/vnd.databricks.v1+output": {
       "addedWidgets": {},
       "aggData": [],
       "aggError": "",
       "aggOverflow": false,
       "aggSchema": [],
       "aggSeriesLimitReached": false,
       "aggType": "",
       "arguments": {},
       "columnCustomDisplayInfos": {},
       "data": [
        [
         1,
         1974,
         "Carrie",
         "Doubleday",
         199,
         "['']",
         "['Tina Blake'"
        ],
        [
         1,
         1974,
         "Carrie",
         "Doubleday",
         199,
         "['']",
         "'Cindi'"
        ],
        [
         1,
         1974,
         "Carrie",
         "Doubleday",
         199,
         "['']",
         "'Myra Crewes'"
        ],
        [
         1,
         1974,
         "Carrie",
         "Doubleday",
         199,
         "['']",
         "'Billy deLois'"
        ],
        [
         1,
         1974,
         "Carrie",
         "Doubleday",
         199,
         "['']",
         "'Kenny Garson'"
        ],
        [
         1,
         1974,
         "Carrie",
         "Doubleday",
         199,
         "['']",
         "'Mary Lila Grace'"
        ],
        [
         1,
         1974,
         "Carrie",
         "Doubleday",
         199,
         "['']",
         "'Christine Hargensen'"
        ],
        [
         1,
         1974,
         "Carrie",
         "Doubleday",
         199,
         "['']",
         "'Vic Mooney'"
        ],
        [
         1,
         1974,
         "Carrie",
         "Doubleday",
         199,
         "['']",
         "'The Mortimer Snerds'"
        ],
        [
         1,
         1974,
         "Carrie",
         "Doubleday",
         199,
         "['']",
         "'Billy Nolan'"
        ],
        [
         1,
         1974,
         "Carrie",
         "Doubleday",
         199,
         "['']",
         "'Elenor Richmond'"
        ],
        [
         1,
         1974,
         "Carrie",
         "Doubleday",
         199,
         "['']",
         "'Rachel Spies'"
        ],
        [
         1,
         1974,
         "Carrie",
         "Doubleday",
         199,
         "['']",
         "'Jackie Talbot'"
        ],
        [
         1,
         1974,
         "Carrie",
         "Doubleday",
         199,
         "['']",
         "'Donna and Mary Lila Grace Thibodeau'"
        ],
        [
         1,
         1974,
         "Carrie",
         "Doubleday",
         199,
         "['']",
         "'Jessica Upshaw'"
        ],
        [
         1,
         1974,
         "Carrie",
         "Doubleday",
         199,
         "['']",
         "'Norma Watson'"
        ],
        [
         1,
         1974,
         "Carrie",
         "Doubleday",
         199,
         "['']",
         "'Margaret White']"
        ],
        [
         2,
         1975,
         "Salem's Lot",
         "Doubleday",
         439,
         "['Nominee, World Fantasy Award, 1976[2]']",
         "['Kurt Barlow'"
        ],
        [
         2,
         1975,
         "Salem's Lot",
         "Doubleday",
         439,
         "['Nominee, World Fantasy Award, 1976[2]']",
         "'Richard Straker']"
        ],
        [
         3,
         1977,
         "The Shining",
         "Doubleday",
         447,
         "['Runner-up (4th place), Locus Award for Best Fantasy Novel, 1978[2]']",
         "['Horace M. Derwent'"
        ],
        [
         3,
         1977,
         "The Shining",
         "Doubleday",
         447,
         "['Runner-up (4th place), Locus Award for Best Fantasy Novel, 1978[2]']",
         "'Delbert Grady'"
        ],
        [
         3,
         1977,
         "The Shining",
         "Doubleday",
         447,
         "['Runner-up (4th place), Locus Award for Best Fantasy Novel, 1978[2]']",
         "'Jack Torrance']"
        ],
        [
         4,
         1977,
         "Rage",
         "Signet Books",
         211,
         "['Published under pseudonym Richard Bachman']",
         "[]"
        ],
        [
         5,
         1978,
         "The Stand",
         "Doubleday",
         823,
         "['Nominee, World Fantasy Award, 1979', 'Runner-up (15th place), Locus Award, 1979[2]']",
         "['Donald Merwin Elbert'"
        ],
        [
         5,
         1978,
         "The Stand",
         "Doubleday",
         823,
         "['Nominee, World Fantasy Award, 1979', 'Runner-up (15th place), Locus Award, 1979[2]']",
         "'Randall Flagg'"
        ],
        [
         5,
         1978,
         "The Stand",
         "Doubleday",
         823,
         "['Nominee, World Fantasy Award, 1979', 'Runner-up (15th place), Locus Award, 1979[2]']",
         "'Lloyd Henreid'"
        ],
        [
         5,
         1978,
         "The Stand",
         "Doubleday",
         823,
         "['Nominee, World Fantasy Award, 1979', 'Runner-up (15th place), Locus Award, 1979[2]']",
         "'The Kid'"
        ],
        [
         5,
         1978,
         "The Stand",
         "Doubleday",
         823,
         "['Nominee, World Fantasy Award, 1979', 'Runner-up (15th place), Locus Award, 1979[2]']",
         "'Harold Lauder'"
        ],
        [
         5,
         1978,
         "The Stand",
         "Doubleday",
         823,
         "['Nominee, World Fantasy Award, 1979', 'Runner-up (15th place), Locus Award, 1979[2]']",
         "'Rat Man']"
        ],
        [
         6,
         1979,
         "The Long Walk",
         "Signet Books",
         384,
         "['Published under pseudonym Richard Bachman']",
         "['Randall Flagg'"
        ],
        [
         6,
         1979,
         "The Long Walk",
         "Signet Books",
         384,
         "['Published under pseudonym Richard Bachman']",
         "'The Major']"
        ],
        [
         7,
         1979,
         "The Dead Zone",
         "Viking Press",
         428,
         "['Runner-up (2nd place), Locus Award for Best Fantasy Novel, 1980[2]']",
         "['Frank Dodd'"
        ],
        [
         7,
         1979,
         "The Dead Zone",
         "Viking Press",
         428,
         "['Runner-up (2nd place), Locus Award for Best Fantasy Novel, 1980[2]']",
         "'Henrietta Dodd'"
        ],
        [
         7,
         1979,
         "The Dead Zone",
         "Viking Press",
         428,
         "['Runner-up (2nd place), Locus Award for Best Fantasy Novel, 1980[2]']",
         "'Malcolm Janus'"
        ],
        [
         7,
         1979,
         "The Dead Zone",
         "Viking Press",
         428,
         "['Runner-up (2nd place), Locus Award for Best Fantasy Novel, 1980[2]']",
         "'Sonny Elliman'"
        ],
        [
         7,
         1979,
         "The Dead Zone",
         "Viking Press",
         428,
         "['Runner-up (2nd place), Locus Award for Best Fantasy Novel, 1980[2]']",
         "'Greg Stillson'"
        ],
        [
         7,
         1979,
         "The Dead Zone",
         "Viking Press",
         428,
         "['Runner-up (2nd place), Locus Award for Best Fantasy Novel, 1980[2]']",
         "\"The Devil's Dozen\"]"
        ],
        [
         8,
         1980,
         "Firestarter",
         "Viking Press",
         426,
         "['Nominee, British Fantasy Award’s August Derleth Award, 1981', 'Runner-up (8th place), Locus Award for Best Science Fiction Novel, 1981[2]']",
         "['James Hollister'"
        ],
        [
         8,
         1980,
         "Firestarter",
         "Viking Press",
         426,
         "['Nominee, British Fantasy Award’s August Derleth Award, 1981', 'Runner-up (8th place), Locus Award for Best Science Fiction Novel, 1981[2]']",
         "'Charlie McGee'"
        ],
        [
         8,
         1980,
         "Firestarter",
         "Viking Press",
         426,
         "['Nominee, British Fantasy Award’s August Derleth Award, 1981', 'Runner-up (8th place), Locus Award for Best Science Fiction Novel, 1981[2]']",
         "'John Rainbird']"
        ],
        [
         9,
         1981,
         "Roadwork",
         "Signet Books",
         274,
         "['Published under pseudonym Richard Bachman']",
         "[]"
        ],
        [
         10,
         1981,
         "Cujo",
         "Viking Press",
         319,
         "['Winner, British Fantasy Award’s August Derleth Award, 1982', 'Runner-up (21st place), Locus Award for Best Fantasy Novel, 1982[2]']",
         "['Cujo']"
        ],
        [
         11,
         1982,
         "The Running Man",
         "Signet Books",
         219,
         "['Published under pseudonym Richard Bachman']",
         "['The Gladiators'"
        ],
        [
         11,
         1982,
         "The Running Man",
         "Signet Books",
         219,
         "['Published under pseudonym Richard Bachman']",
         "'Damon Killian']"
        ],
        [
         12,
         1982,
         "The Dark Tower: The Gunslinger",
         "Grant",
         224,
         "['']",
         "['Marten Broadcloak'"
        ],
        [
         12,
         1982,
         "The Dark Tower: The Gunslinger",
         "Grant",
         224,
         "['']",
         "'Crimson King'"
        ],
        [
         12,
         1982,
         "The Dark Tower: The Gunslinger",
         "Grant",
         224,
         "['']",
         "'Randall Flagg'"
        ],
        [
         12,
         1982,
         "The Dark Tower: The Gunslinger",
         "Grant",
         224,
         "['']",
         "'Sylvia Pittston']"
        ],
        [
         13,
         1983,
         "Christine",
         "Viking",
         526,
         "['Runner-up (6th place), Locus Award for Best Fantasy Novel, 1984[2]']",
         "['Christine (car)'"
        ],
        [
         13,
         1983,
         "Christine",
         "Viking",
         526,
         "['Runner-up (6th place), Locus Award for Best Fantasy Novel, 1984[2]']",
         "'Arnie Cunningham']"
        ],
        [
         14,
         1983,
         "Pet Sematary",
         "Doubleday",
         374,
         "['Nominee, World Fantasy Award, 1984', 'Runner-up (7th place), Locus Award for Best Fantasy Novel, 1984[2]']",
         "['Winston Church'"
        ],
        [
         14,
         1983,
         "Pet Sematary",
         "Doubleday",
         374,
         "['Nominee, World Fantasy Award, 1984', 'Runner-up (7th place), Locus Award for Best Fantasy Novel, 1984[2]']",
         "'Gage Creed'"
        ],
        [
         14,
         1983,
         "Pet Sematary",
         "Doubleday",
         374,
         "['Nominee, World Fantasy Award, 1984', 'Runner-up (7th place), Locus Award for Best Fantasy Novel, 1984[2]']",
         "'Victor Pascow'"
        ],
        [
         14,
         1983,
         "Pet Sematary",
         "Doubleday",
         374,
         "['Nominee, World Fantasy Award, 1984', 'Runner-up (7th place), Locus Award for Best Fantasy Novel, 1984[2]']",
         "'Wendigo']"
        ],
        [
         15,
         1983,
         "Cycle of the Werewolf",
         "Land of Enchantment",
         127,
         "['Illustrated by Bernie Wrightson']",
         "['Lester Lowe']"
        ],
        [
         16,
         1984,
         "The Talisman",
         "Viking",
         646,
         "['Written with Peter Straub', 'Nominee, World Fantasy Award, 1985', 'Runner-up (4th place), Locus Award for Best Fantasy Novel, 1985[2]']",
         "[]"
        ],
        [
         17,
         1984,
         "The Eyes of the Dragon",
         "Philtrum Press (1984)Viking (1987)",
         326,
         "['First published as a limited edition in 1984, then for the mass market in 1987']",
         "['Randall Flagg']"
        ],
        [
         18,
         1984,
         "Thinner",
         "NAL",
         309,
         "['Published under pseudonym Richard Bachman']",
         "[]"
        ],
        [
         19,
         1986,
         "It",
         "Viking",
         1138,
         "['Winner, British Fantasy Award’s August Derleth Award, 1987', 'Nominee, World Fantasy Award, 1987', 'Runner-up (3rd place), Locus Award for Best Fantasy Novel, 1987[2]']",
         "['Henry Bowers'"
        ],
        [
         19,
         1986,
         "It",
         "Viking",
         1138,
         "['Winner, British Fantasy Award’s August Derleth Award, 1987', 'Nominee, World Fantasy Award, 1987', 'Runner-up (3rd place), Locus Award for Best Fantasy Novel, 1987[2]']",
         "'Butch Bowers'"
        ],
        [
         19,
         1986,
         "It",
         "Viking",
         1138,
         "['Winner, British Fantasy Award’s August Derleth Award, 1987', 'Nominee, World Fantasy Award, 1987', 'Runner-up (3rd place), Locus Award for Best Fantasy Novel, 1987[2]']",
         "'Greta Bowie'"
        ],
        [
         19,
         1986,
         "It",
         "Viking",
         1138,
         "['Winner, British Fantasy Award’s August Derleth Award, 1987', 'Nominee, World Fantasy Award, 1987', 'Runner-up (3rd place), Locus Award for Best Fantasy Novel, 1987[2]']",
         "'Victor Criss'"
        ],
        [
         19,
         1986,
         "It",
         "Viking",
         1138,
         "['Winner, British Fantasy Award’s August Derleth Award, 1987', 'Nominee, World Fantasy Award, 1987', 'Runner-up (3rd place), Locus Award for Best Fantasy Novel, 1987[2]']",
         "'Marcia Fadden'"
        ],
        [
         19,
         1986,
         "It",
         "Viking",
         1138,
         "['Winner, British Fantasy Award’s August Derleth Award, 1987', 'Nominee, World Fantasy Award, 1987', 'Runner-up (3rd place), Locus Award for Best Fantasy Novel, 1987[2]']",
         "'John Garton'"
        ],
        [
         19,
         1986,
         "It",
         "Viking",
         1138,
         "['Winner, British Fantasy Award’s August Derleth Award, 1987', 'Nominee, World Fantasy Award, 1987', 'Runner-up (3rd place), Locus Award for Best Fantasy Novel, 1987[2]']",
         "'Peter Gordon'"
        ],
        [
         19,
         1986,
         "It",
         "Viking",
         1138,
         "['Winner, British Fantasy Award’s August Derleth Award, 1987', 'Nominee, World Fantasy Award, 1987', 'Runner-up (3rd place), Locus Award for Best Fantasy Novel, 1987[2]']",
         "'Patrick Hockstetter'"
        ],
        [
         19,
         1986,
         "It",
         "Viking",
         1138,
         "['Winner, British Fantasy Award’s August Derleth Award, 1987', 'Nominee, World Fantasy Award, 1987', 'Runner-up (3rd place), Locus Award for Best Fantasy Novel, 1987[2]']",
         "'Belch Huggins'"
        ],
        [
         19,
         1986,
         "It",
         "Viking",
         1138,
         "['Winner, British Fantasy Award’s August Derleth Award, 1987', 'Nominee, World Fantasy Award, 1987', 'Runner-up (3rd place), Locus Award for Best Fantasy Novel, 1987[2]']",
         "'It (Creature)'"
        ],
        [
         19,
         1986,
         "It",
         "Viking",
         1138,
         "['Winner, British Fantasy Award’s August Derleth Award, 1987', 'Nominee, World Fantasy Award, 1987', 'Runner-up (3rd place), Locus Award for Best Fantasy Novel, 1987[2]']",
         "'Richard P. Macklin'"
        ],
        [
         19,
         1986,
         "It",
         "Viking",
         1138,
         "['Winner, British Fantasy Award’s August Derleth Award, 1987', 'Nominee, World Fantasy Award, 1987', 'Runner-up (3rd place), Locus Award for Best Fantasy Novel, 1987[2]']",
         "'Alvin Marsh'"
        ],
        [
         19,
         1986,
         "It",
         "Viking",
         1138,
         "['Winner, British Fantasy Award’s August Derleth Award, 1987', 'Nominee, World Fantasy Award, 1987', 'Runner-up (3rd place), Locus Award for Best Fantasy Novel, 1987[2]']",
         "'Sally Mueller'"
        ],
        [
         19,
         1986,
         "It",
         "Viking",
         1138,
         "['Winner, British Fantasy Award’s August Derleth Award, 1987', 'Nominee, World Fantasy Award, 1987', 'Runner-up (3rd place), Locus Award for Best Fantasy Novel, 1987[2]']",
         "'Tom Rogan'"
        ],
        [
         19,
         1986,
         "It",
         "Viking",
         1138,
         "['Winner, British Fantasy Award’s August Derleth Award, 1987', 'Nominee, World Fantasy Award, 1987', 'Runner-up (3rd place), Locus Award for Best Fantasy Novel, 1987[2]']",
         "'Christopher Unwin']"
        ],
        [
         20,
         1987,
         "The Dark Tower II: The Drawing of the Three",
         "Grant",
         400,
         "['Runner-up (16th place), Locus Award for Best Fantasy Novel, 1988[2]']",
         "['Jack Mort']"
        ],
        [
         21,
         1987,
         "Misery",
         "Viking",
         310,
         "['Winner, Bram Stoker Award, 1988', 'Nominee, World Fantasy Award, 1988[2]']",
         "['Annie Wilkes']"
        ],
        [
         22,
         1987,
         "The Tommyknockers",
         "Putnam",
         558,
         "['Runner-up (16th place), Locus Award for Best Science Fiction Novel, 1988[2]']",
         "['Tommyknockers']"
        ],
        [
         23,
         1989,
         "The Dark Half",
         "Viking",
         431,
         "['Runner-up (2nd place), Locus Award for Best Horror Novel, 1990[2]']",
         "['George Stark']"
        ],
        [
         24,
         1990,
         "The Stand Uncut",
         "Doubleday",
         1152,
         "['The Complete & Uncut Edition', \"Runner-up (2nd place), Locus Award's Best Horror/Dark Fantasy Novel, 1991[2]\"]",
         "[]"
        ],
        [
         25,
         1991,
         "The Dark Tower III: The Waste Lands",
         "Grant",
         512,
         "['Nominee, Bram Stoker Award, 1992', 'Runner-up (3rd place), Locus Award for Best Horror/Dark Fantasy Novel, 1992[2]']",
         "['Blaine the Mono'"
        ],
        [
         25,
         1991,
         "The Dark Tower III: The Waste Lands",
         "Grant",
         512,
         "['Nominee, Bram Stoker Award, 1992', 'Runner-up (3rd place), Locus Award for Best Horror/Dark Fantasy Novel, 1992[2]']",
         "'Randall Flagg']"
        ],
        [
         26,
         1991,
         "Needful Things",
         "Viking",
         690,
         "['Nominee, Bram Stoker Award, 1992', 'Runner-up (13th place), Locus Award for Best Horror/Dark Fantasy Novel, 1992[2]']",
         "['Leland Gaunt']"
        ],
        [
         27,
         1992,
         "Gerald's Game",
         "Viking",
         352,
         "[]",
         "['Gerald Burlingame'"
        ],
        [
         27,
         1992,
         "Gerald's Game",
         "Viking",
         352,
         "[]",
         "'Raymond Andrew Joubert'"
        ],
        [
         27,
         1992,
         "Gerald's Game",
         "Viking",
         352,
         "[]",
         "'Tom Mahout']"
        ],
        [
         28,
         1992,
         "Dolores Claiborne",
         "Viking",
         305,
         "['Runner-up (14th place), Locus Award for Best Horror/Dark Fantasy Novel, 1993[2]']",
         "['Joe St. George']"
        ],
        [
         29,
         1994,
         "Insomnia",
         "Viking",
         787,
         "['Nominee, Bram Stoker Award, 1995', 'Runner-up (3rd place), Locus Award for Best Fantasy/Horror Novel, 1995[2]']",
         "['Crimson King'"
        ],
        [
         29,
         1994,
         "Insomnia",
         "Viking",
         787,
         "['Nominee, Bram Stoker Award, 1995', 'Runner-up (3rd place), Locus Award for Best Fantasy/Horror Novel, 1995[2]']",
         "'Susan Day']"
        ],
        [
         30,
         1995,
         "Rose Madder",
         "Viking",
         420,
         "['Runner-up (3rd place), Locus Award for Best Horror/Dark Fantasy Novel, 1995[2]']",
         "['Norman Daniels'"
        ],
        [
         30,
         1995,
         "Rose Madder",
         "Viking",
         420,
         "['Runner-up (3rd place), Locus Award for Best Horror/Dark Fantasy Novel, 1995[2]']",
         "'Susan Day']"
        ],
        [
         31,
         1996,
         "The Green Mile",
         "Signet Books",
         400,
         "['Winner, Bram Stoker Award, 1997', 'Runner-up (8th place), Locus Award for Best Horror/Dark Fantasy Novel, 1997[2]']",
         "['Percy Wetmore'"
        ],
        [
         31,
         1996,
         "The Green Mile",
         "Signet Books",
         400,
         "['Winner, Bram Stoker Award, 1997', 'Runner-up (8th place), Locus Award for Best Horror/Dark Fantasy Novel, 1997[2]']",
         "'William Wharton']"
        ],
        [
         32,
         1996,
         "Desperation",
         "Viking",
         704,
         "['Twin novel of The Regulators', 'Winner, Locus Award for Best Horror/Dark Fantasy Novel, 1997[2]']",
         "[]"
        ],
        [
         33,
         1996,
         "The Regulators",
         "Dutton",
         480,
         "['Published under pseudonym Richard Bachman', 'Twin novel of Desperation']",
         "[]"
        ],
        [
         34,
         1997,
         "The Dark Tower IV: Wizard and Glass",
         "Grant",
         787,
         "['Runner-up (4th place), Locus Award for Best Fantasy Novel, 1998', 'Runner-up (6th place), Locus Award for Best Art Book, 1998[2]']",
         "['Blaine the Mono'"
        ],
        [
         34,
         1997,
         "The Dark Tower IV: Wizard and Glass",
         "Grant",
         787,
         "['Runner-up (4th place), Locus Award for Best Fantasy Novel, 1998', 'Runner-up (6th place), Locus Award for Best Art Book, 1998[2]']",
         "'Cordelia Delgado'"
        ],
        [
         34,
         1997,
         "The Dark Tower IV: Wizard and Glass",
         "Grant",
         787,
         "['Runner-up (4th place), Locus Award for Best Fantasy Novel, 1998', 'Runner-up (6th place), Locus Award for Best Art Book, 1998[2]']",
         "'Rhea Dubativo'"
        ],
        [
         34,
         1997,
         "The Dark Tower IV: Wizard and Glass",
         "Grant",
         787,
         "['Runner-up (4th place), Locus Award for Best Fantasy Novel, 1998', 'Runner-up (6th place), Locus Award for Best Art Book, 1998[2]']",
         "'John Farson'"
        ],
        [
         34,
         1997,
         "The Dark Tower IV: Wizard and Glass",
         "Grant",
         787,
         "['Runner-up (4th place), Locus Award for Best Fantasy Novel, 1998', 'Runner-up (6th place), Locus Award for Best Art Book, 1998[2]']",
         "'Randall Flagg'"
        ],
        [
         34,
         1997,
         "The Dark Tower IV: Wizard and Glass",
         "Grant",
         787,
         "['Runner-up (4th place), Locus Award for Best Fantasy Novel, 1998', 'Runner-up (6th place), Locus Award for Best Art Book, 1998[2]']",
         "'Eldred Jonas']"
        ],
        [
         35,
         1998,
         "Bag of Bones",
         "Scribner",
         529,
         "['Winner, Bram Stoker Award, 1999', 'Winner, British Fantasy Award’s August Derleth Award, 1999', 'Winner, Locus Award for Best Dark Fantasy/Horror Novel, 1999[2]']",
         "[]"
        ],
        [
         36,
         1999,
         "The Girl Who Loved Tom Gordon",
         "Scribner",
         224,
         "[]",
         "[]"
        ],
        [
         37,
         2001,
         "Dreamcatcher",
         "Scribner",
         620,
         "[]",
         "[]"
        ],
        [
         38,
         2001,
         "Black House",
         "Random House",
         625,
         "['Sequel to The Talisman', 'Written with Peter Straub', 'Nominee, Bram Stoker Award, 2002', 'Runner-up (7th place), Locus Award for Best Fantasy Novel, 2002[2]']",
         "['Crimson King']"
        ],
        [
         39,
         2002,
         "From a Buick 8",
         "Scribner",
         368,
         "['Nominee, Bram Stoker Award, 2003']",
         "['Brian Lippy']"
        ],
        [
         40,
         2003,
         "The Dark Tower V: Wolves of the Calla",
         "Grant",
         714,
         "['Nominee, Bram Stoker Award, 2004', 'Runner-up (4th place), Locus Award for Best Fantasy Novel, 2004[2]']",
         "[]"
        ],
        [
         41,
         2004,
         "The Dark Tower VI: Song of Susannah",
         "Grant",
         432,
         "['Runner-up (4th place), Locus Award for Best Fantasy Novel, 2005']",
         "[]"
        ],
        [
         42,
         2004,
         "The Dark Tower VII: The Dark Tower",
         "978-1-880-41862-8",
         845,
         "[\"Winner, British Fantasy Award's August Derleth Award, 2005\", 'Nominee, Bram Stoker Award, 2005[2]']",
         "['Crimson King'"
        ],
        [
         42,
         2004,
         "The Dark Tower VII: The Dark Tower",
         "978-1-880-41862-8",
         845,
         "[\"Winner, British Fantasy Award's August Derleth Award, 2005\", 'Nominee, Bram Stoker Award, 2005[2]']",
         "'Dandelo'"
        ],
        [
         42,
         2004,
         "The Dark Tower VII: The Dark Tower",
         "978-1-880-41862-8",
         845,
         "[\"Winner, British Fantasy Award's August Derleth Award, 2005\", 'Nominee, Bram Stoker Award, 2005[2]']",
         "'Mordred Deschain'"
        ],
        [
         42,
         2004,
         "The Dark Tower VII: The Dark Tower",
         "978-1-880-41862-8",
         845,
         "[\"Winner, British Fantasy Award's August Derleth Award, 2005\", 'Nominee, Bram Stoker Award, 2005[2]']",
         "'Randall Flagg']"
        ],
        [
         43,
         2005,
         "The Colorado Kid",
         "Hard Case Crime",
         184,
         "[]",
         "[]"
        ],
        [
         44,
         2006,
         "Cell",
         "Scribner",
         351,
         "[]",
         "['The Raggedy Man']"
        ],
        [
         45,
         2006,
         "Lisey's Story",
         "Scribner",
         528,
         "['Winner, Bram Stoker Award, 2007', 'Nominee, World Fantasy Award, 2007', 'Runner-up (10th place), Locus Award for Best Fantasy Novel, 2007[2]']",
         "[]"
        ],
        [
         46,
         2007,
         "Blaze",
         "Scribner",
         304,
         "['Published under pseudonym Richard Bachman']",
         "[]"
        ],
        [
         47,
         2008,
         "Duma Key",
         "Scribner",
         607,
         "['Winner, Bram Stoker Award,  2009[2]']",
         "[]"
        ],
        [
         48,
         2009,
         "Under the Dome",
         "Scribner",
         1074,
         "[\"Nominee, British Fantasy Award's August Derleth Award, 2010\", 'Runner-up (7th place), Locus Award for Best Science Fiction Novel, 2010[2]']",
         "['Jim Rennie"
        ],
        [
         48,
         2009,
         "Under the Dome",
         "Scribner",
         1074,
         "[\"Nominee, British Fantasy Award's August Derleth Award, 2010\", 'Runner-up (7th place), Locus Award for Best Science Fiction Novel, 2010[2]']",
         "Jr.'"
        ],
        [
         48,
         2009,
         "Under the Dome",
         "Scribner",
         1074,
         "[\"Nominee, British Fantasy Award's August Derleth Award, 2010\", 'Runner-up (7th place), Locus Award for Best Science Fiction Novel, 2010[2]']",
         "'Jim Rennie'"
        ],
        [
         48,
         2009,
         "Under the Dome",
         "Scribner",
         1074,
         "[\"Nominee, British Fantasy Award's August Derleth Award, 2010\", 'Runner-up (7th place), Locus Award for Best Science Fiction Novel, 2010[2]']",
         "'Carter Thibodeau']"
        ],
        [
         49,
         2011,
         "11/22/63",
         "Scribner",
         849,
         "['Nominee, British Fantasy Award, 2012', 'Nominee, World Fantasy Award, 2012', 'Runner-up (2nd place), Locus Award for Best Science Fiction Novel, 2012[2]']",
         "[]"
        ],
        [
         50,
         2012,
         "The Dark Tower: The Wind Through the Keyhole",
         "Grant",
         336,
         "['The eighth Dark Tower novel, but chronologically set between the fourth and fifth volumes.']",
         "[]"
        ],
        [
         51,
         2013,
         "Joyland",
         "Hard Case Crime",
         288,
         "['Nominee, Edgar Award for Best Paperback Original, 2014[3]', 'Runner-up (11th place), Locus Award for Best Fantasy Novel, 2014[2]']",
         "['Lane Hardy']"
        ],
        [
         52,
         2013,
         "Doctor Sleep",
         "Scribner",
         531,
         "['Sequel to The Shining', 'Winner, Bram Stoker Award, 2014', 'Runner-up (5th place), Locus Award for Best Fantasy Novel, 2014[2]']",
         "['Rose the Hat']"
        ],
        [
         53,
         2014,
         "Mr. Mercedes",
         "Scribner",
         436,
         "['First novel in the Bill Hodges Trilogy', 'Winner, Edgar Award for Best Novel, 2015[3]']",
         "['Brady Hartsfield']"
        ],
        [
         54,
         2014,
         "Revival",
         "Scribner",
         403,
         "['Runner-up (8th place), Locus Award for Best Fantasy Novel, 2015[2]']",
         "['Mother of the Null']"
        ],
        [
         55,
         2015,
         "Finders Keepers",
         "Scribner",
         434,
         "['Second novel in the Bill Hodges Trilogy.']",
         "['Brady Hartsfield']"
        ],
        [
         56,
         2016,
         "End of Watch",
         "Scribner",
         496,
         "['Third novel in the Bill Hodges Trilogy.']",
         "['Brady Hartsfield']"
        ],
        [
         57,
         2017,
         "Gwendy's Button Box",
         "Cemetery Dance Publications",
         175,
         "['Written with Richard Chizmar']",
         "[]"
        ],
        [
         58,
         2017,
         "Sleeping Beauties",
         "Scribner",
         702,
         "['Written with Owen King', 'Nominee, Bram Stoker Award, 2018[2]']",
         "[]"
        ],
        [
         59,
         2018,
         "The Outsider",
         "Scribner",
         576,
         "['First novel in the Holly Gibney Series', 'Runner-up (2nd place), Locus Award for Best Horror Novel, 2019[2]']",
         "['The Outsider (Creature)']"
        ],
        [
         60,
         2018,
         "Elevation",
         "Scribner",
         144,
         "[]",
         "[]"
        ],
        [
         61,
         2019,
         "The Institute",
         "Scribner",
         576,
         "[\"Nominee, British Fantasy Award's August Derleth Award, 2020\", 'Runner-up (3rd place), Locus Award for Best Horror Novel, 2020[2]']",
         "['Gladys Hickson']"
        ],
        [
         62,
         2021,
         "Later",
         "Hard Case Crime",
         256,
         "[]",
         "[]"
        ],
        [
         63,
         2021,
         "Billy Summers",
         "Scribner",
         528,
         "[]",
         "[]"
        ]
       ],
       "datasetInfos": [],
       "dbfsResultPath": null,
       "isJsonSchema": true,
       "metadata": {},
       "overflow": false,
       "plotOptions": {
        "customPlotOptions": {},
        "displayType": "table",
        "pivotAggregation": null,
        "pivotColumns": null,
        "xColumns": null,
        "yColumns": null
       },
       "removedWidgets": [],
       "schema": [
        {
         "metadata": "{}",
         "name": "id_livro",
         "type": "\"long\""
        },
        {
         "metadata": "{}",
         "name": "ano",
         "type": "\"long\""
        },
        {
         "metadata": "{}",
         "name": "titulo",
         "type": "\"string\""
        },
        {
         "metadata": "{}",
         "name": "editora",
         "type": "\"string\""
        },
        {
         "metadata": "{}",
         "name": "qtd_paginas",
         "type": "\"long\""
        },
        {
         "metadata": "{}",
         "name": "notas_sobre_obra",
         "type": "\"string\""
        },
        {
         "metadata": "{}",
         "name": "viloes",
         "type": "\"string\""
        }
       ],
       "type": "table"
      }
     },
     "output_type": "display_data"
    }
   ],
   "source": [
    "# Ajustando datframe para que cada vilao apareça em uma linha.\n",
    "# Convertendo a coluna 'viloes' para lista e aplicando o explode.\n",
    "dados_df['viloes'] = dados_df['viloes'].str.split(', ')  # ou outro delimitador que você usar\n",
    "dados_df = dados_df.explode('viloes', ignore_index=True)\n",
    "\n",
    "# Exibindo o resultado\n",
    "display(dados_df)"
   ]
  },
  {
   "cell_type": "markdown",
   "metadata": {
    "application/vnd.databricks.v1+cell": {
     "cellMetadata": {},
     "inputWidgets": {},
     "nuid": "ad8d5dfd-7a05-4193-a96a-d7087ec71b7b",
     "showTitle": false,
     "tableResultSettingsMap": {},
     "title": ""
    }
   },
   "source": [
    "Observando o dataframe acima notou-se nos conteúdos do campo \"notas_sobre_obra\" e \"viloes\" a presença de caracteres indesejados, como sinais, numerações ou símbolos desnecessários. Portando vamos realizar a retirada desses detalhes."
   ]
  },
  {
   "cell_type": "code",
   "execution_count": 0,
   "metadata": {
    "application/vnd.databricks.v1+cell": {
     "cellMetadata": {
      "byteLimit": 2048000,
      "rowLimit": 10000
     },
     "inputWidgets": {},
     "nuid": "964a223c-2d6d-4c93-a906-261ce5dd34fd",
     "showTitle": false,
     "tableResultSettingsMap": {},
     "title": ""
    }
   },
   "outputs": [
    {
     "output_type": "stream",
     "name": "stdout",
     "output_type": "stream",
     "text": [
      "Out[41]: array([\"['']\", \"['Nominee, World Fantasy Award, 1976[2]']\",\n       \"['Runner-up (4th place), Locus Award for Best Fantasy Novel, 1978[2]']\",\n       \"['Published under pseudonym Richard Bachman']\",\n       \"['Nominee, World Fantasy Award, 1979', 'Runner-up (15th place), Locus Award, 1979[2]']\",\n       \"['Runner-up (2nd place), Locus Award for Best Fantasy Novel, 1980[2]']\",\n       \"['Nominee, British Fantasy Award’s August Derleth Award, 1981', 'Runner-up (8th place), Locus Award for Best Science Fiction Novel, 1981[2]']\",\n       \"['Winner, British Fantasy Award’s August Derleth Award, 1982', 'Runner-up (21st place), Locus Award for Best Fantasy Novel, 1982[2]']\",\n       \"['Runner-up (6th place), Locus Award for Best Fantasy Novel, 1984[2]']\",\n       \"['Nominee, World Fantasy Award, 1984', 'Runner-up (7th place), Locus Award for Best Fantasy Novel, 1984[2]']\",\n       \"['Illustrated by Bernie Wrightson']\",\n       \"['Written with Peter Straub', 'Nominee, World Fantasy Award, 1985', 'Runner-up (4th place), Locus Award for Best Fantasy Novel, 1985[2]']\",\n       \"['First published as a limited edition in 1984, then for the mass market in 1987']\",\n       \"['Winner, British Fantasy Award’s August Derleth Award, 1987', 'Nominee, World Fantasy Award, 1987', 'Runner-up (3rd place), Locus Award for Best Fantasy Novel, 1987[2]']\",\n       \"['Runner-up (16th place), Locus Award for Best Fantasy Novel, 1988[2]']\",\n       \"['Winner, Bram Stoker Award, 1988', 'Nominee, World Fantasy Award, 1988[2]']\",\n       \"['Runner-up (16th place), Locus Award for Best Science Fiction Novel, 1988[2]']\",\n       \"['Runner-up (2nd place), Locus Award for Best Horror Novel, 1990[2]']\",\n       '[\\'The Complete & Uncut Edition\\', \"Runner-up (2nd place), Locus Award\\'s Best Horror/Dark Fantasy Novel, 1991[2]\"]',\n       \"['Nominee, Bram Stoker Award, 1992', 'Runner-up (3rd place), Locus Award for Best Horror/Dark Fantasy Novel, 1992[2]']\",\n       \"['Nominee, Bram Stoker Award, 1992', 'Runner-up (13th place), Locus Award for Best Horror/Dark Fantasy Novel, 1992[2]']\",\n       '[]',\n       \"['Runner-up (14th place), Locus Award for Best Horror/Dark Fantasy Novel, 1993[2]']\",\n       \"['Nominee, Bram Stoker Award, 1995', 'Runner-up (3rd place), Locus Award for Best Fantasy/Horror Novel, 1995[2]']\",\n       \"['Runner-up (3rd place), Locus Award for Best Horror/Dark Fantasy Novel, 1995[2]']\",\n       \"['Winner, Bram Stoker Award, 1997', 'Runner-up (8th place), Locus Award for Best Horror/Dark Fantasy Novel, 1997[2]']\",\n       \"['Twin novel of The Regulators', 'Winner, Locus Award for Best Horror/Dark Fantasy Novel, 1997[2]']\",\n       \"['Published under pseudonym Richard Bachman', 'Twin novel of Desperation']\",\n       \"['Runner-up (4th place), Locus Award for Best Fantasy Novel, 1998', 'Runner-up (6th place), Locus Award for Best Art Book, 1998[2]']\",\n       \"['Winner, Bram Stoker Award, 1999', 'Winner, British Fantasy Award’s August Derleth Award, 1999', 'Winner, Locus Award for Best Dark Fantasy/Horror Novel, 1999[2]']\",\n       \"['Sequel to The Talisman', 'Written with Peter Straub', 'Nominee, Bram Stoker Award, 2002', 'Runner-up (7th place), Locus Award for Best Fantasy Novel, 2002[2]']\",\n       \"['Nominee, Bram Stoker Award, 2003']\",\n       \"['Nominee, Bram Stoker Award, 2004', 'Runner-up (4th place), Locus Award for Best Fantasy Novel, 2004[2]']\",\n       \"['Runner-up (4th place), Locus Award for Best Fantasy Novel, 2005']\",\n       '[\"Winner, British Fantasy Award\\'s August Derleth Award, 2005\", \\'Nominee, Bram Stoker Award, 2005[2]\\']',\n       \"['Winner, Bram Stoker Award, 2007', 'Nominee, World Fantasy Award, 2007', 'Runner-up (10th place), Locus Award for Best Fantasy Novel, 2007[2]']\",\n       \"['Winner, Bram Stoker Award,  2009[2]']\",\n       '[\"Nominee, British Fantasy Award\\'s August Derleth Award, 2010\", \\'Runner-up (7th place), Locus Award for Best Science Fiction Novel, 2010[2]\\']',\n       \"['Nominee, British Fantasy Award, 2012', 'Nominee, World Fantasy Award, 2012', 'Runner-up (2nd place), Locus Award for Best Science Fiction Novel, 2012[2]']\",\n       \"['The eighth Dark Tower novel, but chronologically set between the fourth and fifth volumes.']\",\n       \"['Nominee, Edgar Award for Best Paperback Original, 2014[3]', 'Runner-up (11th place), Locus Award for Best Fantasy Novel, 2014[2]']\",\n       \"['Sequel to The Shining', 'Winner, Bram Stoker Award, 2014', 'Runner-up (5th place), Locus Award for Best Fantasy Novel, 2014[2]']\",\n       \"['First novel in the Bill Hodges Trilogy', 'Winner, Edgar Award for Best Novel, 2015[3]']\",\n       \"['Runner-up (8th place), Locus Award for Best Fantasy Novel, 2015[2]']\",\n       \"['Second novel in the Bill Hodges Trilogy.']\",\n       \"['Third novel in the Bill Hodges Trilogy.']\",\n       \"['Written with Richard Chizmar']\",\n       \"['Written with Owen King', 'Nominee, Bram Stoker Award, 2018[2]']\",\n       \"['First novel in the Holly Gibney Series', 'Runner-up (2nd place), Locus Award for Best Horror Novel, 2019[2]']\",\n       '[\"Nominee, British Fantasy Award\\'s August Derleth Award, 2020\", \\'Runner-up (3rd place), Locus Award for Best Horror Novel, 2020[2]\\']'],\n      dtype=object)"
     ]
    }
   ],
   "source": [
    "dados_df['notas_sobre_obra'].unique()\n",
    "#dados_df['viloes'].unique()\n"
   ]
  },
  {
   "cell_type": "code",
   "execution_count": 0,
   "metadata": {
    "application/vnd.databricks.v1+cell": {
     "cellMetadata": {
      "byteLimit": 2048000,
      "rowLimit": 10000
     },
     "inputWidgets": {},
     "nuid": "3653cf3d-5a5e-46fc-88ed-d7e6cc47dc72",
     "showTitle": false,
     "tableResultSettingsMap": {},
     "title": ""
    }
   },
   "outputs": [
    {
     "output_type": "display_data",
     "data": {
      "text/html": [
       "<style scoped>\n",
       "  .table-result-container {\n",
       "    max-height: 300px;\n",
       "    overflow: auto;\n",
       "  }\n",
       "  table, th, td {\n",
       "    border: 1px solid black;\n",
       "    border-collapse: collapse;\n",
       "  }\n",
       "  th, td {\n",
       "    padding: 5px;\n",
       "  }\n",
       "  th {\n",
       "    text-align: left;\n",
       "  }\n",
       "</style><div class='table-result-container'><table class='table-result'><thead style='background-color: white'><tr><th>id_livro</th><th>ano</th><th>titulo</th><th>editora</th><th>qtd_paginas</th><th>notas_sobre_obra</th><th>viloes</th></tr></thead><tbody><tr><td>1</td><td>1974</td><td>Carrie</td><td>Doubleday</td><td>199</td><td></td><td>Tina Blake</td></tr><tr><td>1</td><td>1974</td><td>Carrie</td><td>Doubleday</td><td>199</td><td></td><td>Cindi</td></tr><tr><td>1</td><td>1974</td><td>Carrie</td><td>Doubleday</td><td>199</td><td></td><td>Myra Crewes</td></tr><tr><td>1</td><td>1974</td><td>Carrie</td><td>Doubleday</td><td>199</td><td></td><td>Billy deLois</td></tr><tr><td>1</td><td>1974</td><td>Carrie</td><td>Doubleday</td><td>199</td><td></td><td>Kenny Garson</td></tr><tr><td>1</td><td>1974</td><td>Carrie</td><td>Doubleday</td><td>199</td><td></td><td>Mary Lila Grace</td></tr><tr><td>1</td><td>1974</td><td>Carrie</td><td>Doubleday</td><td>199</td><td></td><td>Christine Hargensen</td></tr><tr><td>1</td><td>1974</td><td>Carrie</td><td>Doubleday</td><td>199</td><td></td><td>Vic Mooney</td></tr><tr><td>1</td><td>1974</td><td>Carrie</td><td>Doubleday</td><td>199</td><td></td><td>The Mortimer Snerds</td></tr><tr><td>1</td><td>1974</td><td>Carrie</td><td>Doubleday</td><td>199</td><td></td><td>Billy Nolan</td></tr><tr><td>1</td><td>1974</td><td>Carrie</td><td>Doubleday</td><td>199</td><td></td><td>Elenor Richmond</td></tr><tr><td>1</td><td>1974</td><td>Carrie</td><td>Doubleday</td><td>199</td><td></td><td>Rachel Spies</td></tr><tr><td>1</td><td>1974</td><td>Carrie</td><td>Doubleday</td><td>199</td><td></td><td>Jackie Talbot</td></tr><tr><td>1</td><td>1974</td><td>Carrie</td><td>Doubleday</td><td>199</td><td></td><td>Donna and Mary Lila Grace Thibodeau</td></tr><tr><td>1</td><td>1974</td><td>Carrie</td><td>Doubleday</td><td>199</td><td></td><td>Jessica Upshaw</td></tr><tr><td>1</td><td>1974</td><td>Carrie</td><td>Doubleday</td><td>199</td><td></td><td>Norma Watson</td></tr><tr><td>1</td><td>1974</td><td>Carrie</td><td>Doubleday</td><td>199</td><td></td><td>Margaret White</td></tr><tr><td>2</td><td>1975</td><td>Salem's Lot</td><td>Doubleday</td><td>439</td><td>Nominee, World Fantasy Award, 1976</td><td>Kurt Barlow</td></tr><tr><td>2</td><td>1975</td><td>Salem's Lot</td><td>Doubleday</td><td>439</td><td>Nominee, World Fantasy Award, 1976</td><td>Richard Straker</td></tr><tr><td>3</td><td>1977</td><td>The Shining</td><td>Doubleday</td><td>447</td><td>Runner-up (4th place), Locus Award for Best Fantasy Novel, 1978</td><td>Horace M. Derwent</td></tr><tr><td>3</td><td>1977</td><td>The Shining</td><td>Doubleday</td><td>447</td><td>Runner-up (4th place), Locus Award for Best Fantasy Novel, 1978</td><td>Delbert Grady</td></tr><tr><td>3</td><td>1977</td><td>The Shining</td><td>Doubleday</td><td>447</td><td>Runner-up (4th place), Locus Award for Best Fantasy Novel, 1978</td><td>Jack Torrance</td></tr><tr><td>4</td><td>1977</td><td>Rage</td><td>Signet Books</td><td>211</td><td>Published under pseudonym Richard Bachman</td><td></td></tr><tr><td>5</td><td>1978</td><td>The Stand</td><td>Doubleday</td><td>823</td><td>Nominee, World Fantasy Award, 1979, Runner-up (15th place), Locus Award, 1979</td><td>Donald Merwin Elbert</td></tr><tr><td>5</td><td>1978</td><td>The Stand</td><td>Doubleday</td><td>823</td><td>Nominee, World Fantasy Award, 1979, Runner-up (15th place), Locus Award, 1979</td><td>Randall Flagg</td></tr><tr><td>5</td><td>1978</td><td>The Stand</td><td>Doubleday</td><td>823</td><td>Nominee, World Fantasy Award, 1979, Runner-up (15th place), Locus Award, 1979</td><td>Lloyd Henreid</td></tr><tr><td>5</td><td>1978</td><td>The Stand</td><td>Doubleday</td><td>823</td><td>Nominee, World Fantasy Award, 1979, Runner-up (15th place), Locus Award, 1979</td><td>The Kid</td></tr><tr><td>5</td><td>1978</td><td>The Stand</td><td>Doubleday</td><td>823</td><td>Nominee, World Fantasy Award, 1979, Runner-up (15th place), Locus Award, 1979</td><td>Harold Lauder</td></tr><tr><td>5</td><td>1978</td><td>The Stand</td><td>Doubleday</td><td>823</td><td>Nominee, World Fantasy Award, 1979, Runner-up (15th place), Locus Award, 1979</td><td>Rat Man</td></tr><tr><td>6</td><td>1979</td><td>The Long Walk</td><td>Signet Books</td><td>384</td><td>Published under pseudonym Richard Bachman</td><td>Randall Flagg</td></tr><tr><td>6</td><td>1979</td><td>The Long Walk</td><td>Signet Books</td><td>384</td><td>Published under pseudonym Richard Bachman</td><td>The Major</td></tr><tr><td>7</td><td>1979</td><td>The Dead Zone</td><td>Viking Press</td><td>428</td><td>Runner-up (2nd place), Locus Award for Best Fantasy Novel, 1980</td><td>Frank Dodd</td></tr><tr><td>7</td><td>1979</td><td>The Dead Zone</td><td>Viking Press</td><td>428</td><td>Runner-up (2nd place), Locus Award for Best Fantasy Novel, 1980</td><td>Henrietta Dodd</td></tr><tr><td>7</td><td>1979</td><td>The Dead Zone</td><td>Viking Press</td><td>428</td><td>Runner-up (2nd place), Locus Award for Best Fantasy Novel, 1980</td><td>Malcolm Janus</td></tr><tr><td>7</td><td>1979</td><td>The Dead Zone</td><td>Viking Press</td><td>428</td><td>Runner-up (2nd place), Locus Award for Best Fantasy Novel, 1980</td><td>Sonny Elliman</td></tr><tr><td>7</td><td>1979</td><td>The Dead Zone</td><td>Viking Press</td><td>428</td><td>Runner-up (2nd place), Locus Award for Best Fantasy Novel, 1980</td><td>Greg Stillson</td></tr><tr><td>7</td><td>1979</td><td>The Dead Zone</td><td>Viking Press</td><td>428</td><td>Runner-up (2nd place), Locus Award for Best Fantasy Novel, 1980</td><td>The Devils Dozen</td></tr><tr><td>8</td><td>1980</td><td>Firestarter</td><td>Viking Press</td><td>426</td><td>Nominee, British Fantasy Award’s August Derleth Award, 1981, Runner-up (8th place), Locus Award for Best Science Fiction Novel, 1981</td><td>James Hollister</td></tr><tr><td>8</td><td>1980</td><td>Firestarter</td><td>Viking Press</td><td>426</td><td>Nominee, British Fantasy Award’s August Derleth Award, 1981, Runner-up (8th place), Locus Award for Best Science Fiction Novel, 1981</td><td>Charlie McGee</td></tr><tr><td>8</td><td>1980</td><td>Firestarter</td><td>Viking Press</td><td>426</td><td>Nominee, British Fantasy Award’s August Derleth Award, 1981, Runner-up (8th place), Locus Award for Best Science Fiction Novel, 1981</td><td>John Rainbird</td></tr><tr><td>9</td><td>1981</td><td>Roadwork</td><td>Signet Books</td><td>274</td><td>Published under pseudonym Richard Bachman</td><td></td></tr><tr><td>10</td><td>1981</td><td>Cujo</td><td>Viking Press</td><td>319</td><td>Winner, British Fantasy Award’s August Derleth Award, 1982, Runner-up (21st place), Locus Award for Best Fantasy Novel, 1982</td><td>Cujo</td></tr><tr><td>11</td><td>1982</td><td>The Running Man</td><td>Signet Books</td><td>219</td><td>Published under pseudonym Richard Bachman</td><td>The Gladiators</td></tr><tr><td>11</td><td>1982</td><td>The Running Man</td><td>Signet Books</td><td>219</td><td>Published under pseudonym Richard Bachman</td><td>Damon Killian</td></tr><tr><td>12</td><td>1982</td><td>The Dark Tower: The Gunslinger</td><td>Grant</td><td>224</td><td></td><td>Marten Broadcloak</td></tr><tr><td>12</td><td>1982</td><td>The Dark Tower: The Gunslinger</td><td>Grant</td><td>224</td><td></td><td>Crimson King</td></tr><tr><td>12</td><td>1982</td><td>The Dark Tower: The Gunslinger</td><td>Grant</td><td>224</td><td></td><td>Randall Flagg</td></tr><tr><td>12</td><td>1982</td><td>The Dark Tower: The Gunslinger</td><td>Grant</td><td>224</td><td></td><td>Sylvia Pittston</td></tr><tr><td>13</td><td>1983</td><td>Christine</td><td>Viking</td><td>526</td><td>Runner-up (6th place), Locus Award for Best Fantasy Novel, 1984</td><td>Christine (car)</td></tr><tr><td>13</td><td>1983</td><td>Christine</td><td>Viking</td><td>526</td><td>Runner-up (6th place), Locus Award for Best Fantasy Novel, 1984</td><td>Arnie Cunningham</td></tr><tr><td>14</td><td>1983</td><td>Pet Sematary</td><td>Doubleday</td><td>374</td><td>Nominee, World Fantasy Award, 1984, Runner-up (7th place), Locus Award for Best Fantasy Novel, 1984</td><td>Winston Church</td></tr><tr><td>14</td><td>1983</td><td>Pet Sematary</td><td>Doubleday</td><td>374</td><td>Nominee, World Fantasy Award, 1984, Runner-up (7th place), Locus Award for Best Fantasy Novel, 1984</td><td>Gage Creed</td></tr><tr><td>14</td><td>1983</td><td>Pet Sematary</td><td>Doubleday</td><td>374</td><td>Nominee, World Fantasy Award, 1984, Runner-up (7th place), Locus Award for Best Fantasy Novel, 1984</td><td>Victor Pascow</td></tr><tr><td>14</td><td>1983</td><td>Pet Sematary</td><td>Doubleday</td><td>374</td><td>Nominee, World Fantasy Award, 1984, Runner-up (7th place), Locus Award for Best Fantasy Novel, 1984</td><td>Wendigo</td></tr><tr><td>15</td><td>1983</td><td>Cycle of the Werewolf</td><td>Land of Enchantment</td><td>127</td><td>Illustrated by Bernie Wrightson</td><td>Lester Lowe</td></tr><tr><td>16</td><td>1984</td><td>The Talisman</td><td>Viking</td><td>646</td><td>Written with Peter Straub, Nominee, World Fantasy Award, 1985, Runner-up (4th place), Locus Award for Best Fantasy Novel, 1985</td><td></td></tr><tr><td>17</td><td>1984</td><td>The Eyes of the Dragon</td><td>Philtrum Press (1984)Viking (1987)</td><td>326</td><td>First published as a limited edition in 1984, then for the mass market in 1987</td><td>Randall Flagg</td></tr><tr><td>18</td><td>1984</td><td>Thinner</td><td>NAL</td><td>309</td><td>Published under pseudonym Richard Bachman</td><td></td></tr><tr><td>19</td><td>1986</td><td>It</td><td>Viking</td><td>1138</td><td>Winner, British Fantasy Award’s August Derleth Award, 1987, Nominee, World Fantasy Award, 1987, Runner-up (3rd place), Locus Award for Best Fantasy Novel, 1987</td><td>Henry Bowers</td></tr><tr><td>19</td><td>1986</td><td>It</td><td>Viking</td><td>1138</td><td>Winner, British Fantasy Award’s August Derleth Award, 1987, Nominee, World Fantasy Award, 1987, Runner-up (3rd place), Locus Award for Best Fantasy Novel, 1987</td><td>Butch Bowers</td></tr><tr><td>19</td><td>1986</td><td>It</td><td>Viking</td><td>1138</td><td>Winner, British Fantasy Award’s August Derleth Award, 1987, Nominee, World Fantasy Award, 1987, Runner-up (3rd place), Locus Award for Best Fantasy Novel, 1987</td><td>Greta Bowie</td></tr><tr><td>19</td><td>1986</td><td>It</td><td>Viking</td><td>1138</td><td>Winner, British Fantasy Award’s August Derleth Award, 1987, Nominee, World Fantasy Award, 1987, Runner-up (3rd place), Locus Award for Best Fantasy Novel, 1987</td><td>Victor Criss</td></tr><tr><td>19</td><td>1986</td><td>It</td><td>Viking</td><td>1138</td><td>Winner, British Fantasy Award’s August Derleth Award, 1987, Nominee, World Fantasy Award, 1987, Runner-up (3rd place), Locus Award for Best Fantasy Novel, 1987</td><td>Marcia Fadden</td></tr><tr><td>19</td><td>1986</td><td>It</td><td>Viking</td><td>1138</td><td>Winner, British Fantasy Award’s August Derleth Award, 1987, Nominee, World Fantasy Award, 1987, Runner-up (3rd place), Locus Award for Best Fantasy Novel, 1987</td><td>John Garton</td></tr><tr><td>19</td><td>1986</td><td>It</td><td>Viking</td><td>1138</td><td>Winner, British Fantasy Award’s August Derleth Award, 1987, Nominee, World Fantasy Award, 1987, Runner-up (3rd place), Locus Award for Best Fantasy Novel, 1987</td><td>Peter Gordon</td></tr><tr><td>19</td><td>1986</td><td>It</td><td>Viking</td><td>1138</td><td>Winner, British Fantasy Award’s August Derleth Award, 1987, Nominee, World Fantasy Award, 1987, Runner-up (3rd place), Locus Award for Best Fantasy Novel, 1987</td><td>Patrick Hockstetter</td></tr><tr><td>19</td><td>1986</td><td>It</td><td>Viking</td><td>1138</td><td>Winner, British Fantasy Award’s August Derleth Award, 1987, Nominee, World Fantasy Award, 1987, Runner-up (3rd place), Locus Award for Best Fantasy Novel, 1987</td><td>Belch Huggins</td></tr><tr><td>19</td><td>1986</td><td>It</td><td>Viking</td><td>1138</td><td>Winner, British Fantasy Award’s August Derleth Award, 1987, Nominee, World Fantasy Award, 1987, Runner-up (3rd place), Locus Award for Best Fantasy Novel, 1987</td><td>It (Creature)</td></tr><tr><td>19</td><td>1986</td><td>It</td><td>Viking</td><td>1138</td><td>Winner, British Fantasy Award’s August Derleth Award, 1987, Nominee, World Fantasy Award, 1987, Runner-up (3rd place), Locus Award for Best Fantasy Novel, 1987</td><td>Richard P. Macklin</td></tr><tr><td>19</td><td>1986</td><td>It</td><td>Viking</td><td>1138</td><td>Winner, British Fantasy Award’s August Derleth Award, 1987, Nominee, World Fantasy Award, 1987, Runner-up (3rd place), Locus Award for Best Fantasy Novel, 1987</td><td>Alvin Marsh</td></tr><tr><td>19</td><td>1986</td><td>It</td><td>Viking</td><td>1138</td><td>Winner, British Fantasy Award’s August Derleth Award, 1987, Nominee, World Fantasy Award, 1987, Runner-up (3rd place), Locus Award for Best Fantasy Novel, 1987</td><td>Sally Mueller</td></tr><tr><td>19</td><td>1986</td><td>It</td><td>Viking</td><td>1138</td><td>Winner, British Fantasy Award’s August Derleth Award, 1987, Nominee, World Fantasy Award, 1987, Runner-up (3rd place), Locus Award for Best Fantasy Novel, 1987</td><td>Tom Rogan</td></tr><tr><td>19</td><td>1986</td><td>It</td><td>Viking</td><td>1138</td><td>Winner, British Fantasy Award’s August Derleth Award, 1987, Nominee, World Fantasy Award, 1987, Runner-up (3rd place), Locus Award for Best Fantasy Novel, 1987</td><td>Christopher Unwin</td></tr><tr><td>20</td><td>1987</td><td>The Dark Tower II: The Drawing of the Three</td><td>Grant</td><td>400</td><td>Runner-up (16th place), Locus Award for Best Fantasy Novel, 1988</td><td>Jack Mort</td></tr><tr><td>21</td><td>1987</td><td>Misery</td><td>Viking</td><td>310</td><td>Winner, Bram Stoker Award, 1988, Nominee, World Fantasy Award, 1988</td><td>Annie Wilkes</td></tr><tr><td>22</td><td>1987</td><td>The Tommyknockers</td><td>Putnam</td><td>558</td><td>Runner-up (16th place), Locus Award for Best Science Fiction Novel, 1988</td><td>Tommyknockers</td></tr><tr><td>23</td><td>1989</td><td>The Dark Half</td><td>Viking</td><td>431</td><td>Runner-up (2nd place), Locus Award for Best Horror Novel, 1990</td><td>George Stark</td></tr><tr><td>24</td><td>1990</td><td>The Stand Uncut</td><td>Doubleday</td><td>1152</td><td>The Complete & Uncut Edition, Runner-up (2nd place), Locus Award's Best Horror/Dark Fantasy Novel, 1991</td><td></td></tr><tr><td>25</td><td>1991</td><td>The Dark Tower III: The Waste Lands</td><td>Grant</td><td>512</td><td>Nominee, Bram Stoker Award, 1992, Runner-up (3rd place), Locus Award for Best Horror/Dark Fantasy Novel, 1992</td><td>Blaine the Mono</td></tr><tr><td>25</td><td>1991</td><td>The Dark Tower III: The Waste Lands</td><td>Grant</td><td>512</td><td>Nominee, Bram Stoker Award, 1992, Runner-up (3rd place), Locus Award for Best Horror/Dark Fantasy Novel, 1992</td><td>Randall Flagg</td></tr><tr><td>26</td><td>1991</td><td>Needful Things</td><td>Viking</td><td>690</td><td>Nominee, Bram Stoker Award, 1992, Runner-up (13th place), Locus Award for Best Horror/Dark Fantasy Novel, 1992</td><td>Leland Gaunt</td></tr><tr><td>27</td><td>1992</td><td>Gerald's Game</td><td>Viking</td><td>352</td><td></td><td>Gerald Burlingame</td></tr><tr><td>27</td><td>1992</td><td>Gerald's Game</td><td>Viking</td><td>352</td><td></td><td>Raymond Andrew Joubert</td></tr><tr><td>27</td><td>1992</td><td>Gerald's Game</td><td>Viking</td><td>352</td><td></td><td>Tom Mahout</td></tr><tr><td>28</td><td>1992</td><td>Dolores Claiborne</td><td>Viking</td><td>305</td><td>Runner-up (14th place), Locus Award for Best Horror/Dark Fantasy Novel, 1993</td><td>Joe St. George</td></tr><tr><td>29</td><td>1994</td><td>Insomnia</td><td>Viking</td><td>787</td><td>Nominee, Bram Stoker Award, 1995, Runner-up (3rd place), Locus Award for Best Fantasy/Horror Novel, 1995</td><td>Crimson King</td></tr><tr><td>29</td><td>1994</td><td>Insomnia</td><td>Viking</td><td>787</td><td>Nominee, Bram Stoker Award, 1995, Runner-up (3rd place), Locus Award for Best Fantasy/Horror Novel, 1995</td><td>Susan Day</td></tr><tr><td>30</td><td>1995</td><td>Rose Madder</td><td>Viking</td><td>420</td><td>Runner-up (3rd place), Locus Award for Best Horror/Dark Fantasy Novel, 1995</td><td>Norman Daniels</td></tr><tr><td>30</td><td>1995</td><td>Rose Madder</td><td>Viking</td><td>420</td><td>Runner-up (3rd place), Locus Award for Best Horror/Dark Fantasy Novel, 1995</td><td>Susan Day</td></tr><tr><td>31</td><td>1996</td><td>The Green Mile</td><td>Signet Books</td><td>400</td><td>Winner, Bram Stoker Award, 1997, Runner-up (8th place), Locus Award for Best Horror/Dark Fantasy Novel, 1997</td><td>Percy Wetmore</td></tr><tr><td>31</td><td>1996</td><td>The Green Mile</td><td>Signet Books</td><td>400</td><td>Winner, Bram Stoker Award, 1997, Runner-up (8th place), Locus Award for Best Horror/Dark Fantasy Novel, 1997</td><td>William Wharton</td></tr><tr><td>32</td><td>1996</td><td>Desperation</td><td>Viking</td><td>704</td><td>Twin novel of The Regulators, Winner, Locus Award for Best Horror/Dark Fantasy Novel, 1997</td><td></td></tr><tr><td>33</td><td>1996</td><td>The Regulators</td><td>Dutton</td><td>480</td><td>Published under pseudonym Richard Bachman, Twin novel of Desperation</td><td></td></tr><tr><td>34</td><td>1997</td><td>The Dark Tower IV: Wizard and Glass</td><td>Grant</td><td>787</td><td>Runner-up (4th place), Locus Award for Best Fantasy Novel, 1998, Runner-up (6th place), Locus Award for Best Art Book, 1998</td><td>Blaine the Mono</td></tr><tr><td>34</td><td>1997</td><td>The Dark Tower IV: Wizard and Glass</td><td>Grant</td><td>787</td><td>Runner-up (4th place), Locus Award for Best Fantasy Novel, 1998, Runner-up (6th place), Locus Award for Best Art Book, 1998</td><td>Cordelia Delgado</td></tr><tr><td>34</td><td>1997</td><td>The Dark Tower IV: Wizard and Glass</td><td>Grant</td><td>787</td><td>Runner-up (4th place), Locus Award for Best Fantasy Novel, 1998, Runner-up (6th place), Locus Award for Best Art Book, 1998</td><td>Rhea Dubativo</td></tr><tr><td>34</td><td>1997</td><td>The Dark Tower IV: Wizard and Glass</td><td>Grant</td><td>787</td><td>Runner-up (4th place), Locus Award for Best Fantasy Novel, 1998, Runner-up (6th place), Locus Award for Best Art Book, 1998</td><td>John Farson</td></tr><tr><td>34</td><td>1997</td><td>The Dark Tower IV: Wizard and Glass</td><td>Grant</td><td>787</td><td>Runner-up (4th place), Locus Award for Best Fantasy Novel, 1998, Runner-up (6th place), Locus Award for Best Art Book, 1998</td><td>Randall Flagg</td></tr><tr><td>34</td><td>1997</td><td>The Dark Tower IV: Wizard and Glass</td><td>Grant</td><td>787</td><td>Runner-up (4th place), Locus Award for Best Fantasy Novel, 1998, Runner-up (6th place), Locus Award for Best Art Book, 1998</td><td>Eldred Jonas</td></tr><tr><td>35</td><td>1998</td><td>Bag of Bones</td><td>Scribner</td><td>529</td><td>Winner, Bram Stoker Award, 1999, Winner, British Fantasy Award’s August Derleth Award, 1999, Winner, Locus Award for Best Dark Fantasy/Horror Novel, 1999</td><td></td></tr><tr><td>36</td><td>1999</td><td>The Girl Who Loved Tom Gordon</td><td>Scribner</td><td>224</td><td></td><td></td></tr><tr><td>37</td><td>2001</td><td>Dreamcatcher</td><td>Scribner</td><td>620</td><td></td><td></td></tr><tr><td>38</td><td>2001</td><td>Black House</td><td>Random House</td><td>625</td><td>Sequel to The Talisman, Written with Peter Straub, Nominee, Bram Stoker Award, 2002, Runner-up (7th place), Locus Award for Best Fantasy Novel, 2002</td><td>Crimson King</td></tr><tr><td>39</td><td>2002</td><td>From a Buick 8</td><td>Scribner</td><td>368</td><td>Nominee, Bram Stoker Award, 2003</td><td>Brian Lippy</td></tr><tr><td>40</td><td>2003</td><td>The Dark Tower V: Wolves of the Calla</td><td>Grant</td><td>714</td><td>Nominee, Bram Stoker Award, 2004, Runner-up (4th place), Locus Award for Best Fantasy Novel, 2004</td><td></td></tr><tr><td>41</td><td>2004</td><td>The Dark Tower VI: Song of Susannah</td><td>Grant</td><td>432</td><td>Runner-up (4th place), Locus Award for Best Fantasy Novel, 2005</td><td></td></tr><tr><td>42</td><td>2004</td><td>The Dark Tower VII: The Dark Tower</td><td>978-1-880-41862-8</td><td>845</td><td>Winner, British Fantasy Award's August Derleth Award, 2005, Nominee, Bram Stoker Award, 2005</td><td>Crimson King</td></tr><tr><td>42</td><td>2004</td><td>The Dark Tower VII: The Dark Tower</td><td>978-1-880-41862-8</td><td>845</td><td>Winner, British Fantasy Award's August Derleth Award, 2005, Nominee, Bram Stoker Award, 2005</td><td>Dandelo</td></tr><tr><td>42</td><td>2004</td><td>The Dark Tower VII: The Dark Tower</td><td>978-1-880-41862-8</td><td>845</td><td>Winner, British Fantasy Award's August Derleth Award, 2005, Nominee, Bram Stoker Award, 2005</td><td>Mordred Deschain</td></tr><tr><td>42</td><td>2004</td><td>The Dark Tower VII: The Dark Tower</td><td>978-1-880-41862-8</td><td>845</td><td>Winner, British Fantasy Award's August Derleth Award, 2005, Nominee, Bram Stoker Award, 2005</td><td>Randall Flagg</td></tr><tr><td>43</td><td>2005</td><td>The Colorado Kid</td><td>Hard Case Crime</td><td>184</td><td></td><td></td></tr><tr><td>44</td><td>2006</td><td>Cell</td><td>Scribner</td><td>351</td><td></td><td>The Raggedy Man</td></tr><tr><td>45</td><td>2006</td><td>Lisey's Story</td><td>Scribner</td><td>528</td><td>Winner, Bram Stoker Award, 2007, Nominee, World Fantasy Award, 2007, Runner-up (10th place), Locus Award for Best Fantasy Novel, 2007</td><td></td></tr><tr><td>46</td><td>2007</td><td>Blaze</td><td>Scribner</td><td>304</td><td>Published under pseudonym Richard Bachman</td><td></td></tr><tr><td>47</td><td>2008</td><td>Duma Key</td><td>Scribner</td><td>607</td><td>Winner, Bram Stoker Award,  2009</td><td></td></tr><tr><td>48</td><td>2009</td><td>Under the Dome</td><td>Scribner</td><td>1074</td><td>Nominee, British Fantasy Award's August Derleth Award, 2010, Runner-up (7th place), Locus Award for Best Science Fiction Novel, 2010</td><td>Jim Rennie</td></tr><tr><td>48</td><td>2009</td><td>Under the Dome</td><td>Scribner</td><td>1074</td><td>Nominee, British Fantasy Award's August Derleth Award, 2010, Runner-up (7th place), Locus Award for Best Science Fiction Novel, 2010</td><td>Jr.</td></tr><tr><td>48</td><td>2009</td><td>Under the Dome</td><td>Scribner</td><td>1074</td><td>Nominee, British Fantasy Award's August Derleth Award, 2010, Runner-up (7th place), Locus Award for Best Science Fiction Novel, 2010</td><td>Jim Rennie</td></tr><tr><td>48</td><td>2009</td><td>Under the Dome</td><td>Scribner</td><td>1074</td><td>Nominee, British Fantasy Award's August Derleth Award, 2010, Runner-up (7th place), Locus Award for Best Science Fiction Novel, 2010</td><td>Carter Thibodeau</td></tr><tr><td>49</td><td>2011</td><td>11/22/63</td><td>Scribner</td><td>849</td><td>Nominee, British Fantasy Award, 2012, Nominee, World Fantasy Award, 2012, Runner-up (2nd place), Locus Award for Best Science Fiction Novel, 2012</td><td></td></tr><tr><td>50</td><td>2012</td><td>The Dark Tower: The Wind Through the Keyhole</td><td>Grant</td><td>336</td><td>The eighth Dark Tower novel, but chronologically set between the fourth and fifth volumes.</td><td></td></tr><tr><td>51</td><td>2013</td><td>Joyland</td><td>Hard Case Crime</td><td>288</td><td>Nominee, Edgar Award for Best Paperback Original, 20143, Runner-up (11th place), Locus Award for Best Fantasy Novel, 2014</td><td>Lane Hardy</td></tr><tr><td>52</td><td>2013</td><td>Doctor Sleep</td><td>Scribner</td><td>531</td><td>Sequel to The Shining, Winner, Bram Stoker Award, 2014, Runner-up (5th place), Locus Award for Best Fantasy Novel, 2014</td><td>Rose the Hat</td></tr><tr><td>53</td><td>2014</td><td>Mr. Mercedes</td><td>Scribner</td><td>436</td><td>First novel in the Bill Hodges Trilogy, Winner, Edgar Award for Best Novel, 20153</td><td>Brady Hartsfield</td></tr><tr><td>54</td><td>2014</td><td>Revival</td><td>Scribner</td><td>403</td><td>Runner-up (8th place), Locus Award for Best Fantasy Novel, 2015</td><td>Mother of the Null</td></tr><tr><td>55</td><td>2015</td><td>Finders Keepers</td><td>Scribner</td><td>434</td><td>Second novel in the Bill Hodges Trilogy.</td><td>Brady Hartsfield</td></tr><tr><td>56</td><td>2016</td><td>End of Watch</td><td>Scribner</td><td>496</td><td>Third novel in the Bill Hodges Trilogy.</td><td>Brady Hartsfield</td></tr><tr><td>57</td><td>2017</td><td>Gwendy's Button Box</td><td>Cemetery Dance Publications</td><td>175</td><td>Written with Richard Chizmar</td><td></td></tr><tr><td>58</td><td>2017</td><td>Sleeping Beauties</td><td>Scribner</td><td>702</td><td>Written with Owen King, Nominee, Bram Stoker Award, 2018</td><td></td></tr><tr><td>59</td><td>2018</td><td>The Outsider</td><td>Scribner</td><td>576</td><td>First novel in the Holly Gibney Series, Runner-up (2nd place), Locus Award for Best Horror Novel, 2019</td><td>The Outsider (Creature)</td></tr><tr><td>60</td><td>2018</td><td>Elevation</td><td>Scribner</td><td>144</td><td></td><td></td></tr><tr><td>61</td><td>2019</td><td>The Institute</td><td>Scribner</td><td>576</td><td>Nominee, British Fantasy Award's August Derleth Award, 2020, Runner-up (3rd place), Locus Award for Best Horror Novel, 2020</td><td>Gladys Hickson</td></tr><tr><td>62</td><td>2021</td><td>Later</td><td>Hard Case Crime</td><td>256</td><td></td><td></td></tr><tr><td>63</td><td>2021</td><td>Billy Summers</td><td>Scribner</td><td>528</td><td></td><td></td></tr></tbody></table></div>"
      ]
     },
     "metadata": {
      "application/vnd.databricks.v1+output": {
       "addedWidgets": {},
       "aggData": [],
       "aggError": "",
       "aggOverflow": false,
       "aggSchema": [],
       "aggSeriesLimitReached": false,
       "aggType": "",
       "arguments": {},
       "columnCustomDisplayInfos": {},
       "data": [
        [
         1,
         1974,
         "Carrie",
         "Doubleday",
         199,
         "",
         "Tina Blake"
        ],
        [
         1,
         1974,
         "Carrie",
         "Doubleday",
         199,
         "",
         "Cindi"
        ],
        [
         1,
         1974,
         "Carrie",
         "Doubleday",
         199,
         "",
         "Myra Crewes"
        ],
        [
         1,
         1974,
         "Carrie",
         "Doubleday",
         199,
         "",
         "Billy deLois"
        ],
        [
         1,
         1974,
         "Carrie",
         "Doubleday",
         199,
         "",
         "Kenny Garson"
        ],
        [
         1,
         1974,
         "Carrie",
         "Doubleday",
         199,
         "",
         "Mary Lila Grace"
        ],
        [
         1,
         1974,
         "Carrie",
         "Doubleday",
         199,
         "",
         "Christine Hargensen"
        ],
        [
         1,
         1974,
         "Carrie",
         "Doubleday",
         199,
         "",
         "Vic Mooney"
        ],
        [
         1,
         1974,
         "Carrie",
         "Doubleday",
         199,
         "",
         "The Mortimer Snerds"
        ],
        [
         1,
         1974,
         "Carrie",
         "Doubleday",
         199,
         "",
         "Billy Nolan"
        ],
        [
         1,
         1974,
         "Carrie",
         "Doubleday",
         199,
         "",
         "Elenor Richmond"
        ],
        [
         1,
         1974,
         "Carrie",
         "Doubleday",
         199,
         "",
         "Rachel Spies"
        ],
        [
         1,
         1974,
         "Carrie",
         "Doubleday",
         199,
         "",
         "Jackie Talbot"
        ],
        [
         1,
         1974,
         "Carrie",
         "Doubleday",
         199,
         "",
         "Donna and Mary Lila Grace Thibodeau"
        ],
        [
         1,
         1974,
         "Carrie",
         "Doubleday",
         199,
         "",
         "Jessica Upshaw"
        ],
        [
         1,
         1974,
         "Carrie",
         "Doubleday",
         199,
         "",
         "Norma Watson"
        ],
        [
         1,
         1974,
         "Carrie",
         "Doubleday",
         199,
         "",
         "Margaret White"
        ],
        [
         2,
         1975,
         "Salem's Lot",
         "Doubleday",
         439,
         "Nominee, World Fantasy Award, 1976",
         "Kurt Barlow"
        ],
        [
         2,
         1975,
         "Salem's Lot",
         "Doubleday",
         439,
         "Nominee, World Fantasy Award, 1976",
         "Richard Straker"
        ],
        [
         3,
         1977,
         "The Shining",
         "Doubleday",
         447,
         "Runner-up (4th place), Locus Award for Best Fantasy Novel, 1978",
         "Horace M. Derwent"
        ],
        [
         3,
         1977,
         "The Shining",
         "Doubleday",
         447,
         "Runner-up (4th place), Locus Award for Best Fantasy Novel, 1978",
         "Delbert Grady"
        ],
        [
         3,
         1977,
         "The Shining",
         "Doubleday",
         447,
         "Runner-up (4th place), Locus Award for Best Fantasy Novel, 1978",
         "Jack Torrance"
        ],
        [
         4,
         1977,
         "Rage",
         "Signet Books",
         211,
         "Published under pseudonym Richard Bachman",
         ""
        ],
        [
         5,
         1978,
         "The Stand",
         "Doubleday",
         823,
         "Nominee, World Fantasy Award, 1979, Runner-up (15th place), Locus Award, 1979",
         "Donald Merwin Elbert"
        ],
        [
         5,
         1978,
         "The Stand",
         "Doubleday",
         823,
         "Nominee, World Fantasy Award, 1979, Runner-up (15th place), Locus Award, 1979",
         "Randall Flagg"
        ],
        [
         5,
         1978,
         "The Stand",
         "Doubleday",
         823,
         "Nominee, World Fantasy Award, 1979, Runner-up (15th place), Locus Award, 1979",
         "Lloyd Henreid"
        ],
        [
         5,
         1978,
         "The Stand",
         "Doubleday",
         823,
         "Nominee, World Fantasy Award, 1979, Runner-up (15th place), Locus Award, 1979",
         "The Kid"
        ],
        [
         5,
         1978,
         "The Stand",
         "Doubleday",
         823,
         "Nominee, World Fantasy Award, 1979, Runner-up (15th place), Locus Award, 1979",
         "Harold Lauder"
        ],
        [
         5,
         1978,
         "The Stand",
         "Doubleday",
         823,
         "Nominee, World Fantasy Award, 1979, Runner-up (15th place), Locus Award, 1979",
         "Rat Man"
        ],
        [
         6,
         1979,
         "The Long Walk",
         "Signet Books",
         384,
         "Published under pseudonym Richard Bachman",
         "Randall Flagg"
        ],
        [
         6,
         1979,
         "The Long Walk",
         "Signet Books",
         384,
         "Published under pseudonym Richard Bachman",
         "The Major"
        ],
        [
         7,
         1979,
         "The Dead Zone",
         "Viking Press",
         428,
         "Runner-up (2nd place), Locus Award for Best Fantasy Novel, 1980",
         "Frank Dodd"
        ],
        [
         7,
         1979,
         "The Dead Zone",
         "Viking Press",
         428,
         "Runner-up (2nd place), Locus Award for Best Fantasy Novel, 1980",
         "Henrietta Dodd"
        ],
        [
         7,
         1979,
         "The Dead Zone",
         "Viking Press",
         428,
         "Runner-up (2nd place), Locus Award for Best Fantasy Novel, 1980",
         "Malcolm Janus"
        ],
        [
         7,
         1979,
         "The Dead Zone",
         "Viking Press",
         428,
         "Runner-up (2nd place), Locus Award for Best Fantasy Novel, 1980",
         "Sonny Elliman"
        ],
        [
         7,
         1979,
         "The Dead Zone",
         "Viking Press",
         428,
         "Runner-up (2nd place), Locus Award for Best Fantasy Novel, 1980",
         "Greg Stillson"
        ],
        [
         7,
         1979,
         "The Dead Zone",
         "Viking Press",
         428,
         "Runner-up (2nd place), Locus Award for Best Fantasy Novel, 1980",
         "The Devils Dozen"
        ],
        [
         8,
         1980,
         "Firestarter",
         "Viking Press",
         426,
         "Nominee, British Fantasy Award’s August Derleth Award, 1981, Runner-up (8th place), Locus Award for Best Science Fiction Novel, 1981",
         "James Hollister"
        ],
        [
         8,
         1980,
         "Firestarter",
         "Viking Press",
         426,
         "Nominee, British Fantasy Award’s August Derleth Award, 1981, Runner-up (8th place), Locus Award for Best Science Fiction Novel, 1981",
         "Charlie McGee"
        ],
        [
         8,
         1980,
         "Firestarter",
         "Viking Press",
         426,
         "Nominee, British Fantasy Award’s August Derleth Award, 1981, Runner-up (8th place), Locus Award for Best Science Fiction Novel, 1981",
         "John Rainbird"
        ],
        [
         9,
         1981,
         "Roadwork",
         "Signet Books",
         274,
         "Published under pseudonym Richard Bachman",
         ""
        ],
        [
         10,
         1981,
         "Cujo",
         "Viking Press",
         319,
         "Winner, British Fantasy Award’s August Derleth Award, 1982, Runner-up (21st place), Locus Award for Best Fantasy Novel, 1982",
         "Cujo"
        ],
        [
         11,
         1982,
         "The Running Man",
         "Signet Books",
         219,
         "Published under pseudonym Richard Bachman",
         "The Gladiators"
        ],
        [
         11,
         1982,
         "The Running Man",
         "Signet Books",
         219,
         "Published under pseudonym Richard Bachman",
         "Damon Killian"
        ],
        [
         12,
         1982,
         "The Dark Tower: The Gunslinger",
         "Grant",
         224,
         "",
         "Marten Broadcloak"
        ],
        [
         12,
         1982,
         "The Dark Tower: The Gunslinger",
         "Grant",
         224,
         "",
         "Crimson King"
        ],
        [
         12,
         1982,
         "The Dark Tower: The Gunslinger",
         "Grant",
         224,
         "",
         "Randall Flagg"
        ],
        [
         12,
         1982,
         "The Dark Tower: The Gunslinger",
         "Grant",
         224,
         "",
         "Sylvia Pittston"
        ],
        [
         13,
         1983,
         "Christine",
         "Viking",
         526,
         "Runner-up (6th place), Locus Award for Best Fantasy Novel, 1984",
         "Christine (car)"
        ],
        [
         13,
         1983,
         "Christine",
         "Viking",
         526,
         "Runner-up (6th place), Locus Award for Best Fantasy Novel, 1984",
         "Arnie Cunningham"
        ],
        [
         14,
         1983,
         "Pet Sematary",
         "Doubleday",
         374,
         "Nominee, World Fantasy Award, 1984, Runner-up (7th place), Locus Award for Best Fantasy Novel, 1984",
         "Winston Church"
        ],
        [
         14,
         1983,
         "Pet Sematary",
         "Doubleday",
         374,
         "Nominee, World Fantasy Award, 1984, Runner-up (7th place), Locus Award for Best Fantasy Novel, 1984",
         "Gage Creed"
        ],
        [
         14,
         1983,
         "Pet Sematary",
         "Doubleday",
         374,
         "Nominee, World Fantasy Award, 1984, Runner-up (7th place), Locus Award for Best Fantasy Novel, 1984",
         "Victor Pascow"
        ],
        [
         14,
         1983,
         "Pet Sematary",
         "Doubleday",
         374,
         "Nominee, World Fantasy Award, 1984, Runner-up (7th place), Locus Award for Best Fantasy Novel, 1984",
         "Wendigo"
        ],
        [
         15,
         1983,
         "Cycle of the Werewolf",
         "Land of Enchantment",
         127,
         "Illustrated by Bernie Wrightson",
         "Lester Lowe"
        ],
        [
         16,
         1984,
         "The Talisman",
         "Viking",
         646,
         "Written with Peter Straub, Nominee, World Fantasy Award, 1985, Runner-up (4th place), Locus Award for Best Fantasy Novel, 1985",
         ""
        ],
        [
         17,
         1984,
         "The Eyes of the Dragon",
         "Philtrum Press (1984)Viking (1987)",
         326,
         "First published as a limited edition in 1984, then for the mass market in 1987",
         "Randall Flagg"
        ],
        [
         18,
         1984,
         "Thinner",
         "NAL",
         309,
         "Published under pseudonym Richard Bachman",
         ""
        ],
        [
         19,
         1986,
         "It",
         "Viking",
         1138,
         "Winner, British Fantasy Award’s August Derleth Award, 1987, Nominee, World Fantasy Award, 1987, Runner-up (3rd place), Locus Award for Best Fantasy Novel, 1987",
         "Henry Bowers"
        ],
        [
         19,
         1986,
         "It",
         "Viking",
         1138,
         "Winner, British Fantasy Award’s August Derleth Award, 1987, Nominee, World Fantasy Award, 1987, Runner-up (3rd place), Locus Award for Best Fantasy Novel, 1987",
         "Butch Bowers"
        ],
        [
         19,
         1986,
         "It",
         "Viking",
         1138,
         "Winner, British Fantasy Award’s August Derleth Award, 1987, Nominee, World Fantasy Award, 1987, Runner-up (3rd place), Locus Award for Best Fantasy Novel, 1987",
         "Greta Bowie"
        ],
        [
         19,
         1986,
         "It",
         "Viking",
         1138,
         "Winner, British Fantasy Award’s August Derleth Award, 1987, Nominee, World Fantasy Award, 1987, Runner-up (3rd place), Locus Award for Best Fantasy Novel, 1987",
         "Victor Criss"
        ],
        [
         19,
         1986,
         "It",
         "Viking",
         1138,
         "Winner, British Fantasy Award’s August Derleth Award, 1987, Nominee, World Fantasy Award, 1987, Runner-up (3rd place), Locus Award for Best Fantasy Novel, 1987",
         "Marcia Fadden"
        ],
        [
         19,
         1986,
         "It",
         "Viking",
         1138,
         "Winner, British Fantasy Award’s August Derleth Award, 1987, Nominee, World Fantasy Award, 1987, Runner-up (3rd place), Locus Award for Best Fantasy Novel, 1987",
         "John Garton"
        ],
        [
         19,
         1986,
         "It",
         "Viking",
         1138,
         "Winner, British Fantasy Award’s August Derleth Award, 1987, Nominee, World Fantasy Award, 1987, Runner-up (3rd place), Locus Award for Best Fantasy Novel, 1987",
         "Peter Gordon"
        ],
        [
         19,
         1986,
         "It",
         "Viking",
         1138,
         "Winner, British Fantasy Award’s August Derleth Award, 1987, Nominee, World Fantasy Award, 1987, Runner-up (3rd place), Locus Award for Best Fantasy Novel, 1987",
         "Patrick Hockstetter"
        ],
        [
         19,
         1986,
         "It",
         "Viking",
         1138,
         "Winner, British Fantasy Award’s August Derleth Award, 1987, Nominee, World Fantasy Award, 1987, Runner-up (3rd place), Locus Award for Best Fantasy Novel, 1987",
         "Belch Huggins"
        ],
        [
         19,
         1986,
         "It",
         "Viking",
         1138,
         "Winner, British Fantasy Award’s August Derleth Award, 1987, Nominee, World Fantasy Award, 1987, Runner-up (3rd place), Locus Award for Best Fantasy Novel, 1987",
         "It (Creature)"
        ],
        [
         19,
         1986,
         "It",
         "Viking",
         1138,
         "Winner, British Fantasy Award’s August Derleth Award, 1987, Nominee, World Fantasy Award, 1987, Runner-up (3rd place), Locus Award for Best Fantasy Novel, 1987",
         "Richard P. Macklin"
        ],
        [
         19,
         1986,
         "It",
         "Viking",
         1138,
         "Winner, British Fantasy Award’s August Derleth Award, 1987, Nominee, World Fantasy Award, 1987, Runner-up (3rd place), Locus Award for Best Fantasy Novel, 1987",
         "Alvin Marsh"
        ],
        [
         19,
         1986,
         "It",
         "Viking",
         1138,
         "Winner, British Fantasy Award’s August Derleth Award, 1987, Nominee, World Fantasy Award, 1987, Runner-up (3rd place), Locus Award for Best Fantasy Novel, 1987",
         "Sally Mueller"
        ],
        [
         19,
         1986,
         "It",
         "Viking",
         1138,
         "Winner, British Fantasy Award’s August Derleth Award, 1987, Nominee, World Fantasy Award, 1987, Runner-up (3rd place), Locus Award for Best Fantasy Novel, 1987",
         "Tom Rogan"
        ],
        [
         19,
         1986,
         "It",
         "Viking",
         1138,
         "Winner, British Fantasy Award’s August Derleth Award, 1987, Nominee, World Fantasy Award, 1987, Runner-up (3rd place), Locus Award for Best Fantasy Novel, 1987",
         "Christopher Unwin"
        ],
        [
         20,
         1987,
         "The Dark Tower II: The Drawing of the Three",
         "Grant",
         400,
         "Runner-up (16th place), Locus Award for Best Fantasy Novel, 1988",
         "Jack Mort"
        ],
        [
         21,
         1987,
         "Misery",
         "Viking",
         310,
         "Winner, Bram Stoker Award, 1988, Nominee, World Fantasy Award, 1988",
         "Annie Wilkes"
        ],
        [
         22,
         1987,
         "The Tommyknockers",
         "Putnam",
         558,
         "Runner-up (16th place), Locus Award for Best Science Fiction Novel, 1988",
         "Tommyknockers"
        ],
        [
         23,
         1989,
         "The Dark Half",
         "Viking",
         431,
         "Runner-up (2nd place), Locus Award for Best Horror Novel, 1990",
         "George Stark"
        ],
        [
         24,
         1990,
         "The Stand Uncut",
         "Doubleday",
         1152,
         "The Complete & Uncut Edition, Runner-up (2nd place), Locus Award's Best Horror/Dark Fantasy Novel, 1991",
         ""
        ],
        [
         25,
         1991,
         "The Dark Tower III: The Waste Lands",
         "Grant",
         512,
         "Nominee, Bram Stoker Award, 1992, Runner-up (3rd place), Locus Award for Best Horror/Dark Fantasy Novel, 1992",
         "Blaine the Mono"
        ],
        [
         25,
         1991,
         "The Dark Tower III: The Waste Lands",
         "Grant",
         512,
         "Nominee, Bram Stoker Award, 1992, Runner-up (3rd place), Locus Award for Best Horror/Dark Fantasy Novel, 1992",
         "Randall Flagg"
        ],
        [
         26,
         1991,
         "Needful Things",
         "Viking",
         690,
         "Nominee, Bram Stoker Award, 1992, Runner-up (13th place), Locus Award for Best Horror/Dark Fantasy Novel, 1992",
         "Leland Gaunt"
        ],
        [
         27,
         1992,
         "Gerald's Game",
         "Viking",
         352,
         "",
         "Gerald Burlingame"
        ],
        [
         27,
         1992,
         "Gerald's Game",
         "Viking",
         352,
         "",
         "Raymond Andrew Joubert"
        ],
        [
         27,
         1992,
         "Gerald's Game",
         "Viking",
         352,
         "",
         "Tom Mahout"
        ],
        [
         28,
         1992,
         "Dolores Claiborne",
         "Viking",
         305,
         "Runner-up (14th place), Locus Award for Best Horror/Dark Fantasy Novel, 1993",
         "Joe St. George"
        ],
        [
         29,
         1994,
         "Insomnia",
         "Viking",
         787,
         "Nominee, Bram Stoker Award, 1995, Runner-up (3rd place), Locus Award for Best Fantasy/Horror Novel, 1995",
         "Crimson King"
        ],
        [
         29,
         1994,
         "Insomnia",
         "Viking",
         787,
         "Nominee, Bram Stoker Award, 1995, Runner-up (3rd place), Locus Award for Best Fantasy/Horror Novel, 1995",
         "Susan Day"
        ],
        [
         30,
         1995,
         "Rose Madder",
         "Viking",
         420,
         "Runner-up (3rd place), Locus Award for Best Horror/Dark Fantasy Novel, 1995",
         "Norman Daniels"
        ],
        [
         30,
         1995,
         "Rose Madder",
         "Viking",
         420,
         "Runner-up (3rd place), Locus Award for Best Horror/Dark Fantasy Novel, 1995",
         "Susan Day"
        ],
        [
         31,
         1996,
         "The Green Mile",
         "Signet Books",
         400,
         "Winner, Bram Stoker Award, 1997, Runner-up (8th place), Locus Award for Best Horror/Dark Fantasy Novel, 1997",
         "Percy Wetmore"
        ],
        [
         31,
         1996,
         "The Green Mile",
         "Signet Books",
         400,
         "Winner, Bram Stoker Award, 1997, Runner-up (8th place), Locus Award for Best Horror/Dark Fantasy Novel, 1997",
         "William Wharton"
        ],
        [
         32,
         1996,
         "Desperation",
         "Viking",
         704,
         "Twin novel of The Regulators, Winner, Locus Award for Best Horror/Dark Fantasy Novel, 1997",
         ""
        ],
        [
         33,
         1996,
         "The Regulators",
         "Dutton",
         480,
         "Published under pseudonym Richard Bachman, Twin novel of Desperation",
         ""
        ],
        [
         34,
         1997,
         "The Dark Tower IV: Wizard and Glass",
         "Grant",
         787,
         "Runner-up (4th place), Locus Award for Best Fantasy Novel, 1998, Runner-up (6th place), Locus Award for Best Art Book, 1998",
         "Blaine the Mono"
        ],
        [
         34,
         1997,
         "The Dark Tower IV: Wizard and Glass",
         "Grant",
         787,
         "Runner-up (4th place), Locus Award for Best Fantasy Novel, 1998, Runner-up (6th place), Locus Award for Best Art Book, 1998",
         "Cordelia Delgado"
        ],
        [
         34,
         1997,
         "The Dark Tower IV: Wizard and Glass",
         "Grant",
         787,
         "Runner-up (4th place), Locus Award for Best Fantasy Novel, 1998, Runner-up (6th place), Locus Award for Best Art Book, 1998",
         "Rhea Dubativo"
        ],
        [
         34,
         1997,
         "The Dark Tower IV: Wizard and Glass",
         "Grant",
         787,
         "Runner-up (4th place), Locus Award for Best Fantasy Novel, 1998, Runner-up (6th place), Locus Award for Best Art Book, 1998",
         "John Farson"
        ],
        [
         34,
         1997,
         "The Dark Tower IV: Wizard and Glass",
         "Grant",
         787,
         "Runner-up (4th place), Locus Award for Best Fantasy Novel, 1998, Runner-up (6th place), Locus Award for Best Art Book, 1998",
         "Randall Flagg"
        ],
        [
         34,
         1997,
         "The Dark Tower IV: Wizard and Glass",
         "Grant",
         787,
         "Runner-up (4th place), Locus Award for Best Fantasy Novel, 1998, Runner-up (6th place), Locus Award for Best Art Book, 1998",
         "Eldred Jonas"
        ],
        [
         35,
         1998,
         "Bag of Bones",
         "Scribner",
         529,
         "Winner, Bram Stoker Award, 1999, Winner, British Fantasy Award’s August Derleth Award, 1999, Winner, Locus Award for Best Dark Fantasy/Horror Novel, 1999",
         ""
        ],
        [
         36,
         1999,
         "The Girl Who Loved Tom Gordon",
         "Scribner",
         224,
         "",
         ""
        ],
        [
         37,
         2001,
         "Dreamcatcher",
         "Scribner",
         620,
         "",
         ""
        ],
        [
         38,
         2001,
         "Black House",
         "Random House",
         625,
         "Sequel to The Talisman, Written with Peter Straub, Nominee, Bram Stoker Award, 2002, Runner-up (7th place), Locus Award for Best Fantasy Novel, 2002",
         "Crimson King"
        ],
        [
         39,
         2002,
         "From a Buick 8",
         "Scribner",
         368,
         "Nominee, Bram Stoker Award, 2003",
         "Brian Lippy"
        ],
        [
         40,
         2003,
         "The Dark Tower V: Wolves of the Calla",
         "Grant",
         714,
         "Nominee, Bram Stoker Award, 2004, Runner-up (4th place), Locus Award for Best Fantasy Novel, 2004",
         ""
        ],
        [
         41,
         2004,
         "The Dark Tower VI: Song of Susannah",
         "Grant",
         432,
         "Runner-up (4th place), Locus Award for Best Fantasy Novel, 2005",
         ""
        ],
        [
         42,
         2004,
         "The Dark Tower VII: The Dark Tower",
         "978-1-880-41862-8",
         845,
         "Winner, British Fantasy Award's August Derleth Award, 2005, Nominee, Bram Stoker Award, 2005",
         "Crimson King"
        ],
        [
         42,
         2004,
         "The Dark Tower VII: The Dark Tower",
         "978-1-880-41862-8",
         845,
         "Winner, British Fantasy Award's August Derleth Award, 2005, Nominee, Bram Stoker Award, 2005",
         "Dandelo"
        ],
        [
         42,
         2004,
         "The Dark Tower VII: The Dark Tower",
         "978-1-880-41862-8",
         845,
         "Winner, British Fantasy Award's August Derleth Award, 2005, Nominee, Bram Stoker Award, 2005",
         "Mordred Deschain"
        ],
        [
         42,
         2004,
         "The Dark Tower VII: The Dark Tower",
         "978-1-880-41862-8",
         845,
         "Winner, British Fantasy Award's August Derleth Award, 2005, Nominee, Bram Stoker Award, 2005",
         "Randall Flagg"
        ],
        [
         43,
         2005,
         "The Colorado Kid",
         "Hard Case Crime",
         184,
         "",
         ""
        ],
        [
         44,
         2006,
         "Cell",
         "Scribner",
         351,
         "",
         "The Raggedy Man"
        ],
        [
         45,
         2006,
         "Lisey's Story",
         "Scribner",
         528,
         "Winner, Bram Stoker Award, 2007, Nominee, World Fantasy Award, 2007, Runner-up (10th place), Locus Award for Best Fantasy Novel, 2007",
         ""
        ],
        [
         46,
         2007,
         "Blaze",
         "Scribner",
         304,
         "Published under pseudonym Richard Bachman",
         ""
        ],
        [
         47,
         2008,
         "Duma Key",
         "Scribner",
         607,
         "Winner, Bram Stoker Award,  2009",
         ""
        ],
        [
         48,
         2009,
         "Under the Dome",
         "Scribner",
         1074,
         "Nominee, British Fantasy Award's August Derleth Award, 2010, Runner-up (7th place), Locus Award for Best Science Fiction Novel, 2010",
         "Jim Rennie"
        ],
        [
         48,
         2009,
         "Under the Dome",
         "Scribner",
         1074,
         "Nominee, British Fantasy Award's August Derleth Award, 2010, Runner-up (7th place), Locus Award for Best Science Fiction Novel, 2010",
         "Jr."
        ],
        [
         48,
         2009,
         "Under the Dome",
         "Scribner",
         1074,
         "Nominee, British Fantasy Award's August Derleth Award, 2010, Runner-up (7th place), Locus Award for Best Science Fiction Novel, 2010",
         "Jim Rennie"
        ],
        [
         48,
         2009,
         "Under the Dome",
         "Scribner",
         1074,
         "Nominee, British Fantasy Award's August Derleth Award, 2010, Runner-up (7th place), Locus Award for Best Science Fiction Novel, 2010",
         "Carter Thibodeau"
        ],
        [
         49,
         2011,
         "11/22/63",
         "Scribner",
         849,
         "Nominee, British Fantasy Award, 2012, Nominee, World Fantasy Award, 2012, Runner-up (2nd place), Locus Award for Best Science Fiction Novel, 2012",
         ""
        ],
        [
         50,
         2012,
         "The Dark Tower: The Wind Through the Keyhole",
         "Grant",
         336,
         "The eighth Dark Tower novel, but chronologically set between the fourth and fifth volumes.",
         ""
        ],
        [
         51,
         2013,
         "Joyland",
         "Hard Case Crime",
         288,
         "Nominee, Edgar Award for Best Paperback Original, 20143, Runner-up (11th place), Locus Award for Best Fantasy Novel, 2014",
         "Lane Hardy"
        ],
        [
         52,
         2013,
         "Doctor Sleep",
         "Scribner",
         531,
         "Sequel to The Shining, Winner, Bram Stoker Award, 2014, Runner-up (5th place), Locus Award for Best Fantasy Novel, 2014",
         "Rose the Hat"
        ],
        [
         53,
         2014,
         "Mr. Mercedes",
         "Scribner",
         436,
         "First novel in the Bill Hodges Trilogy, Winner, Edgar Award for Best Novel, 20153",
         "Brady Hartsfield"
        ],
        [
         54,
         2014,
         "Revival",
         "Scribner",
         403,
         "Runner-up (8th place), Locus Award for Best Fantasy Novel, 2015",
         "Mother of the Null"
        ],
        [
         55,
         2015,
         "Finders Keepers",
         "Scribner",
         434,
         "Second novel in the Bill Hodges Trilogy.",
         "Brady Hartsfield"
        ],
        [
         56,
         2016,
         "End of Watch",
         "Scribner",
         496,
         "Third novel in the Bill Hodges Trilogy.",
         "Brady Hartsfield"
        ],
        [
         57,
         2017,
         "Gwendy's Button Box",
         "Cemetery Dance Publications",
         175,
         "Written with Richard Chizmar",
         ""
        ],
        [
         58,
         2017,
         "Sleeping Beauties",
         "Scribner",
         702,
         "Written with Owen King, Nominee, Bram Stoker Award, 2018",
         ""
        ],
        [
         59,
         2018,
         "The Outsider",
         "Scribner",
         576,
         "First novel in the Holly Gibney Series, Runner-up (2nd place), Locus Award for Best Horror Novel, 2019",
         "The Outsider (Creature)"
        ],
        [
         60,
         2018,
         "Elevation",
         "Scribner",
         144,
         "",
         ""
        ],
        [
         61,
         2019,
         "The Institute",
         "Scribner",
         576,
         "Nominee, British Fantasy Award's August Derleth Award, 2020, Runner-up (3rd place), Locus Award for Best Horror Novel, 2020",
         "Gladys Hickson"
        ],
        [
         62,
         2021,
         "Later",
         "Hard Case Crime",
         256,
         "",
         ""
        ],
        [
         63,
         2021,
         "Billy Summers",
         "Scribner",
         528,
         "",
         ""
        ]
       ],
       "datasetInfos": [],
       "dbfsResultPath": null,
       "isJsonSchema": true,
       "metadata": {},
       "overflow": false,
       "plotOptions": {
        "customPlotOptions": {},
        "displayType": "table",
        "pivotAggregation": null,
        "pivotColumns": null,
        "xColumns": null,
        "yColumns": null
       },
       "removedWidgets": [],
       "schema": [
        {
         "metadata": "{}",
         "name": "id_livro",
         "type": "\"long\""
        },
        {
         "metadata": "{}",
         "name": "ano",
         "type": "\"long\""
        },
        {
         "metadata": "{}",
         "name": "titulo",
         "type": "\"string\""
        },
        {
         "metadata": "{}",
         "name": "editora",
         "type": "\"string\""
        },
        {
         "metadata": "{}",
         "name": "qtd_paginas",
         "type": "\"long\""
        },
        {
         "metadata": "{}",
         "name": "notas_sobre_obra",
         "type": "\"string\""
        },
        {
         "metadata": "{}",
         "name": "viloes",
         "type": "\"string\""
        }
       ],
       "type": "table"
      }
     },
     "output_type": "display_data"
    }
   ],
   "source": [
    "# Removendo caracteres indesejados da coluna 'viloes'\n",
    "dados_df['viloes'] = dados_df['viloes'].str.replace(r'[\\[\\]\\'\\\"\\\\/]', '', regex=True)\n",
    "\n",
    "# Removendo caracteres indesejados da coluna 'notas_sobre_obra', mantendo 's\n",
    "dados_df['notas_sobre_obra'] = dados_df['notas_sobre_obra'].str.replace(r'\\[2\\]|\\\\|\\[|\\]|\\\"|\\'(?!s)', '', regex=True)\n",
    "\n",
    "display(dados_df)"
   ]
  },
  {
   "cell_type": "markdown",
   "metadata": {
    "application/vnd.databricks.v1+cell": {
     "cellMetadata": {},
     "inputWidgets": {},
     "nuid": "ccff59f3-4be6-4dfd-813c-6ac732bb437e",
     "showTitle": false,
     "tableResultSettingsMap": {},
     "title": ""
    }
   },
   "source": [
    "Criando um banco de dados"
   ]
  },
  {
   "cell_type": "code",
   "execution_count": 0,
   "metadata": {
    "application/vnd.databricks.v1+cell": {
     "cellMetadata": {
      "byteLimit": 2048000,
      "rowLimit": 10000
     },
     "inputWidgets": {},
     "nuid": "0f959386-04fd-4523-8201-e25d08f2b6a4",
     "showTitle": false,
     "tableResultSettingsMap": {},
     "title": ""
    }
   },
   "outputs": [],
   "source": [
    "from pyspark.sql import SparkSession\n",
    "\n",
    "# Obter a sessão Spark\n",
    "spark = SparkSession.builder.getOrCreate()\n",
    "\n",
    "# Definir o nome do banco de dados\n",
    "database_name = \"stephenking\"\n",
    "table_name = \"books\"\n",
    "\n",
    "# Verificar se o banco de dados já existe, e se não, criar\n",
    "spark.sql(f\"CREATE DATABASE IF NOT EXISTS {database_name}\")\n",
    "\n",
    "# Converter o DataFrame do Pandas para PySpark\n",
    "dados_df_spark = spark.createDataFrame(dados_df)\n",
    "\n",
    "# Agora, você pode salvar como uma tabela Delta\n",
    "# A opção 'overwrite' permite sobrescrever a tabela se ela já existir\n",
    "dados_df_spark.write.format(\"delta\").saveAsTable(f\"{database_name}.{table_name}\")\n"
   ]
  },
  {
   "cell_type": "code",
   "execution_count": 0,
   "metadata": {
    "application/vnd.databricks.v1+cell": {
     "cellMetadata": {
      "byteLimit": 2048000,
      "implicitDf": true,
      "rowLimit": 10000
     },
     "inputWidgets": {},
     "nuid": "4a8b8789-0e8a-4365-b512-6e53abd7418f",
     "showTitle": false,
     "tableResultSettingsMap": {},
     "title": ""
    }
   },
   "outputs": [
    {
     "output_type": "display_data",
     "data": {
      "text/html": [
       "<style scoped>\n",
       "  .table-result-container {\n",
       "    max-height: 300px;\n",
       "    overflow: auto;\n",
       "  }\n",
       "  table, th, td {\n",
       "    border: 1px solid black;\n",
       "    border-collapse: collapse;\n",
       "  }\n",
       "  th, td {\n",
       "    padding: 5px;\n",
       "  }\n",
       "  th {\n",
       "    text-align: left;\n",
       "  }\n",
       "</style><div class='table-result-container'><table class='table-result'><thead style='background-color: white'><tr><th>ano</th><th>titulo</th><th>editora</th></tr></thead><tbody><tr><td>1974</td><td>Carrie</td><td>Doubleday</td></tr><tr><td>1974</td><td>Carrie</td><td>Doubleday</td></tr><tr><td>1974</td><td>Carrie</td><td>Doubleday</td></tr><tr><td>1974</td><td>Carrie</td><td>Doubleday</td></tr><tr><td>1974</td><td>Carrie</td><td>Doubleday</td></tr><tr><td>1974</td><td>Carrie</td><td>Doubleday</td></tr><tr><td>1974</td><td>Carrie</td><td>Doubleday</td></tr><tr><td>1974</td><td>Carrie</td><td>Doubleday</td></tr><tr><td>1974</td><td>Carrie</td><td>Doubleday</td></tr><tr><td>1974</td><td>Carrie</td><td>Doubleday</td></tr><tr><td>1974</td><td>Carrie</td><td>Doubleday</td></tr><tr><td>1974</td><td>Carrie</td><td>Doubleday</td></tr><tr><td>1974</td><td>Carrie</td><td>Doubleday</td></tr><tr><td>1974</td><td>Carrie</td><td>Doubleday</td></tr><tr><td>1974</td><td>Carrie</td><td>Doubleday</td></tr><tr><td>1974</td><td>Carrie</td><td>Doubleday</td></tr><tr><td>1974</td><td>Carrie</td><td>Doubleday</td></tr><tr><td>1975</td><td>Salem's Lot</td><td>Doubleday</td></tr><tr><td>1975</td><td>Salem's Lot</td><td>Doubleday</td></tr><tr><td>1977</td><td>The Shining</td><td>Doubleday</td></tr><tr><td>1977</td><td>The Shining</td><td>Doubleday</td></tr><tr><td>1977</td><td>The Shining</td><td>Doubleday</td></tr><tr><td>1977</td><td>Rage</td><td>Signet Books</td></tr><tr><td>1978</td><td>The Stand</td><td>Doubleday</td></tr><tr><td>1978</td><td>The Stand</td><td>Doubleday</td></tr><tr><td>1978</td><td>The Stand</td><td>Doubleday</td></tr><tr><td>1978</td><td>The Stand</td><td>Doubleday</td></tr><tr><td>1978</td><td>The Stand</td><td>Doubleday</td></tr><tr><td>1978</td><td>The Stand</td><td>Doubleday</td></tr><tr><td>1979</td><td>The Long Walk</td><td>Signet Books</td></tr><tr><td>1979</td><td>The Long Walk</td><td>Signet Books</td></tr><tr><td>1979</td><td>The Dead Zone</td><td>Viking Press</td></tr><tr><td>1979</td><td>The Dead Zone</td><td>Viking Press</td></tr><tr><td>1979</td><td>The Dead Zone</td><td>Viking Press</td></tr><tr><td>1979</td><td>The Dead Zone</td><td>Viking Press</td></tr><tr><td>1979</td><td>The Dead Zone</td><td>Viking Press</td></tr><tr><td>1979</td><td>The Dead Zone</td><td>Viking Press</td></tr><tr><td>1980</td><td>Firestarter</td><td>Viking Press</td></tr><tr><td>1980</td><td>Firestarter</td><td>Viking Press</td></tr><tr><td>1980</td><td>Firestarter</td><td>Viking Press</td></tr><tr><td>1981</td><td>Roadwork</td><td>Signet Books</td></tr><tr><td>1981</td><td>Cujo</td><td>Viking Press</td></tr><tr><td>1982</td><td>The Running Man</td><td>Signet Books</td></tr><tr><td>1982</td><td>The Running Man</td><td>Signet Books</td></tr><tr><td>1982</td><td>The Dark Tower: The Gunslinger</td><td>Grant</td></tr><tr><td>1982</td><td>The Dark Tower: The Gunslinger</td><td>Grant</td></tr><tr><td>1982</td><td>The Dark Tower: The Gunslinger</td><td>Grant</td></tr><tr><td>1982</td><td>The Dark Tower: The Gunslinger</td><td>Grant</td></tr><tr><td>1983</td><td>Christine</td><td>Viking</td></tr><tr><td>1983</td><td>Christine</td><td>Viking</td></tr><tr><td>1983</td><td>Pet Sematary</td><td>Doubleday</td></tr><tr><td>1983</td><td>Pet Sematary</td><td>Doubleday</td></tr><tr><td>1983</td><td>Pet Sematary</td><td>Doubleday</td></tr><tr><td>1983</td><td>Pet Sematary</td><td>Doubleday</td></tr><tr><td>1983</td><td>Cycle of the Werewolf</td><td>Land of Enchantment</td></tr><tr><td>1984</td><td>The Talisman</td><td>Viking</td></tr><tr><td>1984</td><td>The Eyes of the Dragon</td><td>Philtrum Press (1984)Viking (1987)</td></tr><tr><td>1984</td><td>Thinner</td><td>NAL</td></tr><tr><td>1986</td><td>It</td><td>Viking</td></tr><tr><td>1986</td><td>It</td><td>Viking</td></tr><tr><td>1986</td><td>It</td><td>Viking</td></tr><tr><td>1986</td><td>It</td><td>Viking</td></tr><tr><td>1986</td><td>It</td><td>Viking</td></tr><tr><td>1986</td><td>It</td><td>Viking</td></tr><tr><td>1986</td><td>It</td><td>Viking</td></tr><tr><td>1986</td><td>It</td><td>Viking</td></tr><tr><td>1986</td><td>It</td><td>Viking</td></tr><tr><td>1986</td><td>It</td><td>Viking</td></tr><tr><td>1986</td><td>It</td><td>Viking</td></tr><tr><td>1986</td><td>It</td><td>Viking</td></tr><tr><td>1986</td><td>It</td><td>Viking</td></tr><tr><td>1986</td><td>It</td><td>Viking</td></tr><tr><td>1986</td><td>It</td><td>Viking</td></tr><tr><td>1987</td><td>The Dark Tower II: The Drawing of the Three</td><td>Grant</td></tr><tr><td>1987</td><td>Misery</td><td>Viking</td></tr><tr><td>1987</td><td>The Tommyknockers</td><td>Putnam</td></tr><tr><td>1989</td><td>The Dark Half</td><td>Viking</td></tr><tr><td>1990</td><td>The Stand Uncut</td><td>Doubleday</td></tr><tr><td>1991</td><td>The Dark Tower III: The Waste Lands</td><td>Grant</td></tr><tr><td>1991</td><td>The Dark Tower III: The Waste Lands</td><td>Grant</td></tr><tr><td>1991</td><td>Needful Things</td><td>Viking</td></tr><tr><td>1992</td><td>Gerald's Game</td><td>Viking</td></tr><tr><td>1992</td><td>Gerald's Game</td><td>Viking</td></tr><tr><td>1992</td><td>Gerald's Game</td><td>Viking</td></tr><tr><td>1992</td><td>Dolores Claiborne</td><td>Viking</td></tr><tr><td>1994</td><td>Insomnia</td><td>Viking</td></tr><tr><td>1994</td><td>Insomnia</td><td>Viking</td></tr><tr><td>1995</td><td>Rose Madder</td><td>Viking</td></tr><tr><td>1995</td><td>Rose Madder</td><td>Viking</td></tr><tr><td>1996</td><td>The Green Mile</td><td>Signet Books</td></tr><tr><td>1996</td><td>The Green Mile</td><td>Signet Books</td></tr><tr><td>1996</td><td>Desperation</td><td>Viking</td></tr><tr><td>1996</td><td>The Regulators</td><td>Dutton</td></tr><tr><td>1997</td><td>The Dark Tower IV: Wizard and Glass</td><td>Grant</td></tr><tr><td>1997</td><td>The Dark Tower IV: Wizard and Glass</td><td>Grant</td></tr><tr><td>1997</td><td>The Dark Tower IV: Wizard and Glass</td><td>Grant</td></tr><tr><td>1997</td><td>The Dark Tower IV: Wizard and Glass</td><td>Grant</td></tr><tr><td>1997</td><td>The Dark Tower IV: Wizard and Glass</td><td>Grant</td></tr><tr><td>1997</td><td>The Dark Tower IV: Wizard and Glass</td><td>Grant</td></tr><tr><td>1998</td><td>Bag of Bones</td><td>Scribner</td></tr><tr><td>1999</td><td>The Girl Who Loved Tom Gordon</td><td>Scribner</td></tr><tr><td>2001</td><td>Dreamcatcher</td><td>Scribner</td></tr><tr><td>2001</td><td>Black House</td><td>Random House</td></tr><tr><td>2002</td><td>From a Buick 8</td><td>Scribner</td></tr><tr><td>2003</td><td>The Dark Tower V: Wolves of the Calla</td><td>Grant</td></tr><tr><td>2004</td><td>The Dark Tower VI: Song of Susannah</td><td>Grant</td></tr><tr><td>2004</td><td>The Dark Tower VII: The Dark Tower</td><td>978-1-880-41862-8</td></tr><tr><td>2004</td><td>The Dark Tower VII: The Dark Tower</td><td>978-1-880-41862-8</td></tr><tr><td>2004</td><td>The Dark Tower VII: The Dark Tower</td><td>978-1-880-41862-8</td></tr><tr><td>2004</td><td>The Dark Tower VII: The Dark Tower</td><td>978-1-880-41862-8</td></tr><tr><td>2005</td><td>The Colorado Kid</td><td>Hard Case Crime</td></tr><tr><td>2006</td><td>Cell</td><td>Scribner</td></tr><tr><td>2006</td><td>Lisey's Story</td><td>Scribner</td></tr><tr><td>2007</td><td>Blaze</td><td>Scribner</td></tr><tr><td>2008</td><td>Duma Key</td><td>Scribner</td></tr><tr><td>2009</td><td>Under the Dome</td><td>Scribner</td></tr><tr><td>2009</td><td>Under the Dome</td><td>Scribner</td></tr><tr><td>2009</td><td>Under the Dome</td><td>Scribner</td></tr><tr><td>2009</td><td>Under the Dome</td><td>Scribner</td></tr><tr><td>2011</td><td>11/22/63</td><td>Scribner</td></tr><tr><td>2012</td><td>The Dark Tower: The Wind Through the Keyhole</td><td>Grant</td></tr><tr><td>2013</td><td>Joyland</td><td>Hard Case Crime</td></tr><tr><td>2013</td><td>Doctor Sleep</td><td>Scribner</td></tr><tr><td>2014</td><td>Mr. Mercedes</td><td>Scribner</td></tr><tr><td>2014</td><td>Revival</td><td>Scribner</td></tr><tr><td>2015</td><td>Finders Keepers</td><td>Scribner</td></tr><tr><td>2016</td><td>End of Watch</td><td>Scribner</td></tr><tr><td>2017</td><td>Gwendy's Button Box</td><td>Cemetery Dance Publications</td></tr><tr><td>2017</td><td>Sleeping Beauties</td><td>Scribner</td></tr><tr><td>2018</td><td>The Outsider</td><td>Scribner</td></tr><tr><td>2018</td><td>Elevation</td><td>Scribner</td></tr><tr><td>2019</td><td>The Institute</td><td>Scribner</td></tr><tr><td>2021</td><td>Later</td><td>Hard Case Crime</td></tr><tr><td>2021</td><td>Billy Summers</td><td>Scribner</td></tr></tbody></table></div>"
      ]
     },
     "metadata": {
      "application/vnd.databricks.v1+output": {
       "addedWidgets": {},
       "aggData": [],
       "aggError": "",
       "aggOverflow": false,
       "aggSchema": [],
       "aggSeriesLimitReached": false,
       "aggType": "",
       "arguments": {},
       "columnCustomDisplayInfos": {},
       "data": [
        [
         1974,
         "Carrie",
         "Doubleday"
        ],
        [
         1974,
         "Carrie",
         "Doubleday"
        ],
        [
         1974,
         "Carrie",
         "Doubleday"
        ],
        [
         1974,
         "Carrie",
         "Doubleday"
        ],
        [
         1974,
         "Carrie",
         "Doubleday"
        ],
        [
         1974,
         "Carrie",
         "Doubleday"
        ],
        [
         1974,
         "Carrie",
         "Doubleday"
        ],
        [
         1974,
         "Carrie",
         "Doubleday"
        ],
        [
         1974,
         "Carrie",
         "Doubleday"
        ],
        [
         1974,
         "Carrie",
         "Doubleday"
        ],
        [
         1974,
         "Carrie",
         "Doubleday"
        ],
        [
         1974,
         "Carrie",
         "Doubleday"
        ],
        [
         1974,
         "Carrie",
         "Doubleday"
        ],
        [
         1974,
         "Carrie",
         "Doubleday"
        ],
        [
         1974,
         "Carrie",
         "Doubleday"
        ],
        [
         1974,
         "Carrie",
         "Doubleday"
        ],
        [
         1974,
         "Carrie",
         "Doubleday"
        ],
        [
         1975,
         "Salem's Lot",
         "Doubleday"
        ],
        [
         1975,
         "Salem's Lot",
         "Doubleday"
        ],
        [
         1977,
         "The Shining",
         "Doubleday"
        ],
        [
         1977,
         "The Shining",
         "Doubleday"
        ],
        [
         1977,
         "The Shining",
         "Doubleday"
        ],
        [
         1977,
         "Rage",
         "Signet Books"
        ],
        [
         1978,
         "The Stand",
         "Doubleday"
        ],
        [
         1978,
         "The Stand",
         "Doubleday"
        ],
        [
         1978,
         "The Stand",
         "Doubleday"
        ],
        [
         1978,
         "The Stand",
         "Doubleday"
        ],
        [
         1978,
         "The Stand",
         "Doubleday"
        ],
        [
         1978,
         "The Stand",
         "Doubleday"
        ],
        [
         1979,
         "The Long Walk",
         "Signet Books"
        ],
        [
         1979,
         "The Long Walk",
         "Signet Books"
        ],
        [
         1979,
         "The Dead Zone",
         "Viking Press"
        ],
        [
         1979,
         "The Dead Zone",
         "Viking Press"
        ],
        [
         1979,
         "The Dead Zone",
         "Viking Press"
        ],
        [
         1979,
         "The Dead Zone",
         "Viking Press"
        ],
        [
         1979,
         "The Dead Zone",
         "Viking Press"
        ],
        [
         1979,
         "The Dead Zone",
         "Viking Press"
        ],
        [
         1980,
         "Firestarter",
         "Viking Press"
        ],
        [
         1980,
         "Firestarter",
         "Viking Press"
        ],
        [
         1980,
         "Firestarter",
         "Viking Press"
        ],
        [
         1981,
         "Roadwork",
         "Signet Books"
        ],
        [
         1981,
         "Cujo",
         "Viking Press"
        ],
        [
         1982,
         "The Running Man",
         "Signet Books"
        ],
        [
         1982,
         "The Running Man",
         "Signet Books"
        ],
        [
         1982,
         "The Dark Tower: The Gunslinger",
         "Grant"
        ],
        [
         1982,
         "The Dark Tower: The Gunslinger",
         "Grant"
        ],
        [
         1982,
         "The Dark Tower: The Gunslinger",
         "Grant"
        ],
        [
         1982,
         "The Dark Tower: The Gunslinger",
         "Grant"
        ],
        [
         1983,
         "Christine",
         "Viking"
        ],
        [
         1983,
         "Christine",
         "Viking"
        ],
        [
         1983,
         "Pet Sematary",
         "Doubleday"
        ],
        [
         1983,
         "Pet Sematary",
         "Doubleday"
        ],
        [
         1983,
         "Pet Sematary",
         "Doubleday"
        ],
        [
         1983,
         "Pet Sematary",
         "Doubleday"
        ],
        [
         1983,
         "Cycle of the Werewolf",
         "Land of Enchantment"
        ],
        [
         1984,
         "The Talisman",
         "Viking"
        ],
        [
         1984,
         "The Eyes of the Dragon",
         "Philtrum Press (1984)Viking (1987)"
        ],
        [
         1984,
         "Thinner",
         "NAL"
        ],
        [
         1986,
         "It",
         "Viking"
        ],
        [
         1986,
         "It",
         "Viking"
        ],
        [
         1986,
         "It",
         "Viking"
        ],
        [
         1986,
         "It",
         "Viking"
        ],
        [
         1986,
         "It",
         "Viking"
        ],
        [
         1986,
         "It",
         "Viking"
        ],
        [
         1986,
         "It",
         "Viking"
        ],
        [
         1986,
         "It",
         "Viking"
        ],
        [
         1986,
         "It",
         "Viking"
        ],
        [
         1986,
         "It",
         "Viking"
        ],
        [
         1986,
         "It",
         "Viking"
        ],
        [
         1986,
         "It",
         "Viking"
        ],
        [
         1986,
         "It",
         "Viking"
        ],
        [
         1986,
         "It",
         "Viking"
        ],
        [
         1986,
         "It",
         "Viking"
        ],
        [
         1987,
         "The Dark Tower II: The Drawing of the Three",
         "Grant"
        ],
        [
         1987,
         "Misery",
         "Viking"
        ],
        [
         1987,
         "The Tommyknockers",
         "Putnam"
        ],
        [
         1989,
         "The Dark Half",
         "Viking"
        ],
        [
         1990,
         "The Stand Uncut",
         "Doubleday"
        ],
        [
         1991,
         "The Dark Tower III: The Waste Lands",
         "Grant"
        ],
        [
         1991,
         "The Dark Tower III: The Waste Lands",
         "Grant"
        ],
        [
         1991,
         "Needful Things",
         "Viking"
        ],
        [
         1992,
         "Gerald's Game",
         "Viking"
        ],
        [
         1992,
         "Gerald's Game",
         "Viking"
        ],
        [
         1992,
         "Gerald's Game",
         "Viking"
        ],
        [
         1992,
         "Dolores Claiborne",
         "Viking"
        ],
        [
         1994,
         "Insomnia",
         "Viking"
        ],
        [
         1994,
         "Insomnia",
         "Viking"
        ],
        [
         1995,
         "Rose Madder",
         "Viking"
        ],
        [
         1995,
         "Rose Madder",
         "Viking"
        ],
        [
         1996,
         "The Green Mile",
         "Signet Books"
        ],
        [
         1996,
         "The Green Mile",
         "Signet Books"
        ],
        [
         1996,
         "Desperation",
         "Viking"
        ],
        [
         1996,
         "The Regulators",
         "Dutton"
        ],
        [
         1997,
         "The Dark Tower IV: Wizard and Glass",
         "Grant"
        ],
        [
         1997,
         "The Dark Tower IV: Wizard and Glass",
         "Grant"
        ],
        [
         1997,
         "The Dark Tower IV: Wizard and Glass",
         "Grant"
        ],
        [
         1997,
         "The Dark Tower IV: Wizard and Glass",
         "Grant"
        ],
        [
         1997,
         "The Dark Tower IV: Wizard and Glass",
         "Grant"
        ],
        [
         1997,
         "The Dark Tower IV: Wizard and Glass",
         "Grant"
        ],
        [
         1998,
         "Bag of Bones",
         "Scribner"
        ],
        [
         1999,
         "The Girl Who Loved Tom Gordon",
         "Scribner"
        ],
        [
         2001,
         "Dreamcatcher",
         "Scribner"
        ],
        [
         2001,
         "Black House",
         "Random House"
        ],
        [
         2002,
         "From a Buick 8",
         "Scribner"
        ],
        [
         2003,
         "The Dark Tower V: Wolves of the Calla",
         "Grant"
        ],
        [
         2004,
         "The Dark Tower VI: Song of Susannah",
         "Grant"
        ],
        [
         2004,
         "The Dark Tower VII: The Dark Tower",
         "978-1-880-41862-8"
        ],
        [
         2004,
         "The Dark Tower VII: The Dark Tower",
         "978-1-880-41862-8"
        ],
        [
         2004,
         "The Dark Tower VII: The Dark Tower",
         "978-1-880-41862-8"
        ],
        [
         2004,
         "The Dark Tower VII: The Dark Tower",
         "978-1-880-41862-8"
        ],
        [
         2005,
         "The Colorado Kid",
         "Hard Case Crime"
        ],
        [
         2006,
         "Cell",
         "Scribner"
        ],
        [
         2006,
         "Lisey's Story",
         "Scribner"
        ],
        [
         2007,
         "Blaze",
         "Scribner"
        ],
        [
         2008,
         "Duma Key",
         "Scribner"
        ],
        [
         2009,
         "Under the Dome",
         "Scribner"
        ],
        [
         2009,
         "Under the Dome",
         "Scribner"
        ],
        [
         2009,
         "Under the Dome",
         "Scribner"
        ],
        [
         2009,
         "Under the Dome",
         "Scribner"
        ],
        [
         2011,
         "11/22/63",
         "Scribner"
        ],
        [
         2012,
         "The Dark Tower: The Wind Through the Keyhole",
         "Grant"
        ],
        [
         2013,
         "Joyland",
         "Hard Case Crime"
        ],
        [
         2013,
         "Doctor Sleep",
         "Scribner"
        ],
        [
         2014,
         "Mr. Mercedes",
         "Scribner"
        ],
        [
         2014,
         "Revival",
         "Scribner"
        ],
        [
         2015,
         "Finders Keepers",
         "Scribner"
        ],
        [
         2016,
         "End of Watch",
         "Scribner"
        ],
        [
         2017,
         "Gwendy's Button Box",
         "Cemetery Dance Publications"
        ],
        [
         2017,
         "Sleeping Beauties",
         "Scribner"
        ],
        [
         2018,
         "The Outsider",
         "Scribner"
        ],
        [
         2018,
         "Elevation",
         "Scribner"
        ],
        [
         2019,
         "The Institute",
         "Scribner"
        ],
        [
         2021,
         "Later",
         "Hard Case Crime"
        ],
        [
         2021,
         "Billy Summers",
         "Scribner"
        ]
       ],
       "datasetInfos": [],
       "dbfsResultPath": null,
       "isJsonSchema": true,
       "metadata": {},
       "overflow": false,
       "plotOptions": {
        "customPlotOptions": {},
        "displayType": "table",
        "pivotAggregation": null,
        "pivotColumns": null,
        "xColumns": null,
        "yColumns": null
       },
       "removedWidgets": [],
       "schema": [
        {
         "metadata": "{}",
         "name": "ano",
         "type": "\"long\""
        },
        {
         "metadata": "{}",
         "name": "titulo",
         "type": "\"string\""
        },
        {
         "metadata": "{}",
         "name": "editora",
         "type": "\"string\""
        }
       ],
       "type": "table"
      }
     },
     "output_type": "display_data"
    }
   ],
   "source": [
    "%sql\n",
    "SELECT ano,titulo,editora FROM stephenking.books;\n"
   ]
  },
  {
   "cell_type": "code",
   "execution_count": 0,
   "metadata": {
    "application/vnd.databricks.v1+cell": {
     "cellMetadata": {
      "byteLimit": 2048000,
      "implicitDf": true,
      "rowLimit": 10000
     },
     "inputWidgets": {},
     "nuid": "08c5867d-8ffd-4f7d-8c2b-9682670e4750",
     "showTitle": false,
     "tableResultSettingsMap": {},
     "title": ""
    }
   },
   "outputs": [
    {
     "output_type": "display_data",
     "data": {
      "text/html": [
       "<style scoped>\n",
       "  .table-result-container {\n",
       "    max-height: 300px;\n",
       "    overflow: auto;\n",
       "  }\n",
       "  table, th, td {\n",
       "    border: 1px solid black;\n",
       "    border-collapse: collapse;\n",
       "  }\n",
       "  th, td {\n",
       "    padding: 5px;\n",
       "  }\n",
       "  th {\n",
       "    text-align: left;\n",
       "  }\n",
       "</style><div class='table-result-container'><table class='table-result'><thead style='background-color: white'><tr></tr></thead><tbody></tbody></table></div>"
      ]
     },
     "metadata": {
      "application/vnd.databricks.v1+output": {
       "addedWidgets": {},
       "aggData": [],
       "aggError": "",
       "aggOverflow": false,
       "aggSchema": [],
       "aggSeriesLimitReached": false,
       "aggType": "",
       "arguments": {},
       "columnCustomDisplayInfos": {},
       "data": [],
       "datasetInfos": [],
       "dbfsResultPath": null,
       "isJsonSchema": true,
       "metadata": {},
       "overflow": false,
       "plotOptions": {
        "customPlotOptions": {},
        "displayType": "table",
        "pivotAggregation": null,
        "pivotColumns": null,
        "xColumns": null,
        "yColumns": null
       },
       "removedWidgets": [],
       "schema": [],
       "type": "table"
      }
     },
     "output_type": "display_data"
    }
   ],
   "source": [
    "%sql\n",
    "DROP DATABASE stephening CASCADE;"
   ]
  }
 ],
 "metadata": {
  "application/vnd.databricks.v1+notebook": {
   "computePreferences": null,
   "dashboards": [],
   "environmentMetadata": {
    "base_environment": "",
    "client": "1"
   },
   "language": "python",
   "notebookMetadata": {
    "mostRecentlyExecutedCommandWithImplicitDF": {
     "commandId": 2473024550101707,
     "dataframes": [
      "_sqldf"
     ]
    },
    "pythonIndentUnit": 4
   },
   "notebookName": "StephenKing'sBooks",
   "widgets": {}
  }
 },
 "nbformat": 4,
 "nbformat_minor": 0
}
